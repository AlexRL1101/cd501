{
 "cells": [
  {
   "cell_type": "markdown",
   "metadata": {},
   "source": [
    "[![cloudevel](img/cloudevel.png)](https://cloudevel.com)"
   ]
  },
  {
   "cell_type": "markdown",
   "metadata": {},
   "source": [
    "# *Docker Compose*."
   ]
  },
  {
   "cell_type": "markdown",
   "metadata": {},
   "source": [
    "**ADVERTENCIA:**\n",
    "\n",
    "Se da por sentado de que las celdas de los capítulos previos fueron ejecutadas y que existen imágenes cargadas en el sistema."
   ]
  },
  {
   "cell_type": "code",
   "execution_count": null,
   "metadata": {},
   "outputs": [],
   "source": [
    "sudo systemctl stop apache2\n",
    "sudo systemctl status apache2 --no-pager"
   ]
  },
  {
   "cell_type": "markdown",
   "metadata": {},
   "source": [
    "Conforme los contenedores y particularmente Docker se fueron popularizando, las arquitecturas de servicios basadas en contendores se fueron haciendo cada vez más complejas. El alcance de los *dockerfiles* se vio restringido a desplegar unos cuantos contenedores cuando en muchos casos, era necesario crear varios servicios de forma simultánea."
   ]
  },
  {
   "cell_type": "markdown",
   "metadata": {},
   "source": [
    "## *Docker Compose*.\n",
    "\n",
    "[*Docker Compose*](https://github.com/docker/compose/) es un componente que permite definir la estructura y los servicios de un cluster de contenedores a partir del *Docker Engine*.\n",
    "\n",
    "* https://docs.docker.com/compose/"
   ]
  },
  {
   "cell_type": "markdown",
   "metadata": {},
   "source": [
    "### Vesiones de  *Docker Compose*. \n",
    "\n",
    "Al igual que *Docker*, *Docker Compose* ha sufrido una evolución muy acelerada la cual en muchos casos conlleva problemas de compatibilidad con el *Docker Engine*. \n",
    "\n",
    "Las diversas versiones de *Docker Compose* pueden ser consultadas desde:\n",
    "\n",
    "https://github.com/docker/compose/releases"
   ]
  },
  {
   "cell_type": "markdown",
   "metadata": {},
   "source": [
    "### Distribución de *Docker Compose*.\n",
    "\n",
    "*Docker Compose* es un proyecto de código abierto, por lo que el proyecto ofrece los binarios para las platafomas más comunes e incluso las versiones de *Docker Enterprise*, *Docker Desktop* y *Docker Toolbox* ya contienen a *Docker Compose*."
   ]
  },
  {
   "cell_type": "markdown",
   "metadata": {},
   "source": [
    "### Descarga e instalación de *Docker Compose* en *GNU/Linux*.\n",
    "\n",
    "Las siguientes celdas descargarán el binario ejecutable de *Docker Compose* y instalará en el sistema.\n",
    "\n",
    "**Nota:** Es necesario que *Docker* ya se encuentre instalado y funcionando en el sistema."
   ]
  },
  {
   "cell_type": "code",
   "execution_count": null,
   "metadata": {},
   "outputs": [],
   "source": [
    "wget https://github.com/docker/compose/releases/download/v2.22.0/docker-compose-linux-x86_64"
   ]
  },
  {
   "cell_type": "code",
   "execution_count": null,
   "metadata": {},
   "outputs": [],
   "source": [
    "sudo cp docker-compose-linux-x86_64 /usr/bin/docker-compose"
   ]
  },
  {
   "cell_type": "code",
   "execution_count": null,
   "metadata": {},
   "outputs": [],
   "source": [
    "sudo chmod +x /usr/bin/docker-compose"
   ]
  },
  {
   "cell_type": "code",
   "execution_count": null,
   "metadata": {},
   "outputs": [],
   "source": [
    "docker-compose version"
   ]
  },
  {
   "cell_type": "markdown",
   "metadata": {},
   "source": [
    "## Utilización de docker compose.\n",
    "\n",
    "El comando ```docker-compose``` es el componente encargado de desplegar uno o más servicios compuesto por un cluster de contenedores a partir de las especificaciones descritas en un archivo de nombre ```docker-compose.yaml```.\n",
    "\n",
    "```docker-compose <subcomando> <opciones> <argumentos>```"
   ]
  },
  {
   "cell_type": "markdown",
   "metadata": {},
   "source": [
    "### Subcomandos de servicios.\n",
    "\n",
    "* ```build```  construye un servicio a partir de un archivo ```docker-compose.yaml```.\n",
    "* ```config``` valida un archivo ```docker-compose.yaml```.\n",
    "* ```up``` despliega los contendores del servicio.\n",
    "* ```create``` crea un servicio.\n",
    "* ```pause``` pausa un servicio. \n",
    "* ```unpause``` reanuda un sevicio pausado.\n",
    "* ```start``` inicia un servicio.\n",
    "* ```stop```  detiene un serrvicio.\n",
    "* ```restart``` reinicia un servicio.\n",
    "* ```top``` despliega los procesos que se encuentran corriendo.\n",
    "* ```port```  permite ligar los puertos expuestos del servicio.\n",
    "* ```ps``` enlista los contenedores del servicio.\n",
    "* ```pull``` descarga las imágenes requeridas por el servicio.\n",
    "* ```push``` sube a un registry las imágenes de un servicio.\n",
    "* ```run``` permite ejecutar un comando dirigido al servicio."
   ]
  },
  {
   "cell_type": "markdown",
   "metadata": {},
   "source": [
    "### Subcomandos de componentes.\n",
    "\n",
    "* ```down```   detiene y elimina contenedores, redes, imágenes y volúmenes.\n",
    "* ```images``` enlista las imágenes que conforman el cluster de contenedores.\n",
    "* ```kill``` apaga de forma drástica algún contenedor.\n",
    "* ```logs``` despliega las birtácoras de los contenedores.   \n",
    "* ```rm``` elimina contenedores detenidos.\n",
    "* ```scale``` permite definir el número de contenedores que utilizará un servicio.\n",
    "\n",
    "La referencia de estos subcomandos puede ser consultada en:\n",
    "\n",
    "https://docs.docker.com/compose/reference/overview/"
   ]
  },
  {
   "cell_type": "markdown",
   "metadata": {},
   "source": [
    "## El lenguaje de los archivos ```docker-compose.yml```.\n",
    "\n",
    "Los archivos ```docker-compose.yml``` utilizan un lenguaje declarativo basado en *YAML* y los diversos componentes de *Docker* para describir un servicio.\n",
    "\n",
    "La referencia de dicho lenguaje puede ser consultada en:\n",
    "\n",
    "https://docs.docker.com/compose/compose-file/"
   ]
  },
  {
   "cell_type": "markdown",
   "metadata": {},
   "source": [
    "### Ejemplo ilustrativo de un archivo ```docker-compose.yml```."
   ]
  },
  {
   "cell_type": "markdown",
   "metadata": {},
   "source": [
    "``` yaml\n",
    "version: '3'\n",
    "services:\n",
    "    database: \n",
    "        image: mysql\n",
    "        environment: \n",
    "            MYSQL_ROOT_PASSWORD: 0p3n5t4ck\n",
    "    webserver:\n",
    "        image: nginx:alpine\n",
    "        ports:\n",
    "            - 8080:80\n",
    "        depends_on:\n",
    "            - cache\n",
    "            - database\n",
    "    cache:\n",
    "        image: redis\n",
    "```"
   ]
  },
  {
   "cell_type": "code",
   "execution_count": 1,
   "metadata": {},
   "outputs": [],
   "source": [
    "cd src/11"
   ]
  },
  {
   "cell_type": "code",
   "execution_count": null,
   "metadata": {},
   "outputs": [],
   "source": [
    "docker-compose build "
   ]
  },
  {
   "cell_type": "code",
   "execution_count": null,
   "metadata": {
    "scrolled": true
   },
   "outputs": [],
   "source": [
    "docker-compose run webserver"
   ]
  },
  {
   "cell_type": "markdown",
   "metadata": {},
   "source": [
    "### Subcomandos de *Docker Compose*.\n",
    "\n",
    "https://docs.docker.com/compose/reference/overview/"
   ]
  },
  {
   "cell_type": "markdown",
   "metadata": {},
   "source": [
    "<p style=\"text-align: center\"><a rel=\"license\" href=\"http://creativecommons.org/licenses/by/4.0/\"><img alt=\"Licencia Creative Commons\" style=\"border-width:0\" src=\"https://i.creativecommons.org/l/by/4.0/80x15.png\" /></a><br />Esta obra está bajo una <a rel=\"license\" href=\"http://creativecommons.org/licenses/by/4.0/\">Licencia Creative Commons Atribución 4.0 Internacional</a>.</p>\n",
    "<p style=\"text-align: center\">&copy; José Luis Chiquete Valdivieso. 2023.</p>"
   ]
  }
 ],
 "metadata": {
  "kernelspec": {
   "display_name": "Bash",
   "language": "bash",
   "name": "bash"
  },
  "language_info": {
   "codemirror_mode": "shell",
   "file_extension": ".sh",
   "mimetype": "text/x-sh",
   "name": "bash"
  }
 },
 "nbformat": 4,
 "nbformat_minor": 4
}
