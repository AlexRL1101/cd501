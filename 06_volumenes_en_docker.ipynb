{
 "cells": [
  {
   "cell_type": "markdown",
   "metadata": {},
   "source": [
    "[![cloudevel](Imagenes/cloudevel.png)](https://cloudevel.com)"
   ]
  },
  {
   "cell_type": "markdown",
   "metadata": {},
   "source": [
    "# Volúmenes en *Docker*."
   ]
  },
  {
   "cell_type": "markdown",
   "metadata": {},
   "source": [
    "## El sistema de archivos de un contenedor."
   ]
  },
  {
   "cell_type": "markdown",
   "metadata": {},
   "source": [
    "Los contenedores de *Docker* utilizan el sisntea de archivos [*UnionFS*](https://www.gnu.org/software/hurd/hurd/translator/unionfs.html), el cual permite superponer \"capas\" de escritura sobre una imagen, de tal modo que la imagen original a partir de la que el contenedor fue creado queda intacta y cada operación de escritura ya sea un cambio, eliminación o creación de archivos representa una capa nueva, la cual sobreescribe al archivo de la capa inferior.\n",
    "\n",
    "Cada capa del contenedor tiene un identificador que permite seguir de forma pormenorizada la historia de operaciones de escritura de un contenedor.\n",
    "\n",
    "A cada contenedor se le asigna un espacio de almacenamiento propio, el cual es un volumen."
   ]
  },
  {
   "cell_type": "markdown",
   "metadata": {},
   "source": [
    "## Controladores de volúmenes.\n",
    "\n",
    "Con la finalidad de que los contenedores pueda interactuar con los sistemas de almacenamiento de datos externos, se han desarrollado diversos controladores (drivers) para acceder a dichos sistemas de archivos.\n",
    "\n",
    "La referencia a dichos drivers puede ser consultada en:\n",
    "\n",
    "https://docs.docker.com/storage/storagedriver/select-storage-driver/#supported-backing-filesystems"
   ]
  },
  {
   "cell_type": "markdown",
   "metadata": {},
   "source": [
    "## Opciones de montaje de volúmenes.\n",
    "\n",
    "El comando ```docker run``` permite dos opciones de montaje:\n",
    "\n",
    "* ```--volume``` o ```-v```, el cual se utiliza para correr un solo contenedor.\n",
    "* ```--mount``` o ```-m```. el cual se utiliza para correr uno o varios contenedores. \n",
    "\n",
    "La opción ```--mount``` se utilizaba originalmente para levantar \"enjambres\" (swarms) de contenedores y servicios complejos, pero en versiones recientes de *Docker* es posible usarla para la creación de un solo contenedor.\n",
    "\n",
    "El uso de la opción mount se explorará más adelante en el capítulo dedicado a servicios.\n",
    "\n",
    "Una discusión sobre el uso de cada opción puede ser consultado en:\n",
    "\n",
    "https://docs.docker.com/storage/volumes/#choose-the--v-or---mount-flag"
   ]
  },
  {
   "cell_type": "markdown",
   "metadata": {},
   "source": [
    "## El comando ```docker volume```.\n",
    "\n",
    "*Docker* tiene la capacida de definir y gestionar directorios que pueden ser aprovechados por uno o más contenedores. A cada directorio se le conoce como \"volumen\" y cada volumen se localiza dentro del directorio de volúmenes de *Docker*, generalmente en ```/var/lib/docker/volumes/```.\n",
    "\n",
    "Este comando permite realizar operaciones de gestión de volúmenes, los cuales pueden ser aprovechados por uno o por varios contenedores.\n",
    "\n",
    "``` \n",
    "docker volume <subcomandos> <opciones>\n",
    "```\n",
    "\n",
    "La documentación de ```docker volume ``` está disponible en:\n",
    "\n",
    "https://docs.docker.com/engine/reference/commandline/volume/"
   ]
  },
  {
   "cell_type": "markdown",
   "metadata": {},
   "source": [
    "### El comando ```docker volume create```.\n",
    "\n",
    "Este comando permite definir y nombrar un volumen, el cual puede ser utilizado por uno o varios contenedores.\n",
    "\n",
    "```\n",
    "docker volume create <opciones>\n",
    "```\n",
    "\n",
    "Las opciones son:\n",
    "\n",
    "* ```--driver``` o ```-d``` cuyo valor por defecto es ```local```.\n",
    "* ```--name``` la cual le asigna un nombre al volumen mediante el cual puede ser referenciado.\n",
    "* ```--options``` la cual permite definir diversas opciones relacionadas con el controlador del volumen.\n",
    "* ```--labels``` la cual permite definir metadatos del volumen.\n",
    "\n",
    "La documentación de este comando está disponible en:\n",
    "\n",
    "https://docs.docker.com/engine/reference/commandline/volume_create/"
   ]
  },
  {
   "cell_type": "markdown",
   "metadata": {},
   "source": [
    "**Ejemplo:**"
   ]
  },
  {
   "cell_type": "code",
   "execution_count": 2,
   "metadata": {
    "scrolled": true
   },
   "outputs": [
    {
     "name": "stdout",
     "output_type": "stream",
     "text": [
      "mi_volumen\n"
     ]
    }
   ],
   "source": [
    "sudo docker volume create --name=mi_volumen"
   ]
  },
  {
   "cell_type": "markdown",
   "metadata": {},
   "source": [
    "### El comando ```docker volume ls```.\n",
    "\n",
    "Este comando permite desplegar el listado de volumenes existenes.\n",
    "\n",
    "```\n",
    "docker volume ls\n",
    "```\n",
    "\n",
    "La documentación de este comando está disponible en:\n",
    "\n",
    "https://docs.docker.com/engine/reference/commandline/volume_ls"
   ]
  },
  {
   "cell_type": "markdown",
   "metadata": {},
   "source": [
    "**Ejemplo:**"
   ]
  },
  {
   "cell_type": "code",
   "execution_count": 3,
   "metadata": {},
   "outputs": [
    {
     "name": "stdout",
     "output_type": "stream",
     "text": [
      "DRIVER    VOLUME NAME\n",
      "local     2ce89e47c5be2f4330beec4c3f97bdfd7cf96b9cf39bb5cfb05c3ce5b86bd12f\n",
      "local     7c4158c45b1cc88e3087f055afe1dcc4f2134af87a3dc6a03f29083ca3b234c2\n",
      "local     9ab45f5462f9868dc8a093c2447b93339cb6e68dac4c5e79bd46053bf573daf6\n",
      "local     02833c45b960e24ad11d3b046c6ebaef708ad4188f808b54eca880bc3f35f25b\n",
      "local     64993a1b10fad940f8dc527e9fed4116fea1e9db949e8ec6b5ca347305c126d2\n",
      "local     bf4a2c52bf0a94081ca10e29d3c2c1da47c2bc01e95319e0a4715ecd263c6cd8\n",
      "local     cfdb548a9d291f4cbbf87543cc52b1de6b6f38f1bcb75d1d3750bef378b77b8d\n",
      "local     ee0b69beee4ca0a37c487529e5a3b8d6e41b99d745ccb486a0f4460a2aa98ee1\n",
      "local     mi_volumen\n",
      "local     webroot\n"
     ]
    }
   ],
   "source": [
    "sudo docker volume ls"
   ]
  },
  {
   "cell_type": "markdown",
   "metadata": {},
   "source": [
    "### El comando ```docker volume inspect```.\n",
    "\n",
    "Este comando permite acceder a la información de un volumen.\n",
    "\n",
    "```\n",
    "docker volume inspect <volumen>\n",
    "```\n",
    "\n",
    "La documentación de este comando está disponible en:\n",
    "\n",
    "https://docs.docker.com/engine/reference/commandline/volume_inspect"
   ]
  },
  {
   "cell_type": "markdown",
   "metadata": {},
   "source": [
    "**Ejemplo:**"
   ]
  },
  {
   "cell_type": "code",
   "execution_count": 4,
   "metadata": {
    "scrolled": true
   },
   "outputs": [
    {
     "name": "stdout",
     "output_type": "stream",
     "text": [
      "[\n",
      "    {\n",
      "        \"CreatedAt\": \"2021-08-05T19:44:50-05:00\",\n",
      "        \"Driver\": \"local\",\n",
      "        \"Labels\": {},\n",
      "        \"Mountpoint\": \"/var/lib/docker/volumes/mi_volumen/_data\",\n",
      "        \"Name\": \"mi_volumen\",\n",
      "        \"Options\": {},\n",
      "        \"Scope\": \"local\"\n",
      "    }\n",
      "]\n"
     ]
    }
   ],
   "source": [
    "sudo docker volume inspect mi_volumen"
   ]
  },
  {
   "cell_type": "markdown",
   "metadata": {},
   "source": [
    "### El comando ```docker volume rm```.\n",
    "\n",
    "Este comando permite eliminar un volumen existenes.\n",
    "\n",
    "```\n",
    "docker volume rm <dentificador>\n",
    "```\n",
    "\n",
    "La documentación de este comando está disponible en:\n",
    "\n",
    "https://docs.docker.com/engine/reference/commandline/volume_rm"
   ]
  },
  {
   "cell_type": "markdown",
   "metadata": {},
   "source": [
    "**Ejemplo:**"
   ]
  },
  {
   "cell_type": "code",
   "execution_count": 5,
   "metadata": {},
   "outputs": [
    {
     "name": "stdout",
     "output_type": "stream",
     "text": [
      "mi_volumen\n"
     ]
    }
   ],
   "source": [
    "sudo docker volume rm mi_volumen"
   ]
  },
  {
   "cell_type": "code",
   "execution_count": 6,
   "metadata": {
    "scrolled": true
   },
   "outputs": [
    {
     "name": "stdout",
     "output_type": "stream",
     "text": [
      "DRIVER    VOLUME NAME\n",
      "local     2ce89e47c5be2f4330beec4c3f97bdfd7cf96b9cf39bb5cfb05c3ce5b86bd12f\n",
      "local     7c4158c45b1cc88e3087f055afe1dcc4f2134af87a3dc6a03f29083ca3b234c2\n",
      "local     9ab45f5462f9868dc8a093c2447b93339cb6e68dac4c5e79bd46053bf573daf6\n",
      "local     02833c45b960e24ad11d3b046c6ebaef708ad4188f808b54eca880bc3f35f25b\n",
      "local     64993a1b10fad940f8dc527e9fed4116fea1e9db949e8ec6b5ca347305c126d2\n",
      "local     bf4a2c52bf0a94081ca10e29d3c2c1da47c2bc01e95319e0a4715ecd263c6cd8\n",
      "local     cfdb548a9d291f4cbbf87543cc52b1de6b6f38f1bcb75d1d3750bef378b77b8d\n",
      "local     ee0b69beee4ca0a37c487529e5a3b8d6e41b99d745ccb486a0f4460a2aa98ee1\n",
      "local     webroot\n"
     ]
    }
   ],
   "source": [
    "sudo docker volume ls"
   ]
  },
  {
   "cell_type": "markdown",
   "metadata": {},
   "source": [
    "### El comando ```docker volume prune```.\n",
    "\n",
    "Este comando permite eliminar aquellos volúmenes que no estén en uso.\n",
    "\n",
    "```\n",
    "docker volume prune\n",
    "```\n",
    "\n",
    "La documentación de este comando está disponible en:\n",
    "\n",
    "https://docs.docker.com/engine/reference/commandline/volume_prune"
   ]
  },
  {
   "cell_type": "markdown",
   "metadata": {},
   "source": [
    "**Ejemplo:**"
   ]
  },
  {
   "cell_type": "markdown",
   "metadata": {},
   "source": [
    "Desde una terminal ejecute los comando:\n",
    "\n",
    "```\n",
    "sudo docker volume prune\n",
    "sudo docker volume ls\n",
    "```"
   ]
  },
  {
   "cell_type": "markdown",
   "metadata": {},
   "source": [
    "<p style=\"text-align: center\"><a rel=\"license\" href=\"http://creativecommons.org/licenses/by/4.0/\"><img alt=\"Licencia Creative Commons\" style=\"border-width:0\" src=\"https://i.creativecommons.org/l/by/4.0/80x15.png\" /></a><br />Esta obra está bajo una <a rel=\"license\" href=\"http://creativecommons.org/licenses/by/4.0/\">Licencia Creative Commons Atribución 4.0 Internacional</a>.</p>\n",
    "<p style=\"text-align: center\">&copy; José Luis Chiquete Valdivieso. 2020.</p>"
   ]
  }
 ],
 "metadata": {
  "kernelspec": {
   "display_name": "Bash",
   "language": "bash",
   "name": "bash"
  },
  "language_info": {
   "codemirror_mode": "shell",
   "file_extension": ".sh",
   "mimetype": "text/x-sh",
   "name": "bash"
  }
 },
 "nbformat": 4,
 "nbformat_minor": 2
}
