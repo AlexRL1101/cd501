{
 "cells": [
  {
   "cell_type": "markdown",
   "metadata": {},
   "source": [
    "[![cloudevel](Imagenes/cloudevel.png)](https://cloudevel.com)"
   ]
  },
  {
   "cell_type": "markdown",
   "metadata": {},
   "source": [
    "Es posible realizar diversas operaciones de gestión de contenedores mediante el subcomando ```docker container```.\n",
    "\n",
    "Para mayor referencia se puede consultar: https://docs.docker.com/engine/reference/commandline/container/"
   ]
  },
  {
   "cell_type": "markdown",
   "metadata": {},
   "source": [
    "## Contenedores de ejemplo.\n",
    "\n",
    "Para ilustrar las funciones de gestión de conteneedores se utiluzarán diversas imágenes.\n",
    "\n",
    "A continuación se crearán varios contenedores.\n",
    "\n",
    "**Advertencia:** Asegúrese de haber creado la imagen *nginx_image* del capítulo de la notebook [03_dockerfile.ipynb](03_dockerfile.ipynb)."
   ]
  },
  {
   "cell_type": "markdown",
   "metadata": {},
   "source": [
    "* Antes que nada es necesario asegurarse de que no existan contenedores en el sistema, por lo que las siguientes celdas los detendrán y eliminarán.\n",
    "* En el caso de que no existan contenedores, las celdas enviarán un mensaje de error."
   ]
  },
  {
   "cell_type": "code",
   "execution_count": null,
   "metadata": {},
   "outputs": [],
   "source": [
    "sudo docker stop $(sudo docker ps -a -q)"
   ]
  },
  {
   "cell_type": "code",
   "execution_count": null,
   "metadata": {
    "scrolled": true
   },
   "outputs": [],
   "source": [
    "sudo docker rm $(sudo docker ps -a -q)"
   ]
  },
  {
   "cell_type": "markdown",
   "metadata": {},
   "source": [
    "* Ahora se crearán 6 contendores y 4 de ellos estarán en ejecución."
   ]
  },
  {
   "cell_type": "code",
   "execution_count": null,
   "metadata": {
    "scrolled": true
   },
   "outputs": [],
   "source": [
    "sudo docker run -d -v webroot:/var/www/html -p 80:80 --name servidor nginx_image\n",
    "sudo docker run -dti --name ubuntu-1 ubuntu /bin/bash\n",
    "sudo docker run -dti --name ubuntu-2 ubuntu /bin/bash\n",
    "sudo docker run -dti --name ubuntu-3 ubuntu /bin/bash\n",
    "sudo docker run --name ubuntu-4 ubuntu echo \"Hola\"\n",
    "sudo docker run --name ubuntu-5 ubuntu echo \"Hola otra vez\""
   ]
  },
  {
   "cell_type": "markdown",
   "metadata": {},
   "source": [
    "* Se puede apreciar que existen 4 contenedores ejecutándose.\n",
    "    * *servidor*.\n",
    "    * *ubuntu-1*.\n",
    "    * *ubuntu-2*.\n",
    "    * *ubuntu-3*."
   ]
  },
  {
   "cell_type": "code",
   "execution_count": null,
   "metadata": {
    "scrolled": true
   },
   "outputs": [],
   "source": [
    "sudo docker ps"
   ]
  },
  {
   "cell_type": "markdown",
   "metadata": {},
   "source": [
    "* Tamnbién se puede apreciar que existen en total 6 contenedores ejecutándose.\n",
    "\n",
    "* Se puede apreciar que existen 4 contenedores ejecutándose.\n",
    "    * *servidor*.\n",
    "    * *ubuntu-1*.\n",
    "    * *ubuntu-2*.\n",
    "    * *ubuntu-3*.\n",
    "    * *ubuntu-4*.\n",
    "    * *ubuntu-5*."
   ]
  },
  {
   "cell_type": "code",
   "execution_count": null,
   "metadata": {
    "scrolled": true
   },
   "outputs": [],
   "source": [
    "sudo docker ps -a"
   ]
  },
  {
   "cell_type": "markdown",
   "metadata": {},
   "source": [
    "## Obteniendo información."
   ]
  },
  {
   "cell_type": "markdown",
   "metadata": {},
   "source": [
    "### El comando ```docker container ls```."
   ]
  },
  {
   "cell_type": "markdown",
   "metadata": {},
   "source": [
    "El comando ```docker container ls``` regresa un listado de los contenedores de un sistema.\n",
    "\n",
    "https://docs.docker.com/engine/reference/commandline/container_ls/"
   ]
  },
  {
   "cell_type": "code",
   "execution_count": null,
   "metadata": {
    "scrolled": false
   },
   "outputs": [],
   "source": [
    "sudo docker container ls"
   ]
  },
  {
   "cell_type": "code",
   "execution_count": null,
   "metadata": {},
   "outputs": [],
   "source": [
    "sudo docker container ls"
   ]
  },
  {
   "cell_type": "code",
   "execution_count": null,
   "metadata": {
    "scrolled": true
   },
   "outputs": [],
   "source": [
    "sudo docker container ls -a"
   ]
  },
  {
   "cell_type": "code",
   "execution_count": null,
   "metadata": {},
   "outputs": [],
   "source": [
    "sudo docker container ls --filter name=ubuntu*"
   ]
  },
  {
   "cell_type": "markdown",
   "metadata": {},
   "source": [
    "### El comando ```docker container inspect```.\n",
    "\n",
    "Este comando despliega los detalles en formato JSON de uno o más contenedores.\n",
    "\n",
    "https://docs.docker.com/engine/reference/commandline/container_inspect/"
   ]
  },
  {
   "cell_type": "code",
   "execution_count": null,
   "metadata": {
    "scrolled": true
   },
   "outputs": [],
   "source": [
    "sudo docker container inspect servidor"
   ]
  },
  {
   "cell_type": "markdown",
   "metadata": {},
   "source": [
    "### El comando ```docker container logs```.\n",
    "\n",
    "Este comando despliega la bitácora de uno o más contenedores.\n",
    "\n",
    "https://docs.docker.com/engine/reference/commandline/container_logs/"
   ]
  },
  {
   "cell_type": "code",
   "execution_count": null,
   "metadata": {
    "scrolled": true
   },
   "outputs": [],
   "source": [
    "sudo docker container logs servidor"
   ]
  },
  {
   "cell_type": "markdown",
   "metadata": {},
   "source": [
    "### El comando ```docker container port```.\n",
    "\n",
    "Este comando despliega el mapeo de puertos de uno o más contenedores.\n",
    "\n",
    "https://docs.docker.com/engine/reference/commandline/container_port/"
   ]
  },
  {
   "cell_type": "code",
   "execution_count": null,
   "metadata": {
    "scrolled": false
   },
   "outputs": [],
   "source": [
    "sudo docker container port servidor"
   ]
  },
  {
   "cell_type": "markdown",
   "metadata": {},
   "source": [
    "### El comando ```docker container top```.\n",
    "\n",
    "Este comando despliega los procesos ejecutándose al momento en un contenedor.\n",
    "\n",
    "https://docs.docker.com/engine/reference/commandline/container_top/\n",
    "\n",
    "**Ejemplo: **"
   ]
  },
  {
   "cell_type": "code",
   "execution_count": null,
   "metadata": {
    "scrolled": true
   },
   "outputs": [],
   "source": [
    "sudo docker container top servidor"
   ]
  },
  {
   "cell_type": "markdown",
   "metadata": {},
   "source": [
    "### El comando ```docker container stats```.\n",
    "\n",
    "Este comando despliega las estadísticas de uso de un contenedor de forma contínua.\n",
    "https://docs.docker.com/engine/reference/commandline/container_stats/\n",
    "\n",
    "**Ejemplo: **\n",
    "\n",
    "Ejecute el siguiente comando desde una terminal.\n",
    "\n",
    "```sudo docker container stats servidor```"
   ]
  },
  {
   "cell_type": "markdown",
   "metadata": {},
   "source": [
    "### El comando ```docker container diff```.\n",
    "\n",
    "Este comando despliega los cambios ocurridos en un contenedor desde su creación.\n",
    "https://docs.docker.com/engine/reference/commandline/container_diff/\n",
    "\n",
    "**Ejemplo: **"
   ]
  },
  {
   "cell_type": "code",
   "execution_count": null,
   "metadata": {},
   "outputs": [],
   "source": [
    "sudo docker container diff servidor"
   ]
  },
  {
   "cell_type": "markdown",
   "metadata": {},
   "source": [
    "<p style=\"text-align: center\"><a rel=\"license\" href=\"http://creativecommons.org/licenses/by/4.0/\"><img alt=\"Licencia Creative Commons\" style=\"border-width:0\" src=\"https://i.creativecommons.org/l/by/4.0/80x15.png\" /></a><br />Esta obra está bajo una <a rel=\"license\" href=\"http://creativecommons.org/licenses/by/4.0/\">Licencia Creative Commons Atribución 4.0 Internacional</a>.</p>\n",
    "<p style=\"text-align: center\">&copy; José Luis Chiquete Valdivieso. 2018.</p>"
   ]
  }
 ],
 "metadata": {
  "kernelspec": {
   "display_name": "Bash",
   "language": "bash",
   "name": "bash"
  },
  "language_info": {
   "codemirror_mode": "shell",
   "file_extension": ".sh",
   "mimetype": "text/x-sh",
   "name": "bash"
  }
 },
 "nbformat": 4,
 "nbformat_minor": 2
}
