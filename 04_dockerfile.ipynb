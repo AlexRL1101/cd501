{
 "cells": [
  {
   "cell_type": "markdown",
   "metadata": {},
   "source": [
    "[![cloudevel](img/cloudevel.png)](https://cloudevel.com)"
   ]
  },
  {
   "cell_type": "markdown",
   "metadata": {},
   "source": [
    "# El archivo ```Dockerfile```"
   ]
  },
  {
   "cell_type": "markdown",
   "metadata": {},
   "source": [
    "*Docker* nos permite crear nuestras propias imágenes contenedores mediante el uso de un archivo de configuración llamado ``Dockerfile``. Este archivo es un *script*, el cual permite crear una imagen de contenedor a partir de otra y realizar diversas operaciones con este.\n",
    "\n",
    "* https://docs.docker.com/engine/reference/builder/"
   ]
  },
  {
   "cell_type": "markdown",
   "metadata": {},
   "source": [
    "## Comandos de ```Dockerfile```"
   ]
  },
  {
   "cell_type": "markdown",
   "metadata": {},
   "source": [
    "* ```FROM``` Es el comando que importa la imagen base a partir de la cual se creará la nueva imagen.\n",
    "* ```USER``` Define la UID del usuario que será utilizado.\n",
    "* ```VOLUME``` Liga a un directorio local con el contenedor.\n",
    "* ```RUN``` La cual ejecuta diversos comandos al momento de la creación del contenedor.\n",
    "* ```COPY``` Copia un archivo del sistema de archivos local al sistema de archivos de la imagen.\n",
    "* ```ENV``` Define variables de entorno.\n",
    "* ```CMD``` Ejecuta comandos al momento de instanciar un contenedor a partir de la imagen.\n",
    "* ```ENTRYPOINT``` Define el comando que se utilizará por defecto al ejecutar un contenedor instanciado de la imagen.\n",
    "* ```WORKDIR``` Define el directorio de trabajo dentro del contenedor.\n",
    "* ```EXPOSE``` define el reenvío de puertos."
   ]
  },
  {
   "cell_type": "markdown",
   "metadata": {},
   "source": [
    "## Construcción de una imagen a partir de un archivo ```Dockerfile```.\n",
    "\n",
    "Para crear una imagen se utiliza el comando ```docker build``` de la siguiente forma:\n",
    "\n",
    "```docker build -t <nombre de la imagen> <directorio de la Dockerfile>```\n",
    "\n",
    "* https://docs.docker.com/engine/reference/commandline/build/"
   ]
  },
  {
   "cell_type": "markdown",
   "metadata": {},
   "source": [
    "## Ejemplo ilustrativo.\n",
    "\n",
    "A continuación se muestra un archivo ```Dockerfie``` el cual define los paso necesarios para construir un contendor que incluye un servicio basado en [*Nginx*](https://nginx.org/) el cual es gestionado mediante el daemon [*supervisord*](http://supervisord.org/). Además de dicho archivo se msotrarán los archivos:\n",
    "\n",
    "* ```default```, el cual contiene la configuración genérica de un servidor *Nnginx*.\n",
    "* ```supervisord```, el cual contiene la configuración de *supervisord*."
   ]
  },
  {
   "cell_type": "markdown",
   "metadata": {},
   "source": [
    "### El archivo ```Dockerfile```.\n",
    "\n",
    "* El archivo localizado en [```src/04/Dockerfile```](src4/Dockerfile) define lo siguiente:\n",
    "\n",
    "* Se usará la imagen ```ubuntu:20.04``` como la base de la nueva imagen.\n",
    "* Se actualizarán los paquetes del sistema.\n",
    "* Se instalarán los paquetes relacionados con *Nginx*, *supervisrod* y *PHP*.\n",
    "* Se definirán las variables de entorno:\n",
    "    * ```nginx_vhost``` apuntando al archivo de configuración del servicio basado en *Nginx* localizado en ```/etc/nginx/sites-available/default``` dentro del contenedor.\n",
    "    *  ```php_conf``` apuntando al archivo de configuraciónde *PHP* localizado en ```/etc/php/7.4/fpm/php.ini```.\n",
    "    * ```nginx_conf``` apuntando al archivo de configuración general de *Nginx* que apunta  a ```/etc/nginx/nginx.conf``` dentro del contenedor.\n",
    "    * ```supervisor_conf``` apuntando al archivo de configuración de *supervisord* localizado en ```/etc/supervisor/supervisord.conf``` dentro del contenedor.\n",
    "* Se copiará el archivo ```default``` localizado en el mismo directorio donde se encuentra el archivo ```Dockerfile```  en la localización indicada por la variable de entorno ```nginx_vhost```.\n",
    "* Se añadirán algunos parámetros al archivo al que apunta la variable de entorno ```nginx_conf```.\n",
    "* Se copiará el archivo ```supervisord.conf``` localizado en el mismo directorio donde se encuentra el archivo ```Dockerfile``` en la localización indicada por la variable de entorno ```supervisor_conf```.\n",
    "* Se creará el directorio ```/run/php``` dentro del contenedor.\n",
    "* Se definirá la propiedad de los directorios ```var/www/html``` y ```/run/php``` a favor del usuario y el grupo al que pertenece el servidor web.\n",
    "* Expone los siguientes directorios para que puedan ser ligador a un directorio externo mediante la opción ```--volume``` de ```docker run```. \n",
    "    * ```/etc/nginx/sites-enabled```\n",
    "    * ```/etc/nginx/certs```\n",
    "    * ```/etc/nginx/conf.d```\n",
    "    * ```/var/log/nginx```\n",
    "    * ```/var/www/html```\n",
    "* Copia al archivo ```script.sh``` localizado en el mismo directorio donde se encuentra el archivo ```Dockerfile```  en la raíz del sistema.\n",
    "* Define al script ```/start.sh``` como el comando que se ejecutará al instanciar la imagen resultante.\n",
    "* Expone los puertos ```80```y ```443``` para que puedan ser reenviados mediante la opción ```-ports```\n",
    " de ```docker run```.\n",
    " \n",
    "``` bash\n",
    "#Descarga la imagen\n",
    "FROM ubuntu:20.04\n",
    "\n",
    "# Actualiza el sistema\n",
    "RUN apt-get update\n",
    "\n",
    "# Instala nginx, php-fpm y supervisord\n",
    "RUN apt-get install -y nginx php7.4 php7.4-fpm supervisor && \\\n",
    "    rm -rf /var/lib/apt/lists/*\n",
    "\n",
    "#Define las variables de entorno\n",
    "ENV nginx_vhost /etc/nginx/sites-available/default\n",
    "ENV php_conf /etc/php/7.4/fpm/php.ini\n",
    "ENV nginx_conf /etc/nginx/nginx.conf\n",
    "ENV supervisor_conf /etc/supervisor/supervisord.conf\n",
    "\n",
    "# habilita la configuración del servidor virtual de php-fpm en nginx\n",
    "COPY default ${nginx_vhost}\n",
    "RUN sed -i -e 's/;cgi.fix_pathinfo=1/cgi.fix_pathinfo=0/g' ${php_conf} && \\\n",
    "    echo \"\\ndaemon off;\" >> ${nginx_conf}\n",
    "\n",
    "#Copia la configuración del supervisor\n",
    "COPY supervisord.conf ${supervisor_conf}\n",
    "\n",
    "RUN mkdir -p /run/php && \\\n",
    "    chown -R www-data:www-data /var/www/html && \\\n",
    "    chown -R www-data:www-data /run/php\n",
    "\n",
    "# Configura el volumen de almacenamiento\n",
    "VOLUME [\"/etc/nginx/sites-enabled\", \"/etc/nginx/certs\", \"/etc/nginx/conf.d\", \"/var/log/nginx\", \"/var/www/html\"]\n",
    "\n",
    "# Configura los servicios y los puertos \n",
    "COPY start.sh /start.sh\n",
    "CMD [\"./start.sh\"]\n",
    "\n",
    "EXPOSE 80 443\n",
    "```"
   ]
  },
  {
   "cell_type": "markdown",
   "metadata": {},
   "source": [
    "### El archivo ```default```.\n",
    "\n",
    "El archivo [src/04/default]([src/04/default) contiene la configuración genérica de un servicio basado en *Nginx*. \n",
    "\n",
    "Cabe hacer notar que el directorio raíz del servicio es ```/var/www/html```.\n",
    "\n",
    "``` json\n",
    "server {\n",
    "    listen 80 default_server;\n",
    "    listen [::]:80 default_server;\n",
    " \n",
    "    root /var/www/html;\n",
    "    index index.html index.htm index.nginx-debian.html;\n",
    " \n",
    "    server_name _;\n",
    " \n",
    "    location / {\n",
    "        try_files $uri $uri/ =404;\n",
    "    }\n",
    " \n",
    "    location ~ \\.php$ {\n",
    "        include snippets/fastcgi-php.conf;\n",
    "        fastcgi_pass unix:/run/php/php7.4-fpm.sock;\n",
    "    }\n",
    " \n",
    "    # deny access to .htaccess files, if Apache's document root\n",
    "    # concurs with nginx's one\n",
    "    #\n",
    "    #location ~ /\\.ht {\n",
    "    #    deny all;\n",
    "    #}\n",
    "}\n",
    "```"
   ]
  },
  {
   "cell_type": "markdown",
   "metadata": {},
   "source": [
    "### El archivo ```supervisord```.\n",
    "\n",
    "* El archivo [src/4/supervisord](src/4/supervisord) contiene la configuración del daemon ```supervisor```.\n",
    "\n",
    "```\n",
    "[unix_http_server]\n",
    "file=/dev/shm/supervisor.sock   ; (the path to the socket file)\n",
    " \n",
    "[supervisord]\n",
    "logfile=/var/log/supervisord.log ; (main log file;default $CWD/supervisord.log)\n",
    "logfile_maxbytes=50MB        ; (max main logfile bytes b4 rotation;default 50MB)\n",
    "logfile_backups=10           ; (num of main logfile rotation backups;default 10)\n",
    "loglevel=info                ; (log level;default info; others: debug,warn,trace)\n",
    "pidfile=/tmp/supervisord.pid ; (supervisord pidfile;default supervisord.pid)\n",
    "nodaemon=false               ; (start in foreground if true;default false)\n",
    "minfds=1024                  ; (min. avail startup file descriptors;default 1024)\n",
    "minprocs=200                 ; (min. avail process descriptors;default 200)\n",
    "user=root             ;\n",
    " \n",
    "; the below section must remain in the config file for RPC\n",
    "; (supervisorctl/web interface) to work, additional interfaces may be\n",
    "; added by defining them in separate rpcinterface: sections\n",
    "[rpcinterface:supervisor]\n",
    "supervisor.rpcinterface_factory = supervisor.rpcinterface:make_main_rpcinterface\n",
    " \n",
    "[supervisorctl]\n",
    "serverurl=unix:///dev/shm/supervisor.sock ; use a unix:// URL  for a unix socket\n",
    " \n",
    "; The [include] section can just contain the \"files\" setting.  This\n",
    "; setting can list multiple files (separated by whitespace or\n",
    "; newlines).  It can also contain wildcards.  The filenames are\n",
    "; interpreted as relative to this file.  Included files *cannot*\n",
    "; include files themselves.\n",
    " \n",
    "[include]\n",
    "files = /etc/supervisor/conf.d/*.conf\n",
    " \n",
    " \n",
    "[program:php-fpm7.0]\n",
    "command=/usr/sbin/php-fpm7.4 -F\n",
    "numprocs=1\n",
    "autostart=true\n",
    "autorestart=true\n",
    " \n",
    "[program:nginx]\n",
    "command=/usr/sbin/nginx\n",
    "numprocs=1\n",
    "autostart=true\n",
    "autorestart=true\n",
    "```"
   ]
  },
  {
   "cell_type": "markdown",
   "metadata": {},
   "source": [
    "### El script ```start.sh```.\n",
    "\n",
    "* El archivo [src/4/start.sh](src/4/supervisord) tiene permisos de ejecución y contiene lo siguiente:\n",
    "\n",
    "```\n",
    "#!/bin/sh\n",
    " \n",
    "/usr/bin/supervisord -n -c /etc/supervisor/supervisord.conf\n",
    "```"
   ]
  },
  {
   "cell_type": "markdown",
   "metadata": {},
   "source": [
    "### Creación de una imagen a partir del archivo ```Dockerfile```."
   ]
  },
  {
   "cell_type": "markdown",
   "metadata": {},
   "source": [
    "* El shell de esta notebook se moverá al sudirectorio ```src```."
   ]
  },
  {
   "cell_type": "code",
   "execution_count": null,
   "metadata": {},
   "outputs": [],
   "source": [
    "%cd src/04"
   ]
  },
  {
   "cell_type": "markdown",
   "metadata": {},
   "source": [
    "* Se ejecutará el comando ```docker build``` para crear la imagen con nombre ```nginx_image``` a partir del archivo ```Dockerfile``` que se encuentra en el directorio actual."
   ]
  },
  {
   "cell_type": "code",
   "execution_count": null,
   "metadata": {},
   "outputs": [],
   "source": [
    "!ls Dockerfile"
   ]
  },
  {
   "cell_type": "code",
   "execution_count": null,
   "metadata": {},
   "outputs": [],
   "source": [
    "!docker build -t nginx_image ."
   ]
  },
  {
   "cell_type": "code",
   "execution_count": null,
   "metadata": {
    "scrolled": true
   },
   "outputs": [],
   "source": [
    "!docker images"
   ]
  },
  {
   "cell_type": "markdown",
   "metadata": {},
   "source": [
    "### Creación de un contenedor a partir de la nueva imagen."
   ]
  },
  {
   "cell_type": "markdown",
   "metadata": {},
   "source": [
    "* Se creará el subdirectorio ```webroot```."
   ]
  },
  {
   "cell_type": "code",
   "execution_count": null,
   "metadata": {
    "scrolled": true
   },
   "outputs": [],
   "source": [
    "!mkdir webroot"
   ]
  },
  {
   "cell_type": "markdown",
   "metadata": {},
   "source": [
    "* Se detendrá al servidor *Apache* que se encuentra corriendo en la máquina virtual porporcionada por Cloudevel®."
   ]
  },
  {
   "cell_type": "code",
   "execution_count": null,
   "metadata": {},
   "outputs": [],
   "source": [
    "!sudo systemctl stop apache2\n",
    "!sudo systemctl status apache2 --no-pager"
   ]
  },
  {
   "cell_type": "markdown",
   "metadata": {},
   "source": [
    "* Se creará un contenedor instanciado de ```nginx_image``` con las siguientes características:\n",
    "    * Ligará al subdirectorio ```webroot``` con el directorio ```/var/www/html``` del contenedor.\n",
    "    * Definirá un reenvío de puertos del puerto ```80``` del contenedor al puerto ```80``` de la máquina virtual.\n",
    "    * El nuevo contenedor tendrá el nombre ```servidor```."
   ]
  },
  {
   "cell_type": "code",
   "execution_count": null,
   "metadata": {
    "scrolled": true
   },
   "outputs": [],
   "source": [
    "!docker run -d -v $(pwd)/webroot:/var/www/html -p 80:80 --name servidor nginx_image"
   ]
  },
  {
   "cell_type": "markdown",
   "metadata": {},
   "source": [
    "* Si se está ejecutando  esta notebook direactamente desde su equipo, el resultado de la ejecución de este contenedor puede ser vista desde http://localhost\n",
    "* Si se está ejecutando  esta notebook desde la VM provista del sitio de Cloudevel®, el resultado de la ejecución de este contenedor puede ser vista desde http://localhost:8980\n",
    "* En ambos casos, se verá que existe un servicio web basado en *NGINX* con el mensaje de error ```403 Forbidden```."
   ]
  },
  {
   "cell_type": "markdown",
   "metadata": {},
   "source": [
    "* Se copiará el archivo ```index.html``` al subdirectorio ```webroot```, de tal forma que su contenido sea desplegado por el servidor web."
   ]
  },
  {
   "cell_type": "code",
   "execution_count": null,
   "metadata": {},
   "outputs": [],
   "source": [
    "%cp index.html webroot/"
   ]
  },
  {
   "cell_type": "markdown",
   "metadata": {},
   "source": [
    "*  Se detendrá y eliminará al contenedor ```servidor```."
   ]
  },
  {
   "cell_type": "code",
   "execution_count": null,
   "metadata": {},
   "outputs": [],
   "source": [
    "!docker stop servidor"
   ]
  },
  {
   "cell_type": "code",
   "execution_count": null,
   "metadata": {},
   "outputs": [],
   "source": [
    "!docker rm servidor"
   ]
  },
  {
   "cell_type": "markdown",
   "metadata": {},
   "source": [
    "* La imagen ```nginx_image``` continúa en el sistema."
   ]
  },
  {
   "cell_type": "code",
   "execution_count": null,
   "metadata": {},
   "outputs": [],
   "source": [
    "!docker images"
   ]
  },
  {
   "cell_type": "markdown",
   "metadata": {},
   "source": [
    "* Se eliminará el subdirectorio ```webroot```."
   ]
  },
  {
   "cell_type": "code",
   "execution_count": null,
   "metadata": {},
   "outputs": [],
   "source": [
    "!rm -rf webroot"
   ]
  },
  {
   "cell_type": "markdown",
   "metadata": {},
   "source": [
    "<p style=\"text-align: center\"><a rel=\"license\" href=\"http://creativecommons.org/licenses/by/4.0/\"><img alt=\"Licencia Creative Commons\" style=\"border-width:0\" src=\"https://i.creativecommons.org/l/by/4.0/80x15.png\" /></a><br />Esta obra está bajo una <a rel=\"license\" href=\"http://creativecommons.org/licenses/by/4.0/\">Licencia Creative Commons Atribución 4.0 Internacional</a>.</p>\n",
    "<p style=\"text-align: center\">&copy; José Luis Chiquete Valdivieso. 2023.</p>"
   ]
  }
 ],
 "metadata": {
  "kernelspec": {
   "display_name": "Python 3 (ipykernel)",
   "language": "python",
   "name": "python3"
  },
  "language_info": {
   "codemirror_mode": {
    "name": "ipython",
    "version": 3
   },
   "file_extension": ".py",
   "mimetype": "text/x-python",
   "name": "python",
   "nbconvert_exporter": "python",
   "pygments_lexer": "ipython3",
   "version": "3.11.2"
  }
 },
 "nbformat": 4,
 "nbformat_minor": 4
}
