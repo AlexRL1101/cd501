{
 "cells": [
  {
   "cell_type": "markdown",
   "metadata": {},
   "source": [
    "[![img/cloudevel.png](img/cloudevel.png)](https://www.cloudevel.com)|"
   ]
  },
  {
   "cell_type": "markdown",
   "metadata": {},
   "source": [
    "# Peliminar."
   ]
  },
  {
   "cell_type": "markdown",
   "metadata": {},
   "source": [
    "## Acceso a la imágenes de VM."
   ]
  },
  {
   "cell_type": "markdown",
   "metadata": {},
   "source": [
    "Para poder ejhecutar el código de las *notebooks*, decargue las imagen `pythonista-base.ova` desde https://www.pythonista.io/descargas\n",
    "\n",
    "* Descargue e instale *Virtualbox* en su equipo.\n",
    "* Importe la imagen en *Virtualbox*.\n",
    "* Inicie la *VM*.\n",
    "* Desde el navegador de su equipo acceda a ```http://localhost:8999```. La contraseña es ```Jupyter```."
   ]
  },
  {
   "cell_type": "markdown",
   "metadata": {},
   "source": [
    "La imagen con *PysPark* del curso está en https://hub.docker.com/r/josechval/pythonista-pyspark"
   ]
  },
  {
   "cell_type": "markdown",
   "metadata": {},
   "source": [
    "<p style=\"text-align: center\"><a rel=\"license\" href=\"http://creativecommons.org/licenses/by/4.0/\"><img alt=\"Licencia Creative Commons\" style=\"border-width:0\" src=\"https://i.creativecommons.org/l/by/4.0/80x15.png\" /></a><br />Esta obra está bajo una <a rel=\"license\" href=\"http://creativecommons.org/licenses/by/4.0/\">Licencia Creative Commons Atribución 4.0 Internacional</a>.</p>\n",
    "<p style=\"text-align: center\">&copy; José Luis Chiquete Valdivieso. 2023.</p>"
   ]
  },
  {
   "cell_type": "markdown",
   "metadata": {},
   "source": [
    "### Para acceder desde *GNU/Linux* o *MacOS X*:\n",
    "\n",
    "``` bash\n",
    "docker run --rm -d -v $(pwd):/home/jovyan/work -p 8888:8888 -p 4040:4040 --name pyspark josechval/pythonista-pyspark\n",
    "```\n",
    "Esto levantará un contenedor que conectará la ruta ```/home/jovyan/work``` del contendor al directorio actual del equipo anfitrión.\n",
    "\n",
    "Desde el navegador de su equipo acceda a ```http://localhost:8888```. La contraseña es ```Jupyter```."
   ]
  },
  {
   "cell_type": "markdown",
   "metadata": {},
   "source": [
    "<p style=\"text-align: center\"><a rel=\"license\" href=\"http://creativecommons.org/licenses/by/4.0/\"><img alt=\"Licencia Creative Commons\" style=\"border-width:0\" src=\"https://i.creativecommons.org/l/by/4.0/80x15.png\" /></a><br />Esta obra está bajo una <a rel=\"license\" href=\"http://creativecommons.org/licenses/by/4.0/\">Licencia Creative Commons Atribución 4.0 Internacional</a>.</p>\n",
    "<p style=\"text-align: center\">&copy; José Luis Chiquete Valdivieso. 2023.</p>"
   ]
  }
 ],
 "metadata": {
  "kernelspec": {
   "display_name": "Python 3 (ipykernel)",
   "language": "python",
   "name": "python3"
  },
  "language_info": {
   "codemirror_mode": {
    "name": "ipython",
    "version": 3
   },
   "file_extension": ".py",
   "mimetype": "text/x-python",
   "name": "python",
   "nbconvert_exporter": "python",
   "pygments_lexer": "ipython3",
   "version": "3.10.12"
  }
 },
 "nbformat": 4,
 "nbformat_minor": 4
}
