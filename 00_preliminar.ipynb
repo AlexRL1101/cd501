{
 "cells": [
  {
   "cell_type": "markdown",
   "metadata": {},
   "source": [
    "[![img/cloudevel.png](img/cloudevel.png)](https://www.cloudevel.com)|"
   ]
  },
  {
   "cell_type": "markdown",
   "metadata": {},
   "source": [
    "# Peliminar."
   ]
  },
  {
   "cell_type": "markdown",
   "metadata": {},
   "source": [
    "## Acceso a la imágenes de VM."
   ]
  },
  {
   "cell_type": "markdown",
   "metadata": {},
   "source": [
    "Para poder ejecutar el código de las *notebooks* de este curso, es necesario lo siguiente:\n",
    "\n",
    "* Decargue las imagen `pythonista-base.ova` que se encuentra en https://www.pythonista.io/descargas\n",
    "* Descargue e instale *Virtualbox* en su equipo  (es necesario que la virtualización esté habilitada desde el BIOS de su máquina).\n",
    "* Importe la imagen `pythonista-base.ova` en *Virtualbox*.\n",
    "* Inicie la *VM*.\n",
    "* Desde el navegador de su equipo acceda a `http://localhost:8999`. La contraseña es ```Jupyter```."
   ]
  },
  {
   "cell_type": "markdown",
   "metadata": {},
   "source": [
    "## Descarga opcional de *Docker Desktop*."
   ]
  },
  {
   "cell_type": "markdown",
   "metadata": {},
   "source": [
    "Si cuenta con equipos *Windows* o *MacOS X*, puede ejecutar el código de este curso instalando *Docker Desktop*.\n",
    "\n",
    "* https://www.docker.com/products/docker-desktop/"
   ]
  },
  {
   "cell_type": "markdown",
   "metadata": {},
   "source": [
    "<p style=\"text-align: center\"><a rel=\"license\" href=\"http://creativecommons.org/licenses/by/4.0/\"><img alt=\"Licencia Creative Commons\" style=\"border-width:0\" src=\"https://i.creativecommons.org/l/by/4.0/80x15.png\" /></a><br />Esta obra está bajo una <a rel=\"license\" href=\"http://creativecommons.org/licenses/by/4.0/\">Licencia Creative Commons Atribución 4.0 Internacional</a>.</p>\n",
    "<p style=\"text-align: center\">&copy; José Luis Chiquete Valdivieso. 2023.</p>"
   ]
  }
 ],
 "metadata": {
  "kernelspec": {
   "display_name": "Python 3 (ipykernel)",
   "language": "python",
   "name": "python3"
  },
  "language_info": {
   "codemirror_mode": {
    "name": "ipython",
    "version": 3
   },
   "file_extension": ".py",
   "mimetype": "text/x-python",
   "name": "python",
   "nbconvert_exporter": "python",
   "pygments_lexer": "ipython3",
   "version": "3.9.2"
  }
 },
 "nbformat": 4,
 "nbformat_minor": 4
}
