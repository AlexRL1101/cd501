{
 "cells": [
  {
   "cell_type": "markdown",
   "metadata": {},
   "source": [
    "[![cloudevel](Imagenes/cloudevel.png)](https://cloudevel.com)"
   ]
  },
  {
   "cell_type": "markdown",
   "metadata": {},
   "source": [
    "# El comando ```docker container```."
   ]
  },
  {
   "cell_type": "markdown",
   "metadata": {},
   "source": [
    "Es posible realizar diversas operaciones de gestión de contenedores mediante el subcomando ```docker container```.\n",
    "\n",
    "Para mayor referencia se puede consultar: https://docs.docker.com/engine/reference/commandline/container/"
   ]
  },
  {
   "cell_type": "markdown",
   "metadata": {},
   "source": [
    "## Contenedores de ejemplo.\n",
    "\n",
    "Para ilustrar las funciones de gestión de contenedores se utilizarán diversas imágenes.\n",
    "\n",
    "A continuación se crearán varios contenedores.\n",
    "\n",
    "**Advertencia:** Asegúrese de haber creado la imagen ```nginx_image``` creado al ejecutar la notebook [03_dockerfile.ipynb](03_dockerfile.ipynb)."
   ]
  },
  {
   "cell_type": "markdown",
   "metadata": {},
   "source": [
    "* Antes que nada es necesario asegurarse de que no existan contenedores en el sistema, por lo que las siguientes celdas los detendrán y eliminarán.\n",
    "* En el caso de que no existan contenedores, las celdas enviarán un mensaje de error."
   ]
  },
  {
   "cell_type": "code",
   "execution_count": 1,
   "metadata": {},
   "outputs": [
    {
     "name": "stdout",
     "output_type": "stream",
     "text": [
      "64df84fadd57\n"
     ]
    }
   ],
   "source": [
    "sudo docker stop $(sudo docker ps -a -q)"
   ]
  },
  {
   "cell_type": "code",
   "execution_count": 2,
   "metadata": {
    "scrolled": true
   },
   "outputs": [
    {
     "name": "stdout",
     "output_type": "stream",
     "text": [
      "64df84fadd57\n"
     ]
    }
   ],
   "source": [
    "sudo docker rm $(sudo docker ps -a -q)"
   ]
  },
  {
   "cell_type": "code",
   "execution_count": 3,
   "metadata": {},
   "outputs": [
    {
     "name": "stdout",
     "output_type": "stream",
     "text": [
      "CONTAINER ID        IMAGE               COMMAND             CREATED             STATUS              PORTS               NAMES\n"
     ]
    }
   ],
   "source": [
    "sudo docker ps -a"
   ]
  },
  {
   "cell_type": "markdown",
   "metadata": {},
   "source": [
    "* En caso de que se esté usando esta notebook desde la VM de Cloudevel® es necesario detener el servidor Apache de dicha VM."
   ]
  },
  {
   "cell_type": "code",
   "execution_count": 4,
   "metadata": {},
   "outputs": [
    {
     "name": "stdout",
     "output_type": "stream",
     "text": [
      "● apache2.service - The Apache HTTP Server\n",
      "   Loaded: loaded (\u001b]8;;file://cloudevel/lib/systemd/system/apache2.service\u0007/lib/systemd/system/apache2.service\u001b]8;;\u0007; enabled; vendor preset: enabled)\n",
      "   Active: inactive (dead) since Wed 2020-08-19 18:39:03 CDT; 1h 35min ago\n",
      "     Docs: \u001b]8;;https://httpd.apache.org/docs/2.4/\u0007https://httpd.apache.org/docs/2.4/\u001b]8;;\u0007\n",
      "  Process: 14291 ExecStop=/usr/sbin/apachectl stop (code=exited, status=0/SUCCESS)\n",
      " Main PID: 454 (code=exited, status=0/SUCCESS)\n",
      "\n",
      "Aug 19 18:10:36 cloudevel systemd[1]: Starting The Apache HTTP Server...\n",
      "Aug 19 18:10:36 cloudevel apachectl[382]: AH00558: apache2: Could not relia…sage\n",
      "Aug 19 18:10:36 cloudevel systemd[1]: Started The Apache HTTP Server.\n",
      "Aug 19 18:39:02 cloudevel systemd[1]: Stopping The Apache HTTP Server...\n",
      "Aug 19 18:39:02 cloudevel apachectl[14291]: AH00558: apache2: Could not reli…age\n",
      "Aug 19 18:39:03 cloudevel systemd[1]: apache2.service: Succeeded.\n",
      "Aug 19 18:39:03 cloudevel systemd[1]: Stopped The Apache HTTP Server.\n",
      "Hint: Some lines were ellipsized, use -l to show in full.\n"
     ]
    },
    {
     "ename": "",
     "evalue": "3",
     "output_type": "error",
     "traceback": []
    }
   ],
   "source": [
    "sudo systemctl stop apache2\n",
    "sudo systemctl status apache2 --no-pager"
   ]
  },
  {
   "cell_type": "markdown",
   "metadata": {},
   "source": [
    "* Ahora se crearán 6 contenedores, de lo cuales  4 de ellos estarán en ejecución."
   ]
  },
  {
   "cell_type": "code",
   "execution_count": 5,
   "metadata": {
    "scrolled": true
   },
   "outputs": [
    {
     "name": "stdout",
     "output_type": "stream",
     "text": [
      "38fa6b02a228f6b2da12c8557bc48c92b5da25b5f81f742dbca977cec279cc33\n",
      "57af5fda43bfdce1e7aa66e7e2f975627acdcca3b160dfc0138c0d5fa24590cf\n",
      "9b922f56c6da9608f9b0c464b412a1af1bef40dd98baa8f97b1afb0eba60a569\n",
      "f3d70d12b4e97621a53885af0e0a31fcb37dfd925bbdfc592ecca66160790f8c\n",
      "Hola\n",
      "Hola otra vez\n"
     ]
    }
   ],
   "source": [
    "sudo docker run -d -v webroot:/var/www/html -p 80:80 --name servidor nginx_image\n",
    "sudo docker run -dti --name ubuntu-1 ubuntu /bin/bash\n",
    "sudo docker run -dti --name ubuntu-2 ubuntu /bin/bash\n",
    "sudo docker run -dti --name ubuntu-3 ubuntu /bin/bash\n",
    "sudo docker run --name ubuntu-4 ubuntu echo \"Hola\"\n",
    "sudo docker run --name ubuntu-5 ubuntu echo \"Hola otra vez\""
   ]
  },
  {
   "cell_type": "markdown",
   "metadata": {},
   "source": [
    "* Se puede apreciar que existen 4 contenedores ejecutándose.\n",
    "    * ```servidor```.\n",
    "    * ```ubuntu-1```.\n",
    "    * ```ubuntu-2```.\n",
    "    * ```ubuntu-3```.\n",
    "\n",
    "* Si esta notebook s ejecuta desde la VM proporcionada por Cloudevel®, el contenedor ```servidor``` se encuentra ejecutando un servicio web basado en *Nginx* en http://localhost:8980."
   ]
  },
  {
   "cell_type": "code",
   "execution_count": 6,
   "metadata": {
    "scrolled": true
   },
   "outputs": [
    {
     "name": "stdout",
     "output_type": "stream",
     "text": [
      "CONTAINER ID        IMAGE               COMMAND             CREATED             STATUS              PORTS                         NAMES\n",
      "f3d70d12b4e9        ubuntu              \"/bin/bash\"         11 seconds ago      Up 7 seconds                                      ubuntu-3\n",
      "9b922f56c6da        ubuntu              \"/bin/bash\"         15 seconds ago      Up 11 seconds                                     ubuntu-2\n",
      "57af5fda43bf        ubuntu              \"/bin/bash\"         20 seconds ago      Up 14 seconds                                     ubuntu-1\n",
      "38fa6b02a228        nginx_image         \"./start.sh\"        25 seconds ago      Up 20 seconds       0.0.0.0:80->80/tcp, 443/tcp   servidor\n"
     ]
    }
   ],
   "source": [
    "sudo docker ps"
   ]
  },
  {
   "cell_type": "markdown",
   "metadata": {},
   "source": [
    "* También se puede apreciar que existen en total 6 contenedores en el sistema.\n",
    "    * ```servidor```.\n",
    "    * ```ubuntu-1```.\n",
    "    * ```ubuntu-2```.\n",
    "    * ```ubuntu-3```.\n",
    "    * ```ubuntu-4```.\n",
    "    * ```ubuntu-5```."
   ]
  },
  {
   "cell_type": "code",
   "execution_count": 7,
   "metadata": {
    "scrolled": false
   },
   "outputs": [
    {
     "name": "stdout",
     "output_type": "stream",
     "text": [
      "CONTAINER ID        IMAGE               COMMAND                  CREATED             STATUS                     PORTS                         NAMES\n",
      "3627d746c8c3        ubuntu              \"echo 'Hola otra vez'\"   4 seconds ago       Exited (0) 1 second ago                                  ubuntu-5\n",
      "fa91d6309c86        ubuntu              \"echo Hola\"              8 seconds ago       Exited (0) 5 seconds ago                                 ubuntu-4\n",
      "f3d70d12b4e9        ubuntu              \"/bin/bash\"              11 seconds ago      Up 8 seconds                                             ubuntu-3\n",
      "9b922f56c6da        ubuntu              \"/bin/bash\"              15 seconds ago      Up 11 seconds                                            ubuntu-2\n",
      "57af5fda43bf        ubuntu              \"/bin/bash\"              20 seconds ago      Up 15 seconds                                            ubuntu-1\n",
      "38fa6b02a228        nginx_image         \"./start.sh\"             25 seconds ago      Up 20 seconds              0.0.0.0:80->80/tcp, 443/tcp   servidor\n"
     ]
    }
   ],
   "source": [
    "sudo docker ps -a"
   ]
  },
  {
   "cell_type": "markdown",
   "metadata": {},
   "source": [
    "## Comandos informativos."
   ]
  },
  {
   "cell_type": "markdown",
   "metadata": {},
   "source": [
    "### El comando ```docker container ls```."
   ]
  },
  {
   "cell_type": "markdown",
   "metadata": {},
   "source": [
    "El comando ```docker container ls``` regresa un listado de los contenedores de un sistema.\n",
    "\n",
    "```\n",
    "docker container ls <opciones>\n",
    "```\n",
    "\n",
    "Este comando puede aceptar ciertas opciones, las cuales pueden ser consultadas en https://docs.docker.com/engine/reference/commandline/container_ls/"
   ]
  },
  {
   "cell_type": "markdown",
   "metadata": {},
   "source": [
    "**Ejemplos:**"
   ]
  },
  {
   "cell_type": "markdown",
   "metadata": {},
   "source": [
    "* Al utilizar el comando ```docker container ls``` sin argumentos, se despelgará una lista de aquellos contenedores en ejecución.  "
   ]
  },
  {
   "cell_type": "code",
   "execution_count": 8,
   "metadata": {
    "scrolled": false
   },
   "outputs": [
    {
     "name": "stdout",
     "output_type": "stream",
     "text": [
      "CONTAINER ID        IMAGE               COMMAND             CREATED             STATUS              PORTS                         NAMES\n",
      "f3d70d12b4e9        ubuntu              \"/bin/bash\"         11 seconds ago      Up 8 seconds                                      ubuntu-3\n",
      "9b922f56c6da        ubuntu              \"/bin/bash\"         15 seconds ago      Up 11 seconds                                     ubuntu-2\n",
      "57af5fda43bf        ubuntu              \"/bin/bash\"         20 seconds ago      Up 15 seconds                                     ubuntu-1\n",
      "38fa6b02a228        nginx_image         \"./start.sh\"        25 seconds ago      Up 21 seconds       0.0.0.0:80->80/tcp, 443/tcp   servidor\n"
     ]
    }
   ],
   "source": [
    "sudo docker container ls"
   ]
  },
  {
   "cell_type": "markdown",
   "metadata": {},
   "source": [
    "* Al utilizar el comando con la opción ```-a```, se despelgará una lista de todos los contenedores. "
   ]
  },
  {
   "cell_type": "code",
   "execution_count": 9,
   "metadata": {
    "scrolled": true
   },
   "outputs": [
    {
     "name": "stdout",
     "output_type": "stream",
     "text": [
      "CONTAINER ID        IMAGE               COMMAND                  CREATED             STATUS                     PORTS                         NAMES\n",
      "3627d746c8c3        ubuntu              \"echo 'Hola otra vez'\"   4 seconds ago       Exited (0) 2 seconds ago                                 ubuntu-5\n",
      "fa91d6309c86        ubuntu              \"echo Hola\"              8 seconds ago       Exited (0) 6 seconds ago                                 ubuntu-4\n",
      "f3d70d12b4e9        ubuntu              \"/bin/bash\"              11 seconds ago      Up 8 seconds                                             ubuntu-3\n",
      "9b922f56c6da        ubuntu              \"/bin/bash\"              15 seconds ago      Up 12 seconds                                            ubuntu-2\n",
      "57af5fda43bf        ubuntu              \"/bin/bash\"              20 seconds ago      Up 15 seconds                                            ubuntu-1\n",
      "38fa6b02a228        nginx_image         \"./start.sh\"             25 seconds ago      Up 21 seconds              0.0.0.0:80->80/tcp, 443/tcp   servidor\n"
     ]
    }
   ],
   "source": [
    "sudo docker container ls -a"
   ]
  },
  {
   "cell_type": "markdown",
   "metadata": {},
   "source": [
    "* Al utilizar la opción ```--filter``` es posible aplicar un filtro en la búsqueda.\n",
    "\n",
    "Los filtros disponibles pueden ser consultados en https://docs.docker.com/engine/reference/commandline/ps/#filtering"
   ]
  },
  {
   "cell_type": "code",
   "execution_count": 10,
   "metadata": {
    "scrolled": true
   },
   "outputs": [
    {
     "name": "stdout",
     "output_type": "stream",
     "text": [
      "CONTAINER ID        IMAGE               COMMAND             CREATED             STATUS              PORTS               NAMES\n",
      "f3d70d12b4e9        ubuntu              \"/bin/bash\"         19 seconds ago      Up 16 seconds                           ubuntu-3\n",
      "9b922f56c6da        ubuntu              \"/bin/bash\"         23 seconds ago      Up 19 seconds                           ubuntu-2\n",
      "57af5fda43bf        ubuntu              \"/bin/bash\"         28 seconds ago      Up 23 seconds                           ubuntu-1\n"
     ]
    }
   ],
   "source": [
    "sudo docker container ls --filter name=ubuntu*"
   ]
  },
  {
   "cell_type": "code",
   "execution_count": 11,
   "metadata": {},
   "outputs": [
    {
     "name": "stdout",
     "output_type": "stream",
     "text": [
      "CONTAINER ID        IMAGE               COMMAND                  CREATED             STATUS                      PORTS               NAMES\n",
      "3627d746c8c3        ubuntu              \"echo 'Hola otra vez'\"   12 seconds ago      Exited (0) 10 seconds ago                       ubuntu-5\n",
      "fa91d6309c86        ubuntu              \"echo Hola\"              16 seconds ago      Exited (0) 14 seconds ago                       ubuntu-4\n",
      "f3d70d12b4e9        ubuntu              \"/bin/bash\"              19 seconds ago      Up 16 seconds                                   ubuntu-3\n",
      "9b922f56c6da        ubuntu              \"/bin/bash\"              23 seconds ago      Up 19 seconds                                   ubuntu-2\n",
      "57af5fda43bf        ubuntu              \"/bin/bash\"              28 seconds ago      Up 23 seconds                                   ubuntu-1\n"
     ]
    }
   ],
   "source": [
    "sudo docker container ls -a --filter name=ubuntu*"
   ]
  },
  {
   "cell_type": "markdown",
   "metadata": {},
   "source": [
    "### El comando ```docker container inspect```.\n",
    "\n",
    "Este comando es idéntico a ```docker inspect``` y despliega los detalles en formato *JSON* de uno o más contenedores.\n",
    "\n",
    "```\n",
    "docker container inspect <contenedor>\n",
    "```\n",
    "\n",
    "Referencia: \n",
    "https://docs.docker.com/engine/reference/commandline/container_inspect/"
   ]
  },
  {
   "cell_type": "markdown",
   "metadata": {},
   "source": [
    "**Ejemplo:**"
   ]
  },
  {
   "cell_type": "markdown",
   "metadata": {},
   "source": [
    "* Se desplegará la información del contenendor con nombre ```servidor```."
   ]
  },
  {
   "cell_type": "code",
   "execution_count": 12,
   "metadata": {
    "scrolled": true
   },
   "outputs": [
    {
     "name": "stdout",
     "output_type": "stream",
     "text": [
      "[\n",
      "    {\n",
      "        \"Id\": \"38fa6b02a228f6b2da12c8557bc48c92b5da25b5f81f742dbca977cec279cc33\",\n",
      "        \"Created\": \"2020-08-20T01:14:40.75534256Z\",\n",
      "        \"Path\": \"./start.sh\",\n",
      "        \"Args\": [],\n",
      "        \"State\": {\n",
      "            \"Status\": \"running\",\n",
      "            \"Running\": true,\n",
      "            \"Paused\": false,\n",
      "            \"Restarting\": false,\n",
      "            \"OOMKilled\": false,\n",
      "            \"Dead\": false,\n",
      "            \"Pid\": 15016,\n",
      "            \"ExitCode\": 0,\n",
      "            \"Error\": \"\",\n",
      "            \"StartedAt\": \"2020-08-20T01:14:44.515368596Z\",\n",
      "            \"FinishedAt\": \"0001-01-01T00:00:00Z\"\n",
      "        },\n",
      "        \"Image\": \"sha256:8466deb12fa87605a1e5c66851d9478eaa90f4286a916529d7660f90c4cb1a99\",\n",
      "        \"ResolvConfPath\": \"/var/lib/docker/containers/38fa6b02a228f6b2da12c8557bc48c92b5da25b5f81f742dbca977cec279cc33/resolv.conf\",\n",
      "        \"HostnamePath\": \"/var/lib/docker/containers/38fa6b02a228f6b2da12c8557bc48c92b5da25b5f81f742dbca977cec279cc33/hostname\",\n",
      "        \"HostsPath\": \"/var/lib/docker/containers/38fa6b02a228f6b2da12c8557bc48c92b5da25b5f81f742dbca977cec279cc33/hosts\",\n",
      "        \"LogPath\": \"/var/lib/docker/containers/38fa6b02a228f6b2da12c8557bc48c92b5da25b5f81f742dbca977cec279cc33/38fa6b02a228f6b2da12c8557bc48c92b5da25b5f81f742dbca977cec279cc33-json.log\",\n",
      "        \"Name\": \"/servidor\",\n",
      "        \"RestartCount\": 0,\n",
      "        \"Driver\": \"overlay2\",\n",
      "        \"Platform\": \"linux\",\n",
      "        \"MountLabel\": \"\",\n",
      "        \"ProcessLabel\": \"\",\n",
      "        \"AppArmorProfile\": \"docker-default\",\n",
      "        \"ExecIDs\": null,\n",
      "        \"HostConfig\": {\n",
      "            \"Binds\": [\n",
      "                \"webroot:/var/www/html\"\n",
      "            ],\n",
      "            \"ContainerIDFile\": \"\",\n",
      "            \"LogConfig\": {\n",
      "                \"Type\": \"json-file\",\n",
      "                \"Config\": {}\n",
      "            },\n",
      "            \"NetworkMode\": \"default\",\n",
      "            \"PortBindings\": {\n",
      "                \"80/tcp\": [\n",
      "                    {\n",
      "                        \"HostIp\": \"\",\n",
      "                        \"HostPort\": \"80\"\n",
      "                    }\n",
      "                ]\n",
      "            },\n",
      "            \"RestartPolicy\": {\n",
      "                \"Name\": \"no\",\n",
      "                \"MaximumRetryCount\": 0\n",
      "            },\n",
      "            \"AutoRemove\": false,\n",
      "            \"VolumeDriver\": \"\",\n",
      "            \"VolumesFrom\": null,\n",
      "            \"CapAdd\": null,\n",
      "            \"CapDrop\": null,\n",
      "            \"Capabilities\": null,\n",
      "            \"Dns\": [],\n",
      "            \"DnsOptions\": [],\n",
      "            \"DnsSearch\": [],\n",
      "            \"ExtraHosts\": null,\n",
      "            \"GroupAdd\": null,\n",
      "            \"IpcMode\": \"private\",\n",
      "            \"Cgroup\": \"\",\n",
      "            \"Links\": null,\n",
      "            \"OomScoreAdj\": 0,\n",
      "            \"PidMode\": \"\",\n",
      "            \"Privileged\": false,\n",
      "            \"PublishAllPorts\": false,\n",
      "            \"ReadonlyRootfs\": false,\n",
      "            \"SecurityOpt\": null,\n",
      "            \"UTSMode\": \"\",\n",
      "            \"UsernsMode\": \"\",\n",
      "            \"ShmSize\": 67108864,\n",
      "            \"Runtime\": \"runc\",\n",
      "            \"ConsoleSize\": [\n",
      "                0,\n",
      "                0\n",
      "            ],\n",
      "            \"Isolation\": \"\",\n",
      "            \"CpuShares\": 0,\n",
      "            \"Memory\": 0,\n",
      "            \"NanoCpus\": 0,\n",
      "            \"CgroupParent\": \"\",\n",
      "            \"BlkioWeight\": 0,\n",
      "            \"BlkioWeightDevice\": [],\n",
      "            \"BlkioDeviceReadBps\": null,\n",
      "            \"BlkioDeviceWriteBps\": null,\n",
      "            \"BlkioDeviceReadIOps\": null,\n",
      "            \"BlkioDeviceWriteIOps\": null,\n",
      "            \"CpuPeriod\": 0,\n",
      "            \"CpuQuota\": 0,\n",
      "            \"CpuRealtimePeriod\": 0,\n",
      "            \"CpuRealtimeRuntime\": 0,\n",
      "            \"CpusetCpus\": \"\",\n",
      "            \"CpusetMems\": \"\",\n",
      "            \"Devices\": [],\n",
      "            \"DeviceCgroupRules\": null,\n",
      "            \"DeviceRequests\": null,\n",
      "            \"KernelMemory\": 0,\n",
      "            \"KernelMemoryTCP\": 0,\n",
      "            \"MemoryReservation\": 0,\n",
      "            \"MemorySwap\": 0,\n",
      "            \"MemorySwappiness\": null,\n",
      "            \"OomKillDisable\": false,\n",
      "            \"PidsLimit\": null,\n",
      "            \"Ulimits\": null,\n",
      "            \"CpuCount\": 0,\n",
      "            \"CpuPercent\": 0,\n",
      "            \"IOMaximumIOps\": 0,\n",
      "            \"IOMaximumBandwidth\": 0,\n",
      "            \"MaskedPaths\": [\n",
      "                \"/proc/asound\",\n",
      "                \"/proc/acpi\",\n",
      "                \"/proc/kcore\",\n",
      "                \"/proc/keys\",\n",
      "                \"/proc/latency_stats\",\n",
      "                \"/proc/timer_list\",\n",
      "                \"/proc/timer_stats\",\n",
      "                \"/proc/sched_debug\",\n",
      "                \"/proc/scsi\",\n",
      "                \"/sys/firmware\"\n",
      "            ],\n",
      "            \"ReadonlyPaths\": [\n",
      "                \"/proc/bus\",\n",
      "                \"/proc/fs\",\n",
      "                \"/proc/irq\",\n",
      "                \"/proc/sys\",\n",
      "                \"/proc/sysrq-trigger\"\n",
      "            ]\n",
      "        },\n",
      "        \"GraphDriver\": {\n",
      "            \"Data\": {\n",
      "                \"LowerDir\": \"/var/lib/docker/overlay2/47b8affa8a3ba25646c30570b3b264f85bdcc3cb51cc9b44edc122d924c0ef11-init/diff:/var/lib/docker/overlay2/727aadcc56699fd31b554cc1f372b9982e76b930a9c12b366879189eed62468c/diff:/var/lib/docker/overlay2/b46d002c3f14a8bf61c0ab0a248d447680872cb957ff8eb0051b5c94569ad749/diff:/var/lib/docker/overlay2/5778e9e8c3d29ef6fb7fe53fbdaad64c63efaff6b8fbcdd1713193e09b81e163/diff:/var/lib/docker/overlay2/919bb8934641e50a4b503d2d9b6167511f7227f95ce41b507f67119b7a2006b7/diff:/var/lib/docker/overlay2/45797de563997e6e1c773568ef4407156848d13aa2eefeb7a0b55b7ad65d5366/diff:/var/lib/docker/overlay2/d4e35742d1a79b197e32bdf59c6a6609f1ab3c14c1352b1d44bc191d8a564d6a/diff:/var/lib/docker/overlay2/68f13bc48a2400961351ea1338a9317c2446f3a03fb09e653099b8b057aca24b/diff:/var/lib/docker/overlay2/e3c3d76e30466e26219455543bf8ce94d427e199d4b86018a91d8fe80cc1ff58/diff:/var/lib/docker/overlay2/065e9600dbc942bcce3fbbfb0c0eb6d9f2b250579c3313679955e4a335d0b77c/diff:/var/lib/docker/overlay2/4915be777c0d68820f57b12382b57c261102d9b1be1580413cdb2a77ecb48c56/diff:/var/lib/docker/overlay2/ce71b5e1bbbdcf945bce16eaa24799487ff725036436043844cac6853a73eb00/diff\",\n",
      "                \"MergedDir\": \"/var/lib/docker/overlay2/47b8affa8a3ba25646c30570b3b264f85bdcc3cb51cc9b44edc122d924c0ef11/merged\",\n",
      "                \"UpperDir\": \"/var/lib/docker/overlay2/47b8affa8a3ba25646c30570b3b264f85bdcc3cb51cc9b44edc122d924c0ef11/diff\",\n",
      "                \"WorkDir\": \"/var/lib/docker/overlay2/47b8affa8a3ba25646c30570b3b264f85bdcc3cb51cc9b44edc122d924c0ef11/work\"\n",
      "            },\n",
      "            \"Name\": \"overlay2\"\n",
      "        },\n",
      "        \"Mounts\": [\n",
      "            {\n",
      "                \"Type\": \"volume\",\n",
      "                \"Name\": \"webroot\",\n",
      "                \"Source\": \"/var/lib/docker/volumes/webroot/_data\",\n",
      "                \"Destination\": \"/var/www/html\",\n",
      "                \"Driver\": \"local\",\n",
      "                \"Mode\": \"z\",\n",
      "                \"RW\": true,\n",
      "                \"Propagation\": \"\"\n",
      "            },\n",
      "            {\n",
      "                \"Type\": \"volume\",\n",
      "                \"Name\": \"f3787b01aa82fce7b383cd197aa9ce83ee5e3bc4cd144a768e5da3e478efa1c8\",\n",
      "                \"Source\": \"/var/lib/docker/volumes/f3787b01aa82fce7b383cd197aa9ce83ee5e3bc4cd144a768e5da3e478efa1c8/_data\",\n",
      "                \"Destination\": \"/etc/nginx/certs\",\n",
      "                \"Driver\": \"local\",\n",
      "                \"Mode\": \"\",\n",
      "                \"RW\": true,\n",
      "                \"Propagation\": \"\"\n",
      "            },\n",
      "            {\n",
      "                \"Type\": \"volume\",\n",
      "                \"Name\": \"db2637e6446977c069e95de6717475dde01062408586c761621f225017e0348c\",\n",
      "                \"Source\": \"/var/lib/docker/volumes/db2637e6446977c069e95de6717475dde01062408586c761621f225017e0348c/_data\",\n",
      "                \"Destination\": \"/etc/nginx/conf.d\",\n",
      "                \"Driver\": \"local\",\n",
      "                \"Mode\": \"\",\n",
      "                \"RW\": true,\n",
      "                \"Propagation\": \"\"\n",
      "            },\n",
      "            {\n",
      "                \"Type\": \"volume\",\n",
      "                \"Name\": \"7b3ea61f460ebccef3fbdf231f549dd7cb42f60adc7d2bd089cbe6db1697601a\",\n",
      "                \"Source\": \"/var/lib/docker/volumes/7b3ea61f460ebccef3fbdf231f549dd7cb42f60adc7d2bd089cbe6db1697601a/_data\",\n",
      "                \"Destination\": \"/etc/nginx/sites-enabled\",\n",
      "                \"Driver\": \"local\",\n",
      "                \"Mode\": \"\",\n",
      "                \"RW\": true,\n",
      "                \"Propagation\": \"\"\n",
      "            },\n",
      "            {\n",
      "                \"Type\": \"volume\",\n",
      "                \"Name\": \"f8675959926f9d6616100f60b4b7cdc6f34efae1c7a392bf51d344168bb4060c\",\n",
      "                \"Source\": \"/var/lib/docker/volumes/f8675959926f9d6616100f60b4b7cdc6f34efae1c7a392bf51d344168bb4060c/_data\",\n"
     ]
    },
    {
     "name": "stdout",
     "output_type": "stream",
     "text": [
      "                \"Destination\": \"/var/log/nginx\",\n",
      "                \"Driver\": \"local\",\n",
      "                \"Mode\": \"\",\n",
      "                \"RW\": true,\n",
      "                \"Propagation\": \"\"\n",
      "            }\n",
      "        ],\n",
      "        \"Config\": {\n",
      "            \"Hostname\": \"38fa6b02a228\",\n",
      "            \"Domainname\": \"\",\n",
      "            \"User\": \"\",\n",
      "            \"AttachStdin\": false,\n",
      "            \"AttachStdout\": false,\n",
      "            \"AttachStderr\": false,\n",
      "            \"ExposedPorts\": {\n",
      "                \"443/tcp\": {},\n",
      "                \"80/tcp\": {}\n",
      "            },\n",
      "            \"Tty\": false,\n",
      "            \"OpenStdin\": false,\n",
      "            \"StdinOnce\": false,\n",
      "            \"Env\": [\n",
      "                \"PATH=/usr/local/sbin:/usr/local/bin:/usr/sbin:/usr/bin:/sbin:/bin\",\n",
      "                \"nginx_vhost=/etc/nginx/sites-available/default\",\n",
      "                \"php_conf=/etc/php/7.0/fpm/php.ini\",\n",
      "                \"nginx_conf=/etc/nginx/nginx.conf\",\n",
      "                \"supervisor_conf=/etc/supervisor/supervisord.conf\"\n",
      "            ],\n",
      "            \"Cmd\": [\n",
      "                \"./start.sh\"\n",
      "            ],\n",
      "            \"Image\": \"nginx_image\",\n",
      "            \"Volumes\": {\n",
      "                \"/etc/nginx/certs\": {},\n",
      "                \"/etc/nginx/conf.d\": {},\n",
      "                \"/etc/nginx/sites-enabled\": {},\n",
      "                \"/var/log/nginx\": {},\n",
      "                \"/var/www/html\": {}\n",
      "            },\n",
      "            \"WorkingDir\": \"\",\n",
      "            \"Entrypoint\": null,\n",
      "            \"OnBuild\": null,\n",
      "            \"Labels\": {}\n",
      "        },\n",
      "        \"NetworkSettings\": {\n",
      "            \"Bridge\": \"\",\n",
      "            \"SandboxID\": \"dd8bb4db4c35bb2352c9f3abf3f05da4bab1de0b02540e3cd595fb0cea4f1d30\",\n",
      "            \"HairpinMode\": false,\n",
      "            \"LinkLocalIPv6Address\": \"\",\n",
      "            \"LinkLocalIPv6PrefixLen\": 0,\n",
      "            \"Ports\": {\n",
      "                \"443/tcp\": null,\n",
      "                \"80/tcp\": [\n",
      "                    {\n",
      "                        \"HostIp\": \"0.0.0.0\",\n",
      "                        \"HostPort\": \"80\"\n",
      "                    }\n",
      "                ]\n",
      "            },\n",
      "            \"SandboxKey\": \"/var/run/docker/netns/dd8bb4db4c35\",\n",
      "            \"SecondaryIPAddresses\": null,\n",
      "            \"SecondaryIPv6Addresses\": null,\n",
      "            \"EndpointID\": \"974c53e2e4da121d03432dabfa87693c2421e5a2e041f78113c7ca8f3177e046\",\n",
      "            \"Gateway\": \"172.17.0.1\",\n",
      "            \"GlobalIPv6Address\": \"\",\n",
      "            \"GlobalIPv6PrefixLen\": 0,\n",
      "            \"IPAddress\": \"172.17.0.2\",\n",
      "            \"IPPrefixLen\": 16,\n",
      "            \"IPv6Gateway\": \"\",\n",
      "            \"MacAddress\": \"02:42:ac:11:00:02\",\n",
      "            \"Networks\": {\n",
      "                \"bridge\": {\n",
      "                    \"IPAMConfig\": null,\n",
      "                    \"Links\": null,\n",
      "                    \"Aliases\": null,\n",
      "                    \"NetworkID\": \"e8ccaa75f34c7679fb50702ab59e471e118f9226b5d5fe522be38cb767c9d6d9\",\n",
      "                    \"EndpointID\": \"974c53e2e4da121d03432dabfa87693c2421e5a2e041f78113c7ca8f3177e046\",\n",
      "                    \"Gateway\": \"172.17.0.1\",\n",
      "                    \"IPAddress\": \"172.17.0.2\",\n",
      "                    \"IPPrefixLen\": 16,\n",
      "                    \"IPv6Gateway\": \"\",\n",
      "                    \"GlobalIPv6Address\": \"\",\n",
      "                    \"GlobalIPv6PrefixLen\": 0,\n",
      "                    \"MacAddress\": \"02:42:ac:11:00:02\",\n",
      "                    \"DriverOpts\": null\n",
      "                }\n",
      "            }\n",
      "        }\n",
      "    }\n",
      "]\n"
     ]
    }
   ],
   "source": [
    "sudo docker container inspect servidor"
   ]
  },
  {
   "cell_type": "markdown",
   "metadata": {},
   "source": [
    "### El comando ```docker container logs```.\n",
    "\n",
    "Este comando es idéntico a ```docker logs``` y despliega la bitácora de uno o más contenedores.\n",
    "\n",
    "```\n",
    "docker container logs <contenedor>\n",
    "```\n",
    "\n",
    "Referencia: https://docs.docker.com/engine/reference/commandline/container_logs/"
   ]
  },
  {
   "cell_type": "markdown",
   "metadata": {},
   "source": [
    "**Ejemplo:**"
   ]
  },
  {
   "cell_type": "markdown",
   "metadata": {},
   "source": [
    "* Se desplegará la bitácora del contenendor con nombre ```servidor```."
   ]
  },
  {
   "cell_type": "code",
   "execution_count": 13,
   "metadata": {
    "scrolled": true
   },
   "outputs": [
    {
     "name": "stdout",
     "output_type": "stream",
     "text": [
      "2020-08-20 01:14:45,723 CRIT Set uid to user 0\n",
      "2020-08-20 01:14:45,725 WARN No file matches via include \"/etc/supervisor/conf.d/*.conf\"\n",
      "2020-08-20 01:14:45,791 INFO RPC interface 'supervisor' initialized\n",
      "2020-08-20 01:14:45,791 CRIT Server 'unix_http_server' running without any HTTP authentication checking\n",
      "2020-08-20 01:14:45,792 INFO supervisord started with pid 6\n",
      "2020-08-20 01:14:46,795 INFO spawned: 'nginx' with pid 9\n",
      "2020-08-20 01:14:46,861 INFO spawned: 'php-fpm7.0' with pid 10\n",
      "2020-08-20 01:14:47,867 INFO success: nginx entered RUNNING state, process has stayed up for > than 1 seconds (startsecs)\n",
      "2020-08-20 01:14:47,867 INFO success: php-fpm7.0 entered RUNNING state, process has stayed up for > than 1 seconds (startsecs)\n"
     ]
    }
   ],
   "source": [
    "sudo docker container logs servidor"
   ]
  },
  {
   "cell_type": "markdown",
   "metadata": {},
   "source": [
    "### El comando ```docker container port```.\n",
    "\n",
    "Este comando es idéntico a ```docker port``` despliega la configuracion de redireccionamiento de puertos de uno o más contenedores.\n",
    "\n",
    "```\n",
    "docker container port <contenedor>\n",
    "```\n",
    "\n",
    "Referencia: https://docs.docker.com/engine/reference/commandline/container_port/"
   ]
  },
  {
   "cell_type": "markdown",
   "metadata": {},
   "source": [
    "**Ejemplo:**\n",
    "\n",
    "* Se desplegará la configuración de reenvío de puertos del contenendor con nombre ```servidor```."
   ]
  },
  {
   "cell_type": "code",
   "execution_count": 14,
   "metadata": {
    "scrolled": false
   },
   "outputs": [
    {
     "name": "stdout",
     "output_type": "stream",
     "text": [
      "80/tcp -> 0.0.0.0:80\n"
     ]
    }
   ],
   "source": [
    "sudo docker container port servidor"
   ]
  },
  {
   "cell_type": "markdown",
   "metadata": {},
   "source": [
    "### El comando ```docker container top```.\n",
    "\n",
    "Este comando es idéntico a ```docker top``` y despliega los procesos ejecutándose al momento en un contenedor.\n",
    "\n",
    "```\n",
    "docker container top <contenedor>\n",
    "```\n",
    "\n",
    "Referencia: https://docs.docker.com/engine/reference/commandline/container_top/"
   ]
  },
  {
   "cell_type": "markdown",
   "metadata": {},
   "source": [
    "**Ejemplo:**\n",
    "\n",
    "* Se desplegará la información de los procesos en ejecución dentro del contenendor con nombre ```servidor```."
   ]
  },
  {
   "cell_type": "code",
   "execution_count": 15,
   "metadata": {
    "scrolled": true
   },
   "outputs": [
    {
     "name": "stdout",
     "output_type": "stream",
     "text": [
      "UID                 PID                 PPID                C                   STIME               TTY                 TIME                CMD\n",
      "root                15016               14994               0                   20:14               ?                   00:00:00            /bin/sh ./start.sh\n",
      "root                15042               15016               1                   20:14               ?                   00:00:00            /usr/bin/python /usr/bin/supervisord -n -c /etc/supervisor/supervisord.conf\n",
      "root                15086               15042               0                   20:14               ?                   00:00:00            nginx: master process /usr/sbin/nginx\n",
      "root                15087               15042               0                   20:14               ?                   00:00:00            php-fpm: master process (/etc/php/7.0/fpm/php-fpm.conf)\n",
      "www-data            15096               15086               0                   20:14               ?                   00:00:00            nginx: worker process\n",
      "www-data            15097               15087               0                   20:14               ?                   00:00:00            php-fpm: pool www\n",
      "www-data            15098               15087               0                   20:14               ?                   00:00:00            php-fpm: pool www\n"
     ]
    }
   ],
   "source": [
    "sudo docker container top servidor"
   ]
  },
  {
   "cell_type": "markdown",
   "metadata": {},
   "source": [
    "### El comando ```docker container stats```.\n",
    "\n",
    "Este comando es idéntico a ```docker stats``` y despliega las estadísticas de uso de un contenedor de forma continua.\n",
    "\n",
    "```\n",
    "docker container stats <contenedor>\n",
    "```\n",
    "\n",
    "Referencia: https://docs.docker.com/engine/reference/commandline/container_stats/"
   ]
  },
  {
   "cell_type": "markdown",
   "metadata": {},
   "source": [
    "**Ejemplos:**"
   ]
  },
  {
   "cell_type": "markdown",
   "metadata": {},
   "source": [
    "* Al ejecutar el siguiente comando desde una terminal, se desplegarán las estadísticas de todos los contenedores en ejecución. \n",
    "\n",
    "```sudo docker container stats```"
   ]
  },
  {
   "cell_type": "markdown",
   "metadata": {},
   "source": [
    "* Al ejecutar el siguiente comando desde una terminal, se desplegarán las estadísticas del contenedor ```servidor```. \n",
    "\n",
    "```sudo docker container stats servidor```"
   ]
  },
  {
   "cell_type": "markdown",
   "metadata": {},
   "source": [
    "### El comando ```docker container diff```.\n",
    "\n",
    "Este comando es idéntico a ```docker diff``` y despliega los cambios ocurridos en un contenedor desde su creación en orden cronológico.\n",
    "\n",
    "```\n",
    "docker container diff <contenedor>\n",
    "```\n",
    "\n",
    "Dichos cambios son de 3 tipos a los cuales se les asocia una de las siguientes letras:\n",
    "\n",
    "* ```C``` cuando un archivo o directorio es modificado.\n",
    "* ```A``` cuando un archivo o directorio ha sido añadido.\n",
    "* ```D``` cuando un archivo o directorio ha sido eliminado.\n",
    "\n",
    "Referencia: https://docs.docker.com/engine/reference/commandline/container_diff/"
   ]
  },
  {
   "cell_type": "markdown",
   "metadata": {},
   "source": [
    "**Ejemplo:**"
   ]
  },
  {
   "cell_type": "markdown",
   "metadata": {},
   "source": [
    "* La siguiente celda desplegará la historia del contenedor con nombre ```servidor```."
   ]
  },
  {
   "cell_type": "code",
   "execution_count": 16,
   "metadata": {},
   "outputs": [
    {
     "name": "stdout",
     "output_type": "stream",
     "text": [
      "C /run\n",
      "A /run/nginx.pid\n",
      "C /run/php\n",
      "A /run/php/php7.0-fpm.pid\n",
      "A /run/php/php7.0-fpm.sock\n",
      "C /tmp\n",
      "A /tmp/nginx-stderr---supervisor-iicjsv.log\n",
      "A /tmp/nginx-stdout---supervisor-PT0br3.log\n",
      "A /tmp/php-fpm7.0-stderr---supervisor-cLtEXN.log\n",
      "A /tmp/php-fpm7.0-stdout---supervisor-O5JR5H.log\n",
      "A /tmp/supervisord.pid\n",
      "C /var\n",
      "C /var/log\n",
      "A /var/log/php7.0-fpm.log\n",
      "A /var/log/supervisord.log\n",
      "C /var/lib\n",
      "C /var/lib/nginx\n",
      "A /var/lib/nginx/body\n",
      "A /var/lib/nginx/fastcgi\n",
      "A /var/lib/nginx/proxy\n",
      "A /var/lib/nginx/scgi\n",
      "A /var/lib/nginx/uwsgi\n",
      "C /etc\n",
      "C /etc/nginx\n",
      "A /etc/nginx/certs\n"
     ]
    }
   ],
   "source": [
    "sudo docker container diff servidor"
   ]
  },
  {
   "cell_type": "markdown",
   "metadata": {},
   "source": [
    "## Comandos de interacción con contenedores."
   ]
  },
  {
   "cell_type": "markdown",
   "metadata": {},
   "source": [
    "### El comando ```docker container attach```.\n",
    "\n",
    "Este comando es idéntico a ```docker attach``` y transfiere la entrada y salida estándar de un contenedor a la terminal desde la que se ejecuta el comando.\n",
    "\n",
    "```\n",
    "docker container attach <contenedor>\n",
    "```\n",
    "\n",
    "\n",
    "Referencia: https://docs.docker.com/engine/reference/commandline/container_attach/"
   ]
  },
  {
   "cell_type": "markdown",
   "metadata": {},
   "source": [
    "**Ejemplo:**\n",
    "\n",
    "* Al ejecutar el siguiente comando en una terminal, a la entrada y salida estándar de dicha terminal estará ligada a la entrada y salida estándar del contenedor con nombre ```servidor```. \n",
    "```\n",
    "sudo docker container attach ubuntu-2\n",
    "```"
   ]
  },
  {
   "cell_type": "markdown",
   "metadata": {},
   "source": [
    "### El comando ```docker container cp```.\n",
    "\n",
    "Este comando es idéntico a ```docker cp ``` y realiza la copia de archivos entre el sistema de archivos de anfitrión y el de un contenedor.\n",
    "\n",
    "```\n",
    "docker container cp <archivo> <contenedor>\n",
    "```\n",
    "\n",
    "\n",
    "Referencia: https://docs.docker.com/engine/reference/commandline/container_cp/"
   ]
  },
  {
   "cell_type": "markdown",
   "metadata": {},
   "source": [
    "**Ejemplo:**\n",
    "\n",
    "* El contenedor llamado ```servidor``` corre un servidor *Nginx* y despliega el contenido por defecto de dicho servidor.\n",
    "\n",
    "En caso de estar ejecutando esta notebook desde la VM publicada en el sitio de Cloudevel®, el servicio puede ser accedido desde [http://localhost:8980](http://localhost:8980).\n",
    "\n",
    "En caso de estar ejecutando esta notebook desde un sistema local, el servicio puede ser accedido desde [http://localhost](http://localhost).\n",
    "\n",
    "* A continuación se realizará le copiará el archivo [src/index.html](src/index.html), el cual sustituirá a la página por defecto de Nginx.\n",
    "\n",
    "**ADVERTENCIA:** Asegúrese que el servidor Apache de la VM proporcionada por Cloudevel® esté deshabilitado."
   ]
  },
  {
   "cell_type": "markdown",
   "metadata": {},
   "source": [
    "**Ejemplo:**"
   ]
  },
  {
   "cell_type": "markdown",
   "metadata": {},
   "source": [
    "* La siguiente celda copiara al archivo localizado en ```src/index.html``` al directorio ```/var/www/html``` del contenedor ```servidor```."
   ]
  },
  {
   "cell_type": "code",
   "execution_count": 19,
   "metadata": {},
   "outputs": [],
   "source": [
    "sudo docker container cp src/index.html servidor:/var/www/html/"
   ]
  },
  {
   "cell_type": "markdown",
   "metadata": {},
   "source": [
    "### El comando ```docker container exec```.\n",
    "\n",
    "Este comando es idéntico a ```docker exec``` y envía al contenedor un comando para ser ejecutado por este y la salida estándar de dico comando será desplegada.\n",
    "\n",
    "```\n",
    "docker container exec <contenedor> <comando>\n",
    "```\n",
    "\n",
    "Referencia: https://docs.docker.com/engine/reference/commandline/container_exec/"
   ]
  },
  {
   "cell_type": "markdown",
   "metadata": {},
   "source": [
    "**Ejemplo:**\n",
    "\n",
    "* La siguiente celda desplegará el listado del directorio ```/var/www/html``` del contenedor llamado ```servidor```."
   ]
  },
  {
   "cell_type": "code",
   "execution_count": 18,
   "metadata": {},
   "outputs": [
    {
     "name": "stdout",
     "output_type": "stream",
     "text": [
      "index.html\n",
      "index.nginx-debian.html\n"
     ]
    }
   ],
   "source": [
    "sudo docker container exec servidor ls /var/www/html"
   ]
  },
  {
   "cell_type": "markdown",
   "metadata": {},
   "source": [
    "## Comandos de gestión de contenedores."
   ]
  },
  {
   "cell_type": "markdown",
   "metadata": {},
   "source": [
    "### El comando ```docker container rename```.\n",
    "\n",
    "Este comando es idéntico a ```docker rename``` y cambia el nombre de un contenedor.\n",
    "\n",
    "Referencia: https://docs.docker.com/engine/reference/commandline/container_rename/"
   ]
  },
  {
   "cell_type": "markdown",
   "metadata": {},
   "source": [
    "**Ejemplo:**\n",
    "\n",
    "La siguiente celda cambirará el nombre del contenedor *servidor* a *nginx*."
   ]
  },
  {
   "cell_type": "code",
   "execution_count": null,
   "metadata": {},
   "outputs": [],
   "source": [
    "sudo docker container rename servidor nginx"
   ]
  },
  {
   "cell_type": "code",
   "execution_count": null,
   "metadata": {},
   "outputs": [],
   "source": [
    "sudo docker container ls --filter name=nginx"
   ]
  },
  {
   "cell_type": "markdown",
   "metadata": {},
   "source": [
    "### El comando ```docker container pause```.\n",
    "\n",
    "Este comando es idéntico a ```docker pause``` y se encarga de detener todos los procesos en ejecución dentro de un contenedor.\n",
    "\n",
    "Referencia: https://docs.docker.com/engine/reference/commandline/container_pause/"
   ]
  },
  {
   "cell_type": "markdown",
   "metadata": {},
   "source": [
    "**Ejemplo:**"
   ]
  },
  {
   "cell_type": "code",
   "execution_count": null,
   "metadata": {},
   "outputs": [],
   "source": [
    "sudo docker container pause nginx"
   ]
  },
  {
   "cell_type": "code",
   "execution_count": null,
   "metadata": {},
   "outputs": [],
   "source": [
    "sudo docker container ls --filter name=nginx"
   ]
  },
  {
   "cell_type": "markdown",
   "metadata": {},
   "source": [
    "### El comando ```docker container unpause```.\n",
    "\n",
    "Este comando es idéntico a ```docker unpause``` y reinicia la ejecución de un contenedor pausado.\n",
    "\n",
    "https://docs.docker.com/engine/reference/commandline/container_unpause/"
   ]
  },
  {
   "cell_type": "markdown",
   "metadata": {},
   "source": [
    "**Ejemplo:**"
   ]
  },
  {
   "cell_type": "code",
   "execution_count": null,
   "metadata": {},
   "outputs": [],
   "source": [
    "sudo docker container unpause nginx"
   ]
  },
  {
   "cell_type": "code",
   "execution_count": null,
   "metadata": {},
   "outputs": [],
   "source": [
    "sudo docker container ls --filter name=nginx"
   ]
  },
  {
   "cell_type": "markdown",
   "metadata": {},
   "source": [
    "### El comando ```docker container stop```.\n",
    "\n",
    "Este comando es idéntico a ```docker stop``` y envía una señal de apagado de un contenedor en ejecución.\n",
    "\n",
    "https://docs.docker.com/engine/reference/commandline/container_stop/"
   ]
  },
  {
   "cell_type": "markdown",
   "metadata": {},
   "source": [
    "**Ejemplo:**"
   ]
  },
  {
   "cell_type": "code",
   "execution_count": null,
   "metadata": {},
   "outputs": [],
   "source": [
    "sudo docker container stop ubuntu-1"
   ]
  },
  {
   "cell_type": "code",
   "execution_count": null,
   "metadata": {
    "scrolled": true
   },
   "outputs": [],
   "source": [
    "sudo docker container ls --filter name=ubuntu-1"
   ]
  },
  {
   "cell_type": "markdown",
   "metadata": {},
   "source": [
    "### El comando ```docker container start```.\n",
    "\n",
    "Este comando es idéntico a ```docker start``` e inicia la ejecución de un contenedor.\n",
    "\n",
    "https://docs.docker.com/engine/reference/commandline/container_start/"
   ]
  },
  {
   "cell_type": "markdown",
   "metadata": {},
   "source": [
    "**Ejemplo:**"
   ]
  },
  {
   "cell_type": "code",
   "execution_count": null,
   "metadata": {},
   "outputs": [],
   "source": [
    "sudo docker container start ubuntu-1"
   ]
  },
  {
   "cell_type": "code",
   "execution_count": null,
   "metadata": {},
   "outputs": [],
   "source": [
    "sudo docker container ls --filter name=ubuntu-1"
   ]
  },
  {
   "cell_type": "markdown",
   "metadata": {},
   "source": [
    "### El comando ```docker container restart```.\n",
    "\n",
    "Este comando es idéntico a ```docker restart``` y reinicia a un contenedor en ejecución.\n",
    "\n",
    "https://docs.docker.com/engine/reference/commandline/container_restart/"
   ]
  },
  {
   "cell_type": "markdown",
   "metadata": {},
   "source": [
    "**Ejemplo:**"
   ]
  },
  {
   "cell_type": "code",
   "execution_count": null,
   "metadata": {},
   "outputs": [],
   "source": [
    "sudo docker container restart ubuntu-1"
   ]
  },
  {
   "cell_type": "markdown",
   "metadata": {},
   "source": [
    "### El comando ```docker container kill```.\n",
    "\n",
    "Este comando es idéntico a ```docker kill``` y destruye a un contenedor. Se utiliza cuando un contenedor no puede ser detenido mediante el comando ```docker container stop```.\n",
    "\n",
    "https://docs.docker.com/engine/reference/commandline/container_kill/"
   ]
  },
  {
   "cell_type": "markdown",
   "metadata": {},
   "source": [
    "**Ejemplo:**"
   ]
  },
  {
   "cell_type": "code",
   "execution_count": null,
   "metadata": {},
   "outputs": [],
   "source": [
    "sudo docker container kill ubuntu-1"
   ]
  },
  {
   "cell_type": "markdown",
   "metadata": {},
   "source": [
    "### El comando ```docker container rm```.\n",
    "\n",
    "Este comando es idéntico a ```docker rm``` y elimina a un contenedor.\n",
    "\n",
    "https://docs.docker.com/engine/reference/commandline/container_kill/"
   ]
  },
  {
   "cell_type": "markdown",
   "metadata": {},
   "source": [
    "**Ejemplo:**"
   ]
  },
  {
   "cell_type": "code",
   "execution_count": null,
   "metadata": {},
   "outputs": [],
   "source": [
    "sudo docker container rm ubuntu-1"
   ]
  },
  {
   "cell_type": "code",
   "execution_count": null,
   "metadata": {
    "scrolled": true
   },
   "outputs": [],
   "source": [
    "sudo docker container ls -a --filter name=ubuntu*"
   ]
  },
  {
   "cell_type": "markdown",
   "metadata": {},
   "source": [
    "### El comando ```docker container prune```.\n",
    "\n",
    "Este comando elimina a los contenedores que no están en ejecución.\n",
    "\n",
    "https://docs.docker.com/engine/reference/commandline/container_prune/"
   ]
  },
  {
   "cell_type": "code",
   "execution_count": null,
   "metadata": {},
   "outputs": [],
   "source": [
    "sudo docker ps -a"
   ]
  },
  {
   "cell_type": "code",
   "execution_count": null,
   "metadata": {},
   "outputs": [],
   "source": [
    "sudo docker container prune -f"
   ]
  },
  {
   "cell_type": "code",
   "execution_count": null,
   "metadata": {
    "scrolled": false
   },
   "outputs": [],
   "source": [
    "sudo docker ps -a"
   ]
  },
  {
   "cell_type": "markdown",
   "metadata": {},
   "source": [
    "### El comando ```docker container export```.\n",
    "\n",
    "Este comando es idéntico a ```docker export``` y su función es crear un archivo que contengan la información necesarioa para reconstruir un contenedor.\n",
    "\n",
    "https://docs.docker.com/engine/reference/commandline/container_export/"
   ]
  },
  {
   "cell_type": "code",
   "execution_count": null,
   "metadata": {},
   "outputs": [],
   "source": [
    "sudo docker container export nginx -o nginx.tar"
   ]
  },
  {
   "cell_type": "code",
   "execution_count": null,
   "metadata": {},
   "outputs": [],
   "source": [
    "ls *.tar"
   ]
  },
  {
   "cell_type": "markdown",
   "metadata": {},
   "source": [
    "### El comando ```docker container commit```.\n",
    "\n",
    "Este comando crea una imagen del contenedor actual.\n",
    "\n",
    "```\n",
    "docker commit <contenedor> <imagen>\n",
    "```\n",
    "\n",
    "Este comando es idéntico a ```docker commit```.\n",
    "\n",
    "\n",
    "Referencia: https://docs.docker.com/engine/reference/commandline/container_commit/"
   ]
  },
  {
   "cell_type": "markdown",
   "metadata": {},
   "source": [
    "**Ejemplo:**"
   ]
  },
  {
   "cell_type": "markdown",
   "metadata": {},
   "source": [
    "La siguiente celda creará la imagen ```nginx:123``` a partir del contenedor ```nginx```."
   ]
  },
  {
   "cell_type": "code",
   "execution_count": null,
   "metadata": {},
   "outputs": [],
   "source": [
    "sudo docker commit nginx nginx:123"
   ]
  },
  {
   "cell_type": "code",
   "execution_count": null,
   "metadata": {},
   "outputs": [],
   "source": [
    "sudo docker images"
   ]
  },
  {
   "cell_type": "markdown",
   "metadata": {},
   "source": [
    "<p style=\"text-align: center\"><a rel=\"license\" href=\"http://creativecommons.org/licenses/by/4.0/\"><img alt=\"Licencia Creative Commons\" style=\"border-width:0\" src=\"https://i.creativecommons.org/l/by/4.0/80x15.png\" /></a><br />Esta obra está bajo una <a rel=\"license\" href=\"http://creativecommons.org/licenses/by/4.0/\">Licencia Creative Commons Atribución 4.0 Internacional</a>.</p>\n",
    "<p style=\"text-align: center\">&copy; José Luis Chiquete Valdivieso. 2020.</p>"
   ]
  }
 ],
 "metadata": {
  "kernelspec": {
   "display_name": "Bash",
   "language": "bash",
   "name": "bash"
  },
  "language_info": {
   "codemirror_mode": "shell",
   "file_extension": ".sh",
   "mimetype": "text/x-sh",
   "name": "bash"
  }
 },
 "nbformat": 4,
 "nbformat_minor": 2
}
