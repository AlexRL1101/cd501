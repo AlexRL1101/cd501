{
 "cells": [
  {
   "cell_type": "markdown",
   "metadata": {
    "slideshow": {
     "slide_type": "slide"
    }
   },
   "source": [
    "[![cloudevel](img/cloudevel.png)](https://cloudevel.com)"
   ]
  },
  {
   "cell_type": "markdown",
   "metadata": {},
   "source": [
    "# Introducción a contenedores."
   ]
  },
  {
   "cell_type": "markdown",
   "metadata": {
    "slideshow": {
     "slide_type": "slide"
    }
   },
   "source": [
    "## Particionamiento, zonas y contenedores.\n",
    "\n",
    "Existen casos en los que en lugar de crear entornos completamente autónomos, como es el caso de las máquinas virtuales, se ha optado por crear entornos en los cuales las operaciones de bajo nivel las realiza el sistema operativo del anfitrión mientras que a los sistemas huésped se les asignan recursos aislados tanto del anfitrión como de los otros huéspedes.\n",
    "De este modo, tanto el anfitrión como los huéspedes comparten el mismo kernel y recursos básicos del sistema, pero se ejecutan en entornos separados."
   ]
  },
  {
   "cell_type": "markdown",
   "metadata": {},
   "source": [
    "## Máquinas virtuales vs Contenedores."
   ]
  },
  {
   "cell_type": "markdown",
   "metadata": {},
   "source": [
    "Las máquinas virtuales (*VM*) por lo general constan de un hipervisor, el cual emula y sintetiza un entorno de hardware en el que es posible instalar sistemas operativos completos.\n",
    "\n",
    "Emular y ejecutar entornos de hardware y sistemas completos requiere de bastantes recursos de cómputo.\n",
    "\n",
    "<img src=\"img/01/arquitectura_vm.png\" width=\"50%\">"
   ]
  },
  {
   "cell_type": "markdown",
   "metadata": {},
   "source": [
    "Los contenedores permiten ejecutar aplicaciones aisladas del sistema anfitirón aprovechando el *kernel*y los procesos del sistema. En los contenedores únicamente existen las bibliotecas de la aplicacióny la aplicación.\n",
    "\n",
    "<img src=\"img/01/arquitectura_contenedores.png\" width=\"50%\">"
   ]
  },
  {
   "cell_type": "markdown",
   "metadata": {
    "slideshow": {
     "slide_type": "subslide"
    }
   },
   "source": [
    "### Principales herramientas de contenedores.\n",
    "* Jail en \\*BSD.\n",
    "* Chroot en Linux.\n",
    "* [Docker.](http://www.docker.com/)\n",
    "* [Linux Containers (LXC/LXD).](https://linuxcontainers.org/)\n",
    "* [OpenVZ.](https://openvz.org/)\n",
    "* [Linux VSever.](http://linux-vserver.org/)"
   ]
  },
  {
   "cell_type": "markdown",
   "metadata": {},
   "source": [
    "## Conceptos básico sobre los contenedores.\n",
    "\n",
    "Los contenedores son espacios dentro de un sistema operativo anfitrión que tienen su propia estructura de directorios y sus propias bilbiotecas.\n",
    "\n",
    "Los contenedores comparten el kernel del sistema anfitrión y algunos procesos básicos, pero todo lo demás es autónomo y aislado."
   ]
  },
  {
   "cell_type": "markdown",
   "metadata": {},
   "source": [
    "### Características de los contenedores.\n",
    "\n",
    "* Un contenedor es mucho más ligero que una máquina virtual. \n",
    "* Los contenedores están diseñados para apagarse tan pronto como ejecutan los procesos para los que fueron creados.\n",
    "* Los contenedores están diseñados para realizar procesos aislados.\n",
    "* Los contenedores no deben de tener estados que afecten a un sistema.    "
   ]
  },
  {
   "cell_type": "markdown",
   "metadata": {
    "slideshow": {
     "slide_type": "subslide"
    }
   },
   "source": [
    "## Clusterización de contenedores.\n",
    "* [Docker Swarm.](https://docs.docker.com/engine/swarm/) \n",
    "Es el orquestador de cluters de contenedores de *Docker*.\n",
    "* [Kubernetes.](https://kubernetes.io/)\n",
    "Es una herramienta de gestión y orquestación de cargas contenerizadas desarrollada originalmente por *Google*."
   ]
  },
  {
   "cell_type": "markdown",
   "metadata": {
    "slideshow": {
     "slide_type": "subslide"
    }
   },
   "source": [
    "## La *Open Container Initiative*."
   ]
  },
  {
   "cell_type": "markdown",
   "metadata": {},
   "source": [
    "Es un esfuerzo para regular y darle gobernanza al desarrollo de tecnologías basadas en contenedores.\n",
    "\n",
    "La [*Open Container Initiative (OCI)*]((https://www.opencontainers.org)) es una estructura de gobernanza abierta con el propósito expreso de crear estándares industriales abiertos en torno a los formatos y entornos de contenedores. Establecida en junio de 2015 por *Docker* y otros líderes de la industria de contenedores, la *OCI* actualmente contiene tres especificaciones: \n",
    "* La Especificación de Tiempo de Ejecución (*runtime-spec*), la cual describe cómo ejecutar un \"paquete de sistema de archivos\" que se desempaqueta en el disco.\n",
    "* La Especificación de Imagen (*image-spec*), a grandes rasgos, una implementación *OCI* descargaría una Imagen *OCI* y luego desempaquetaría esa imagen en un paquete de sistema de archivos *OCI*.\n",
    "* La Especificación de Distribución (*distribution-spec*).\n",
    "\n",
    "https://www.tutorialworks.com/assets/images/container-ecosystem.drawio.png"
   ]
  },
  {
   "cell_type": "markdown",
   "metadata": {
    "slideshow": {
     "slide_type": "slide"
    }
   },
   "source": [
    "<p style=\"text-align: center\"><a rel=\"license\" href=\"http://creativecommons.org/licenses/by/4.0/\"><img alt=\"Licencia Creative Commons\" style=\"border-width:0\" src=\"https://i.creativecommons.org/l/by/4.0/80x15.png\" /></a><br />Esta obra está bajo una <a rel=\"license\" href=\"http://creativecommons.org/licenses/by/4.0/\">Licencia Creative Commons Atribución 4.0 Internacional</a>.</p>\n",
    "<p style=\"text-align: center\">&copy; José Luis Chiquete Valdivieso. 2023.</p>"
   ]
  }
 ],
 "metadata": {
  "kernelspec": {
   "display_name": "Python 3 (ipykernel)",
   "language": "python",
   "name": "python3"
  },
  "language_info": {
   "codemirror_mode": {
    "name": "ipython",
    "version": 3
   },
   "file_extension": ".py",
   "mimetype": "text/x-python",
   "name": "python",
   "nbconvert_exporter": "python",
   "pygments_lexer": "ipython3",
   "version": "3.9.2"
  }
 },
 "nbformat": 4,
 "nbformat_minor": 4
}
