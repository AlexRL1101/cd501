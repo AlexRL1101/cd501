{
 "cells": [
  {
   "cell_type": "markdown",
   "metadata": {},
   "source": [
    "[![cloudevel](img/cloudevel.png)](https://cloudevel.com)"
   ]
  },
  {
   "cell_type": "markdown",
   "metadata": {},
   "source": [
    "# Ejecución básica de contenedores."
   ]
  },
  {
   "cell_type": "markdown",
   "metadata": {},
   "source": [
    "## Ejecución de comandos de *Docker*.\n",
    "\n",
    "El comando ```docker``` permite acceder a funciones de ejecución y gestión de contendores desde una terminal con uin sintaxis como:\n",
    "\n",
    "```docker <subcomando>``` \n",
    "\n",
    "**Nota:** Es necesario contar con los permisos para ejecutar el comando."
   ]
  },
  {
   "cell_type": "markdown",
   "metadata": {},
   "source": [
    "## Ejecución de un contenedor.\n",
    "\n",
    "Para acceder y ejecutar un contenedor sólo es necesario utilizar el siguiente comando con el nombre de la imagen que se desea ejecutar.\n",
    "\n",
    "```docker run  <argumentos> <imagen> <comando>```\n",
    "\n",
    "Donde:\n",
    "\n",
    "* `<imagen>` es la ruta de una imagen de contenedor.\n",
    "\n",
    "El proceso de ejecución:\n",
    "\n",
    "* Docker buscará la imagen en la ruta indicada -en caso de definir una *URL* se da por sentado que la ruta esta *Docker Hub*-, la descargará, la instanciará en un contenedor y la ejecutará.\n",
    "* Tan pronto como el contenedor termine la ejecución, éste será terminado, pero no destruido.\n",
    "\n",
    "Los argumentos de ejecución de un contenedor permiten definir muchas características de éste, tales como el uso de recursos, conexiones y la interacción con el usuario.\n",
    "\n",
    "Referencia: https://docs.docker.com/engine/reference/commandline/run/\n",
    "\n",
    "**NOTA:** Es necesario que el usuario tenga los permisos suficientes para ejecutar el comando."
   ]
  },
  {
   "cell_type": "markdown",
   "metadata": {},
   "source": [
    "**Ejemplo:**"
   ]
  },
  {
   "cell_type": "markdown",
   "metadata": {},
   "source": [
    "* Se ejecutará la imagen https://hub.docker.com/_/hello-world/"
   ]
  },
  {
   "cell_type": "code",
   "execution_count": 1,
   "metadata": {},
   "outputs": [
    {
     "name": "stdout",
     "output_type": "stream",
     "text": [
      "\r\n",
      "Hello from Docker!\r\n",
      "This message shows that your installation appears to be working correctly.\r\n",
      "\r\n",
      "To generate this message, Docker took the following steps:\r\n",
      " 1. The Docker client contacted the Docker daemon.\r\n",
      " 2. The Docker daemon pulled the \"hello-world\" image from the Docker Hub.\r\n",
      "    (amd64)\r\n",
      " 3. The Docker daemon created a new container from that image which runs the\r\n",
      "    executable that produces the output you are currently reading.\r\n",
      " 4. The Docker daemon streamed that output to the Docker client, which sent it\r\n",
      "    to your terminal.\r\n",
      "\r\n",
      "To try something more ambitious, you can run an Ubuntu container with:\r\n",
      " $ docker run -it ubuntu bash\r\n",
      "\r\n",
      "Share images, automate workflows, and more with a free Docker ID:\r\n",
      " https://hub.docker.com/\r\n",
      "\r\n",
      "For more examples and ideas, visit:\r\n",
      " https://docs.docker.com/get-started/\r\n",
      "\r\n"
     ]
    }
   ],
   "source": [
    "!docker run hello-world"
   ]
  },
  {
   "cell_type": "markdown",
   "metadata": {},
   "source": [
    "### Acceso a un contenedor en ejecución mediante la *CLI*.\n",
    "\n",
    "Para poder acceder a un contenedor mediante un emulador de terminal se utilizan los parámetros:\n",
    "\n",
    "* ```-i```, el cual permite al usuario interactuar con un contenedor en ejecución.\n",
    "* ```-t```, el cual permite conectarse a un conetendor nediante una terminal.\n",
    "\n",
    "La sintaxis es la siguiente:\n",
    "\n",
    "```docker run -it <nombre> <entorno de shell>```\n",
    "\n",
    "* El entorno de *shell* más comunmente utilizado es ```/bin/bash```."
   ]
  },
  {
   "cell_type": "markdown",
   "metadata": {},
   "source": [
    "**Ejemplo:**\n",
    "\n",
    "* Ejecute el siguiente comando desde una terminal para acceder a un contenedor de *Ubuntu*.\n",
    "\n",
    "```\n",
    "docker run -it ubuntu /bin/bash\n",
    "```\n",
    "\n",
    "Para salir del contenedor teclee ```exit```."
   ]
  },
  {
   "cell_type": "markdown",
   "metadata": {},
   "source": [
    "###  Definición de recursos."
   ]
  },
  {
   "cell_type": "markdown",
   "metadata": {},
   "source": [
    "Es posible dimensionar los recursos a los que puede acceder un contenedor mediante ciertos parámetros al utilizar ```docker run```. \n",
    "\n",
    "La lista completa de recursos puede ser consultada en:\n",
    "\n",
    "* https://docs.docker.com/config/containers/resource_constraints/"
   ]
  },
  {
   "cell_type": "markdown",
   "metadata": {},
   "source": [
    "**Ejemplo:**\n",
    "\n",
    "* Los recursos más comunes que se definen para un contenedor son:\n",
    "\n",
    "* Memoria.\n",
    "* CPU.\n",
    "\n",
    "Al ejecutar el siguiente comando eu nuna terminal, se creará un contenedor basado en Ubuntu al que se le limita com el 50% del rendimiento de un núcleo de la CPU y 128MB de RAM.\n",
    "\n",
    "``` bash\n",
    "sudo docker run -it --cpus=\".5\" --memory=\"128m\" ubuntu /bin/bash\n",
    "```"
   ]
  },
  {
   "cell_type": "markdown",
   "metadata": {},
   "source": [
    "### Reenvío de puertos.\n",
    "\n",
    "Es posible reenviar los paquetes desde  un puerto del contenedor a un puerto del sistema anfitrión usando la siguiente sintaxis:\n",
    "\n",
    "```\n",
    "docker run --port <puerto del anfitrión>:<puerto del contenedor> ...\n",
    "```\n",
    "```\n",
    "docker run -p <puerto del anfitrión>:<puerto del contenedor> ...\n",
    "```"
   ]
  },
  {
   "cell_type": "markdown",
   "metadata": {},
   "source": [
    "###  Volúmenes.\n",
    "\n",
    "Es posible asignar uno o varios volúmenes a un contenedor, los cuales serán montados de forma similar a como se hace con fstab. \n",
    "\n",
    "```\n",
    "docker run -v <directorio del anfitrión>:<directorio del contenedor> ...\n",
    "```"
   ]
  },
  {
   "cell_type": "markdown",
   "metadata": {},
   "source": [
    "### Ejecución de un contendor en trasfondo.\n",
    "\n",
    "El parámetro ```-d``` o ```--detach``` ejecutará un contenedor desligado a una terminal."
   ]
  },
  {
   "cell_type": "markdown",
   "metadata": {},
   "source": [
    "### Asignación de un nombre a un contenedor.\n",
    "\n",
    "Para asignarle un nombre a un contenedor se su uitliza el parámetro ```--name``` seguido del nombre que se le desea asignar. \n",
    "\n",
    "```docker run --name <nombre del contendor> <argumentos> <nombre de la imagen> <comando>```"
   ]
  },
  {
   "cell_type": "markdown",
   "metadata": {},
   "source": [
    "## Recuperación de un contenedor ejecutándose en trasfondo.\n",
    "\n",
    "Para retomar a un contendor que se está ejecutando en trasfondo se utiliza el comando:\n",
    "\n",
    "```docker attach <identificador>```\n",
    "\n",
    "Referencia: https://docs.docker.com/engine/reference/commandline/attach/"
   ]
  },
  {
   "cell_type": "markdown",
   "metadata": {},
   "source": [
    "**Ejemplo:**\n",
    "\n",
    "* La siguiente celda ejecutará un contenedor de Ubuntu utilizando los parámetros ```-dit``` y se le asignará el nombre ```Prueba```."
   ]
  },
  {
   "cell_type": "code",
   "execution_count": 2,
   "metadata": {},
   "outputs": [
    {
     "name": "stdout",
     "output_type": "stream",
     "text": [
      "214eb529fc0d7cc4c8604c55b038468e92b6307102037ea1bd608810f168ceaa\r\n"
     ]
    }
   ],
   "source": [
    "!docker run -idt --name Prueba ubuntu /bin/bash"
   ]
  },
  {
   "cell_type": "code",
   "execution_count": 3,
   "metadata": {
    "scrolled": true
   },
   "outputs": [
    {
     "name": "stdout",
     "output_type": "stream",
     "text": [
      "CONTAINER ID   IMAGE     COMMAND       CREATED          STATUS          PORTS     NAMES\r\n",
      "214eb529fc0d   ubuntu    \"/bin/bash\"   13 seconds ago   Up 12 seconds             Prueba\r\n"
     ]
    }
   ],
   "source": [
    "!docker ps"
   ]
  },
  {
   "cell_type": "markdown",
   "metadata": {},
   "source": [
    "* Para acceder a este contenedor utilice el siguiente comando desde una terminal:\n",
    "\n",
    "```docker attach Prueba``` \n",
    "\n",
    "* Para salir del contenedor use ```exit```."
   ]
  },
  {
   "cell_type": "markdown",
   "metadata": {},
   "source": [
    "## Consulta sobre los contenedores en un sistema.\n",
    "\n",
    "Es posible hacer consultas sobre el estado de los contenedores del sistema local mediante:\n",
    "\n",
    "```docker ps```\n",
    "\n",
    "Referencia: https://docs.docker.com/engine/reference/commandline/ps/"
   ]
  },
  {
   "cell_type": "markdown",
   "metadata": {},
   "source": [
    "Al usar ```docker ps``` sin argumentos, el comando nos regresará el listado de contenedores en ejecución.\n",
    "\n",
    "Los nombres de los contenedores son asignados automáticamente por *Docker*."
   ]
  },
  {
   "cell_type": "markdown",
   "metadata": {},
   "source": [
    "**Ejemplo:** \n",
    "\n",
    "* La siguiente celda desplegará el listado de contenedores en ejecución. \n",
    "* Si no ha cerrado el contenedor del ejemplo previo, este será enlistado."
   ]
  },
  {
   "cell_type": "code",
   "execution_count": 4,
   "metadata": {
    "scrolled": true
   },
   "outputs": [
    {
     "name": "stdout",
     "output_type": "stream",
     "text": [
      "CONTAINER ID   IMAGE     COMMAND   CREATED   STATUS    PORTS     NAMES\r\n"
     ]
    }
   ],
   "source": [
    "!docker ps"
   ]
  },
  {
   "cell_type": "markdown",
   "metadata": {},
   "source": [
    "Al usar ```docker ps -a ``` el comando nos regresará el listado de contenedores que hayan sido ejecutados."
   ]
  },
  {
   "cell_type": "markdown",
   "metadata": {},
   "source": [
    "**Ejemplo:**\n",
    "\n",
    "* La siguiente celda desplegará el listado de todos los conrtenedores que se hayan ejecutado."
   ]
  },
  {
   "cell_type": "code",
   "execution_count": 5,
   "metadata": {
    "scrolled": true
   },
   "outputs": [
    {
     "name": "stdout",
     "output_type": "stream",
     "text": [
      "CONTAINER ID   IMAGE         COMMAND       CREATED          STATUS                          PORTS     NAMES\r\n",
      "214eb529fc0d   ubuntu        \"/bin/bash\"   3 minutes ago    Exited (0) About a minute ago             Prueba\r\n",
      "201398b22028   ubuntu        \"/bin/bash\"   13 minutes ago   Exited (0) 9 minutes ago                  compassionate_mirzakhani\r\n",
      "00f77a1e59db   hello-world   \"/hello\"      15 minutes ago   Exited (0) 15 minutes ago                 kind_thompson\r\n",
      "362014df4825   hello-world   \"/hello\"      21 hours ago     Exited (0) 21 hours ago                   goofy_mayer\r\n",
      "0ad61edb9cd7   hello-world   \"/hello\"      21 hours ago     Exited (0) 21 hours ago                   blissful_maxwell\r\n"
     ]
    }
   ],
   "source": [
    "!docker ps -a"
   ]
  },
  {
   "cell_type": "markdown",
   "metadata": {},
   "source": [
    " ## Detención de un contenedor en ejecución."
   ]
  },
  {
   "cell_type": "markdown",
   "metadata": {},
   "source": [
    "Para detener un contenedor utilice el comando:\n",
    "\n",
    "```docker stop <identificador>```\n",
    "\n",
    "Referencia: https://docs.docker.com/engine/reference/commandline/stop/"
   ]
  },
  {
   "cell_type": "markdown",
   "metadata": {},
   "source": [
    "**Ejemplo:**\n",
    "\n",
    "* Se detendrá el contenedor llamado ```prueba``` el cual fue ejecutado previamante."
   ]
  },
  {
   "cell_type": "code",
   "execution_count": 7,
   "metadata": {},
   "outputs": [
    {
     "name": "stdout",
     "output_type": "stream",
     "text": [
      "docker: Error response from daemon: Conflict. The container name \"/Prueba\" is already in use by container \"214eb529fc0d7cc4c8604c55b038468e92b6307102037ea1bd608810f168ceaa\". You have to remove (or rename) that container to be able to reuse that name.\r\n",
      "See 'docker run --help'.\r\n"
     ]
    }
   ],
   "source": [
    "!docker run -idt --name prueba ubuntu /bin/bash"
   ]
  },
  {
   "cell_type": "code",
   "execution_count": 8,
   "metadata": {
    "scrolled": true
   },
   "outputs": [
    {
     "name": "stdout",
     "output_type": "stream",
     "text": [
      "prueba\r\n"
     ]
    }
   ],
   "source": [
    "!docker stop prueba"
   ]
  },
  {
   "cell_type": "code",
   "execution_count": 10,
   "metadata": {},
   "outputs": [
    {
     "name": "stdout",
     "output_type": "stream",
     "text": [
      "CONTAINER ID   IMAGE         COMMAND       CREATED          STATUS                       PORTS     NAMES\r\n",
      "c4bc9034c406   ubuntu        \"/bin/bash\"   47 seconds ago   Exited (137) 6 seconds ago             prueba\r\n",
      "214eb529fc0d   ubuntu        \"/bin/bash\"   5 minutes ago    Exited (0) 4 minutes ago               Prueba\r\n",
      "201398b22028   ubuntu        \"/bin/bash\"   15 minutes ago   Exited (0) 12 minutes ago              compassionate_mirzakhani\r\n",
      "00f77a1e59db   hello-world   \"/hello\"      18 minutes ago   Exited (0) 18 minutes ago              kind_thompson\r\n",
      "362014df4825   hello-world   \"/hello\"      21 hours ago     Exited (0) 21 hours ago                goofy_mayer\r\n",
      "0ad61edb9cd7   hello-world   \"/hello\"      21 hours ago     Exited (0) 21 hours ago                blissful_maxwell\r\n"
     ]
    }
   ],
   "source": [
    "!docker ps -a"
   ]
  },
  {
   "cell_type": "markdown",
   "metadata": {},
   "source": [
    "## Eliminación de un contenedor.\n",
    "\n",
    "Para eliminar uno o varios contenedor existentes se puede utilizar el comando:\n",
    "\n",
    "```docker rm <identificadores>```\n",
    "En donde el identificador puede ser el número de ID o el nombre del contenedor.\n",
    "\n",
    "Referencia: https://docs.docker.com/engine/reference/commandline/rm/"
   ]
  },
  {
   "cell_type": "markdown",
   "metadata": {},
   "source": [
    "**Ejemplo:**\n",
    "\n",
    "* Se eliminará el contenedor llamado ```Prueba```."
   ]
  },
  {
   "cell_type": "code",
   "execution_count": 11,
   "metadata": {
    "scrolled": true
   },
   "outputs": [
    {
     "name": "stdout",
     "output_type": "stream",
     "text": [
      "Prueba\r\n"
     ]
    }
   ],
   "source": [
    "!docker rm Prueba"
   ]
  },
  {
   "cell_type": "code",
   "execution_count": 12,
   "metadata": {
    "scrolled": true
   },
   "outputs": [
    {
     "name": "stdout",
     "output_type": "stream",
     "text": [
      "CONTAINER ID   IMAGE         COMMAND       CREATED              STATUS                        PORTS     NAMES\r\n",
      "c4bc9034c406   ubuntu        \"/bin/bash\"   About a minute ago   Exited (137) 26 seconds ago             prueba\r\n",
      "201398b22028   ubuntu        \"/bin/bash\"   15 minutes ago       Exited (0) 12 minutes ago               compassionate_mirzakhani\r\n",
      "00f77a1e59db   hello-world   \"/hello\"      18 minutes ago       Exited (0) 18 minutes ago               kind_thompson\r\n",
      "362014df4825   hello-world   \"/hello\"      21 hours ago         Exited (0) 21 hours ago                 goofy_mayer\r\n",
      "0ad61edb9cd7   hello-world   \"/hello\"      21 hours ago         Exited (0) 21 hours ago                 blissful_maxwell\r\n"
     ]
    }
   ],
   "source": [
    "!docker ps -a"
   ]
  },
  {
   "cell_type": "markdown",
   "metadata": {},
   "source": [
    "## Despliegue de la información de *docker*.\n",
    "\n",
    "Para desplegar la información del servicio de *Docker* que corre en el sistema local se utiliza el comando:\n",
    "\n",
    "```docker info```"
   ]
  },
  {
   "cell_type": "markdown",
   "metadata": {},
   "source": [
    "**Ejemplo:**"
   ]
  },
  {
   "cell_type": "code",
   "execution_count": 13,
   "metadata": {
    "scrolled": true
   },
   "outputs": [
    {
     "name": "stdout",
     "output_type": "stream",
     "text": [
      "Client: Docker Engine - Community\r\n",
      " Version:    24.0.6\r\n",
      " Context:    default\r\n",
      " Debug Mode: false\r\n",
      " Plugins:\r\n",
      "  buildx: Docker Buildx (Docker Inc.)\r\n",
      "    Version:  v0.11.2\r\n",
      "    Path:     /usr/libexec/docker/cli-plugins/docker-buildx\r\n",
      "  compose: Docker Compose (Docker Inc.)\r\n",
      "    Version:  v2.21.0\r\n",
      "    Path:     /usr/libexec/docker/cli-plugins/docker-compose\r\n",
      "\r\n",
      "Server:\r\n",
      " Containers: 5\r\n",
      "  Running: 0\r\n",
      "  Paused: 0\r\n",
      "  Stopped: 5\r\n",
      " Images: 3\r\n",
      " Server Version: 24.0.6\r\n",
      " Storage Driver: overlay2\r\n",
      "  Backing Filesystem: extfs\r\n",
      "  Supports d_type: true\r\n",
      "  Using metacopy: false\r\n",
      "  Native Overlay Diff: true\r\n",
      "  userxattr: false\r\n",
      " Logging Driver: json-file\r\n",
      " Cgroup Driver: systemd\r\n",
      " Cgroup Version: 2\r\n",
      " Plugins:\r\n",
      "  Volume: local\r\n",
      "  Network: bridge host ipvlan macvlan null overlay\r\n",
      "  Log: awslogs fluentd gcplogs gelf journald json-file local logentries splunk syslog\r\n",
      " Swarm: inactive\r\n",
      " Runtimes: io.containerd.runc.v2 runc\r\n",
      " Default Runtime: runc\r\n",
      " Init Binary: docker-init\r\n",
      " containerd version: 61f9fd88f79f081d64d6fa3bb1a0dc71ec870523\r\n",
      " runc version: v1.1.9-0-gccaecfc\r\n",
      " init version: de40ad0\r\n",
      " Security Options:\r\n",
      "  apparmor\r\n",
      "  seccomp\r\n",
      "   Profile: builtin\r\n",
      "  cgroupns\r\n",
      " Kernel Version: 5.10.0-16-amd64\r\n",
      " Operating System: Debian GNU/Linux 11 (bullseye)\r\n",
      " OSType: linux\r\n",
      " Architecture: x86_64\r\n",
      " CPUs: 6\r\n",
      " Total Memory: 46.72GiB\r\n",
      " Name: pythonista\r\n",
      " ID: 2277a801-99e4-4270-87fe-83099af55a85\r\n",
      " Docker Root Dir: /var/lib/docker\r\n",
      " Debug Mode: false\r\n",
      " Experimental: false\r\n",
      " Insecure Registries:\r\n",
      "  127.0.0.0/8\r\n",
      " Live Restore Enabled: false\r\n",
      "\r\n"
     ]
    }
   ],
   "source": [
    "!docker info"
   ]
  },
  {
   "cell_type": "markdown",
   "metadata": {},
   "source": [
    "<p style=\"text-align: center\"><a rel=\"license\" href=\"http://creativecommons.org/licenses/by/4.0/\"><img alt=\"Licencia Creative Commons\" style=\"border-width:0\" src=\"https://i.creativecommons.org/l/by/4.0/80x15.png\" /></a><br />Esta obra está bajo una <a rel=\"license\" href=\"http://creativecommons.org/licenses/by/4.0/\">Licencia Creative Commons Atribución 4.0 Internacional</a>.</p>\n",
    "<p style=\"text-align: center\">&copy; José Luis Chiquete Valdivieso. 2023.</p>"
   ]
  }
 ],
 "metadata": {
  "kernelspec": {
   "display_name": "Python 3 (ipykernel)",
   "language": "python",
   "name": "python3"
  },
  "language_info": {
   "codemirror_mode": {
    "name": "ipython",
    "version": 3
   },
   "file_extension": ".py",
   "mimetype": "text/x-python",
   "name": "python",
   "nbconvert_exporter": "python",
   "pygments_lexer": "ipython3",
   "version": "3.9.2"
  }
 },
 "nbformat": 4,
 "nbformat_minor": 4
}
