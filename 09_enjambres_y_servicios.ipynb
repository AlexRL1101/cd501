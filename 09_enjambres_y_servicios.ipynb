{
 "cells": [
  {
   "cell_type": "markdown",
   "metadata": {},
   "source": [
    "[![cloudevel](Imagenes/cloudevel.png)](https://cloudevel.com)"
   ]
  },
  {
   "cell_type": "markdown",
   "metadata": {},
   "source": [
    "# Enjambres (swarms) y servicios de Docker."
   ]
  },
  {
   "cell_type": "markdown",
   "metadata": {},
   "source": [
    "Como regla general, los contenedores deben de ser diseñados para realizar una función en particular. Debido a ello, es natural pensar que un sistema debe de estar compuesto por un conjunto de contenedores capaces de interoperar entre si.\n",
    "\n",
    "*Docker Inc.*, la empresa creadora de *Docker* acuñó es concepto de \"swarm\" (enjambre en inglés) como un modo de definir, gestionar y orquestar un cluster de contenedores que podía ser desplegados de forma coordinada en uno o más equipos anfitriones con el *Docker Engine* instalado. \n",
    "\n",
    "En un principio *Docker Swarm* era un producto que se distribuía independientemente del *Docker Engine*. Sin embargo, a partir de la vesión 1.12, el *Docker Engine* incluye las funcionalidades de *Docker Swarm*.\n",
    "\n",
    "Los conceptos básicos pueden ser consultados en:\n",
    "\n",
    "https://docs.docker.com/engine/swarm/key-concepts/"
   ]
  },
  {
   "cell_type": "markdown",
   "metadata": {},
   "source": [
    "## Nodos y clusters.\n",
    "\n",
    "Los nodos son equipos que cuentan con una instalación de *Docker Engine* y que conforman un *cluster* (no  confundir con *swarm*). Existen 2 tipos de nodos:\n",
    "\n",
    "* Gestores (*managers*), los cuales se encargan de gestionar y orquestar el cluster. \n",
    "* Trabajadores (*workers*), los cuales son los componentes encargados de correr los servicios t contener a los contenedores que integran el *swarm*.\n",
    "\n",
    "La estructura de un cluster de *Docker Swarm* puede ser consultada en:\n",
    "\n",
    "https://docs.docker.com/engine/swarm/how-swarm-mode-works/nodes/"
   ]
  },
  {
   "cell_type": "markdown",
   "metadata": {},
   "source": [
    "## Servicios.\n",
    "\n",
    "Un servicio es un sistema confromado por un enjambre de contenedores para realizar una aplicación específica.\n",
    "\n",
    "La descrición de un servicio de *Docker* puede ser consultada en:\n",
    "\n",
    "https://docs.docker.com/engine/swarm/how-swarm-mode-works/services/"
   ]
  },
  {
   "cell_type": "markdown",
   "metadata": {},
   "source": [
    "## Comandos para habilitar servicios y *swarms*.\n",
    "\n",
    "A partir de *Docker 1.12* es posible acceder a las funcionalidades de *Docker Swarm* mediante los comandos:\n",
    "\n",
    "* ```docker service``` https://docs.docker.com/engine/reference/commandline/service/\n",
    "* ```docker node``` https://docs.docker.com/engine/reference/commandline/node/\n",
    "* ```docker swarm``` https://docs.docker.com/engine/reference/commandline/swarm/"
   ]
  },
  {
   "cell_type": "markdown",
   "metadata": {},
   "source": [
    "## Heramientas para el manejo y orquestación de clusters de contendores.\n",
    "\n",
    "*Docker Swarm* no tuvo el éxito comercial esperado y *Docker Inc.* decidió adoptar a [*Kubernetes*](https://kubernetes.io/) como la herramienta primordial de orquestación de contenedores de sus productos.\n",
    "\n",
    "Actualmente es poco común que se utilicen directamente los componentes relacionados con *Docker Swarm*, sino que dichos componentes son aprovechados por otras herramientas que junto con *Kubernetes* se incluyen en productos como *Docker Enterprise*, *Docker Desktop* e incluso *Docker Toolbox*.\n",
    "\n",
    "* [*Docker Compose*](https://docs.docker.com/compose/) es una herramienta que permite definir y desplegar servicios que incluyen a múltiples contenedores mediante un lenguaje declarativo basado en *YAML*.\n",
    "* [*Docker Machine*](https://docs.docker.com/machine/overview/) es una herramienta que permite desplegar y coordinar un cluster de equipos que corren *Docker Engine*."
   ]
  },
  {
   "cell_type": "markdown",
   "metadata": {},
   "source": [
    "<p style=\"text-align: center\"><a rel=\"license\" href=\"http://creativecommons.org/licenses/by/4.0/\"><img alt=\"Licencia Creative Commons\" style=\"border-width:0\" src=\"https://i.creativecommons.org/l/by/4.0/80x15.png\" /></a><br />Esta obra está bajo una <a rel=\"license\" href=\"http://creativecommons.org/licenses/by/4.0/\">Licencia Creative Commons Atribución 4.0 Internacional</a>.</p>\n",
    "<p style=\"text-align: center\">&copy; José Luis Chiquete Valdivieso. 2020.</p>"
   ]
  }
 ],
 "metadata": {
  "kernelspec": {
   "display_name": "Bash",
   "language": "bash",
   "name": "bash"
  },
  "language_info": {
   "codemirror_mode": "shell",
   "file_extension": ".sh",
   "mimetype": "text/x-sh",
   "name": "bash"
  }
 },
 "nbformat": 4,
 "nbformat_minor": 2
}
