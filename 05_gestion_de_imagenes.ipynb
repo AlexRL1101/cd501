{
 "cells": [
  {
   "cell_type": "markdown",
   "metadata": {},
   "source": [
    "[![cloudevel](Imagenes/cloudevel.png)](https://cloudevel.com)"
   ]
  },
  {
   "cell_type": "markdown",
   "metadata": {},
   "source": [
    "El concepto de \"contenedor\" implica que éstos pueden ser creados con el menor esfuerzo a partir de imágenes disponibles en repositorios locales y en línea. "
   ]
  },
  {
   "cell_type": "markdown",
   "metadata": {},
   "source": [
    "**ADVERTENCIA:**\n",
    "\n",
    "Se da por sentado de que las celdas de los capítulos previos fueron ejecutadas y que existen imágenes cargadas en el sistema."
   ]
  },
  {
   "cell_type": "markdown",
   "metadata": {},
   "source": [
    "## Los *registry* y *Docker Hub*.\n",
    "\n",
    "Una de las funcionalidades más relevantes de Docker es la de poder acceder a determinados repositorios en línea y traer imágenes o *Dockfiles* para crear contenedores de forma local. A estos concentradores de repositoprios se les conoce como *registry*."
   ]
  },
  {
   "cell_type": "markdown",
   "metadata": {},
   "source": [
    "### *Docker Hub*.\n",
    "\n",
    "El *registry* al que Docker accede de forma predeterminada es *Docker Hub*.\n",
    "\n",
    "*Docker Hub* cuenta con un amplio catálogo de repositorios públicos y permite a cualquier persona darse de alta y crear repositorios propios tanto públicos como privados dependiendo del plan de suscripción. El plan gratuito sólo permite crear repositorios públicos.\n",
    "\n",
    "\n",
    "*Docker Hub* se encuentra en https://hub.docker.com/"
   ]
  },
  {
   "cell_type": "markdown",
   "metadata": {},
   "source": [
    "Cada vez que se utiliza ```docker run``` el daemon busca la imagen a la que se hace referencia en el sistema local y en caso de no encontrarla, la busca en Docker Hub."
   ]
  },
  {
   "cell_type": "markdown",
   "metadata": {},
   "source": [
    "### Identificación de una imagen o un *Dockerfile* en un *registry* mediante etiquetas.\n",
    "\n",
    "Cada repositorio de un *registry* tiene un nombre único y a su vez cada imagen dentro del repositorio tienen un nombre y una etiqueta o *tag*.\n",
    "\n",
    "El *tag* que se busca y asigna por defecto es *latest*.\n",
    "\n",
    "Las imágenes de docker pueden ser identificadas en un *registry* usando la siguiente estructura:\n",
    "\n",
    "```\n",
    "<nombre del repositorio>/<nombre>:<tag>\n",
    "```\n",
    "\n",
    "En el caso de acceder a *Docker Hub* sólo es necesario indicar el tag. En caso contrario es necesario indicar la URL del servidor del *registry*.\n",
    "\n",
    "```\n",
    "<URL>/<nombre del repositorio>/<nombre>:<tag>\n",
    "```"
   ]
  },
  {
   "cell_type": "markdown",
   "metadata": {},
   "source": [
    "**Ejemplo:**\n",
    "\n",
    "* El repositorio oficial de CentOS es https://hub.docker.com/_/centos y en este repositorio se encuentran varios *Dockerfiles* de diversas versiones de CentOS.\n",
    "* La estructura que identifica al *Dockerfile* para construir una imagen de CentOS 6.10 es:\n",
    "\n",
    "```centos:6.10```"
   ]
  },
  {
   "cell_type": "markdown",
   "metadata": {},
   "source": [
    "## El comando ```docker search```.\n",
    "\n",
    "El comando ```docker search``` permite realizar una búsqueda de imágenes en los repositorios de *Docker Hub* a partir de un término.\n",
    "\n",
    "```\n",
    "docker search <argumentos> <termino>\n",
    "```\n",
    "\n",
    "Referencia: https://docs.docker.com/engine/reference/commandline/search/"
   ]
  },
  {
   "cell_type": "markdown",
   "metadata": {},
   "source": [
    "**Ejemplo:** \n",
    "\n",
    "Se realizará una búsqueda de todas las imágines y Dockerfiles que cpincidan con el término *Jupyter*."
   ]
  },
  {
   "cell_type": "code",
   "execution_count": null,
   "metadata": {
    "scrolled": false
   },
   "outputs": [],
   "source": [
    "sudo docker search jupyter"
   ]
  },
  {
   "cell_type": "markdown",
   "metadata": {},
   "source": [
    "**ADVERTENCIA:** Existe una enorme cantidad de recursos disponibles en *Docker Hub*, pero no todos estos recursos son seguros y sólo una pequeña parte de estos ha sido validado por Docker o por los fabricantes. Se recomienda utilizar únicamente recursos oficiales o de plena confianza."
   ]
  },
  {
   "cell_type": "markdown",
   "metadata": {},
   "source": [
    "## El comando ```docker login```.\n",
    "\n",
    "Es muy importante que los *registry* cuenten con métodos de autenticación que garanticen la seguridad de los usuarios, por lo que para aceder a *Docker Hub* y a *registries* que hayan implementado dichos métodos es necesario presentar las credenciales adecuadas.\n",
    "\n",
    "El comando ```docker login``` permite la autenticación de un usuario a un *registry*.\n",
    "\n",
    "```docker login <argumentos>```\n",
    "\n",
    "Hay muchas formas de autenticarse mediante ```docker login``` y se recomienda consultar la siguiente referncia:\n",
    "\n",
    "https://docs.docker.com/engine/reference/commandline/login/\n",
    "\n",
    "En caso de que el registro sea exitoso, se creará una sesión en el equipo local que permitiría interacrtuar con el *registry*."
   ]
  },
  {
   "cell_type": "markdown",
   "metadata": {},
   "source": [
    "**Ejemplo:**\n",
    "\n",
    "* La siguiente celda permitirá acceder a un usuario que ya ha sido registrado en *Docker Hub* utilizando un nombre y una constraeña válida, la cual debe de ser escrita dentro del archivo [src/contrasena.txt](src/contrasena.txt).\n",
    "\n",
    "    * El argumento ```cloudevel``` del parámetro ```-u``` debe de ser sustituido por un nombre de usuario válido.\n",
    "    * El parámetro ```--password-stdin``` permite capturar la contraseña desde la entrada estándar de una terminal. En este caso, este parámetro usará como contraseña el contenido que el comando ```cat``` extarerá del archivo ```src/contrasena.txt```. \n",
    "    \n",
    "**ADVERTENCIA:**\n",
    "\n",
    "Para poder ejecutar varios ejemplos de este capítulo es necesario que el registro de esta celda haya sido exitoso."
   ]
  },
  {
   "cell_type": "code",
   "execution_count": null,
   "metadata": {},
   "outputs": [],
   "source": [
    "cat src/contrasena.txt | sudo docker login -u cloudevel --password-stdin"
   ]
  },
  {
   "cell_type": "markdown",
   "metadata": {},
   "source": [
    "## El comando ```docker image```.\n",
    "\n",
    "Este comando cuenta a su vez con subcomandos especializados para la gestión de imágenes."
   ]
  },
  {
   "cell_type": "markdown",
   "metadata": {},
   "source": [
    "### El comando ```docker image ls```.\n",
    "\n",
    "Este comando es idéntico a ```docker images``` y despliega un listado de las imágenes existentes en un entorno local.\n",
    "\n",
    "```\n",
    "docker image ls\n",
    "``` \n",
    "\n",
    "Referencia: https://docs.docker.com/engine/reference/commandline/image_ls/"
   ]
  },
  {
   "cell_type": "markdown",
   "metadata": {},
   "source": [
    "**Ejemplo:**"
   ]
  },
  {
   "cell_type": "code",
   "execution_count": null,
   "metadata": {},
   "outputs": [],
   "source": [
    "sudo docker image ls"
   ]
  },
  {
   "cell_type": "markdown",
   "metadata": {},
   "source": [
    "### El comando ```docker image build```.\n",
    "\n",
    "Este comando es idéntico a ```docker build``` y permite crear una imagen a partir de un *Dockerfile*.\n",
    "\n",
    "```\n",
    "docker image build <dockerfile>\n",
    "```\n",
    "\n",
    "Referencia: https://docs.docker.com/engine/reference/commandline/image_build/\n",
    "\n",
    "En el capítulo [03_dockerfile.ipynb](03_dockerfile.ipynb) se exploró la forma de crear imágenes a partir de un *Dockerfile*."
   ]
  },
  {
   "cell_type": "markdown",
   "metadata": {},
   "source": [
    "### El comando ```docker image pull```.\n",
    "\n",
    "Este comando es idéntico a ```docker pull``` y permite acceder a un *registry* y descargar o construir una imagen a partir de un repositorio.\n",
    "\n",
    "```\n",
    "docker image pull <fuente de la imagen>\n",
    "```\n",
    "\n",
    "Referencia: https://docs.docker.com/engine/reference/commandline/image_pull/"
   ]
  },
  {
   "cell_type": "markdown",
   "metadata": {},
   "source": [
    "**Ejemplos:**\n",
    "\n",
    "\n",
    "* Se construirá la imagen oficial de la versión 6.10 de CentOS desde *Docker Hub*."
   ]
  },
  {
   "cell_type": "code",
   "execution_count": null,
   "metadata": {
    "scrolled": true
   },
   "outputs": [],
   "source": [
    "sudo docker image pull centos:6.10"
   ]
  },
  {
   "cell_type": "code",
   "execution_count": null,
   "metadata": {},
   "outputs": [],
   "source": [
    "sudo docker images"
   ]
  },
  {
   "cell_type": "markdown",
   "metadata": {},
   "source": [
    "* Se descargará la imagen *cloudevel/cd331:version_1* localizada en https://hub.docker.com/r/cloudevel/cd331/tags"
   ]
  },
  {
   "cell_type": "code",
   "execution_count": null,
   "metadata": {},
   "outputs": [],
   "source": [
    "sudo docker image pull cloudevel/cd331:version_1"
   ]
  },
  {
   "cell_type": "code",
   "execution_count": null,
   "metadata": {
    "scrolled": true
   },
   "outputs": [],
   "source": [
    "sudo docker images"
   ]
  },
  {
   "cell_type": "markdown",
   "metadata": {},
   "source": [
    "### El comando ```docker image inspect```.\n",
    "\n",
    "Este comando regresa un documento JSON con los detalles de una imagen.\n",
    "\n",
    "```\n",
    "docker image inspect <imagen>\n",
    "```\n",
    "\n",
    "Referencia: https://docs.docker.com/engine/reference/commandline/image_inspect/"
   ]
  },
  {
   "cell_type": "markdown",
   "metadata": {},
   "source": [
    "**Ejemplo:**\n",
    "\n",
    "* Se desplegarán los detalles de la imagen ```centos:6.10```."
   ]
  },
  {
   "cell_type": "code",
   "execution_count": null,
   "metadata": {},
   "outputs": [],
   "source": [
    "sudo docker image inspect centos:6.10"
   ]
  },
  {
   "cell_type": "markdown",
   "metadata": {},
   "source": [
    "### El comando ```docker image history```.\n",
    "\n",
    "Este comando despliega la historia de modificaciones de una imagen.\n",
    "\n",
    "```\n",
    "docker image history <imagen>\n",
    "```\n",
    "\n",
    "\n",
    "Referencia: https://docs.docker.com/engine/reference/commandline/image_history/"
   ]
  },
  {
   "cell_type": "markdown",
   "metadata": {},
   "source": [
    "**Ejemplo**\n",
    "\n",
    "* Se desplegarán la historia de la imagen ```cloudevel/cd331:version_1```."
   ]
  },
  {
   "cell_type": "code",
   "execution_count": null,
   "metadata": {},
   "outputs": [],
   "source": [
    "sudo docker image history cloudevel/cd331:version_1"
   ]
  },
  {
   "cell_type": "markdown",
   "metadata": {},
   "source": [
    "### El comando ```docker image rm```.\n",
    "\n",
    "Este comando es idéntico a ```docker rmi``` y elimina la imagen de un entorno local. \n",
    "\n",
    "\n",
    "```\n",
    "docker image rm <imagenes>\n",
    "```\n",
    "\n",
    "Es importante hacer notar que no es posible eliminar una imagen si existen contenedores creados a partir de éstas.\n",
    "\n",
    "Referencia: https://docs.docker.com/engine/reference/commandline/image_rm/"
   ]
  },
  {
   "cell_type": "markdown",
   "metadata": {},
   "source": [
    "**Ejemplo:**\n",
    "\n",
    "* Se creará y ejecutará un contenedor a partir de la imagen más reciente de la versión 16.04 del repositorio oficial de Ubuntu."
   ]
  },
  {
   "cell_type": "code",
   "execution_count": null,
   "metadata": {},
   "outputs": [],
   "source": [
    "sudo docker run -dit --name ubuntu-ejemplo ubuntu:16.04"
   ]
  },
  {
   "cell_type": "code",
   "execution_count": null,
   "metadata": {},
   "outputs": [],
   "source": [
    "sudo docker images"
   ]
  },
  {
   "cell_type": "markdown",
   "metadata": {},
   "source": [
    "* Se intentará eliminar la imagen ```ubuntu:16.04```, pero debido a que existe un contenedor construido a partir de dicha imagen, no será posible."
   ]
  },
  {
   "cell_type": "code",
   "execution_count": null,
   "metadata": {},
   "outputs": [],
   "source": [
    "sudo docker image rm ubuntu:16.04"
   ]
  },
  {
   "cell_type": "markdown",
   "metadata": {},
   "source": [
    "* Se detendrá y eliminará al contenedor ```ùbuntu-ejemplo```.\n",
    "* Se eliminará la imagen ```ubuntu:16.04```."
   ]
  },
  {
   "cell_type": "code",
   "execution_count": null,
   "metadata": {},
   "outputs": [],
   "source": [
    "sudo docker stop ubuntu-ejemplo"
   ]
  },
  {
   "cell_type": "code",
   "execution_count": null,
   "metadata": {},
   "outputs": [],
   "source": [
    "sudo docker rm ubuntu-ejemplo"
   ]
  },
  {
   "cell_type": "code",
   "execution_count": null,
   "metadata": {},
   "outputs": [],
   "source": [
    "sudo docker image rm ubuntu:16.04"
   ]
  },
  {
   "cell_type": "code",
   "execution_count": null,
   "metadata": {},
   "outputs": [],
   "source": [
    "sudo docker images "
   ]
  },
  {
   "cell_type": "markdown",
   "metadata": {},
   "source": [
    "### El comando ```docker image prune```.\n",
    "\n",
    "Este comando eliminará todas aquellas imágenes que no estén siendo utilizadas.\n",
    "\n",
    "```\n",
    "docker image prune\n",
    "```\n",
    "\n",
    "Referencia: https://docs.docker.com/engine/reference/commandline/image_prune/"
   ]
  },
  {
   "cell_type": "markdown",
   "metadata": {},
   "source": [
    "**Ejemplo:**\n",
    "\n",
    "* Se eliminarán todas las imágenes que no estén siendo utilzadas. "
   ]
  },
  {
   "cell_type": "code",
   "execution_count": 29,
   "metadata": {},
   "outputs": [
    {
     "name": "stdout",
     "output_type": "stream",
     "text": [
      "453c28342622404db0c9244d920a041fc89d8a5615d5c93ccf749804be68a436\n"
     ]
    }
   ],
   "source": [
    "sudo docker run -dit --name ubuntu-exp ubuntu "
   ]
  },
  {
   "cell_type": "code",
   "execution_count": 30,
   "metadata": {},
   "outputs": [
    {
     "name": "stdout",
     "output_type": "stream",
     "text": [
      "REPOSITORY             TAG                 IMAGE ID            CREATED             SIZE\n",
      "localhost:5000/nginx   latest              a8075f930485        19 hours ago        246MB\n",
      "ubuntu                 latest              20bb25d32758        46 hours ago        87.5MB\n",
      "registry               2                   116995fd6624        5 days ago          25.8MB\n",
      "cloudevel/cd331        version_1           2515588f0ff9        6 days ago          246MB\n",
      "hello-world            latest              fce289e99eb9        3 weeks ago         1.84kB\n",
      "centos                 6.10                30e66b619e9f        3 months ago        194MB\n"
     ]
    }
   ],
   "source": [
    "sudo docker images"
   ]
  },
  {
   "cell_type": "code",
   "execution_count": 35,
   "metadata": {},
   "outputs": [
    {
     "name": "stdout",
     "output_type": "stream",
     "text": [
      "Deleted Images:\n",
      "untagged: localhost:5000/nginx:latest\n",
      "untagged: localhost:5000/nginx@sha256:52a0b908b40b0fc8c39e3472d011b5fedaf9b16f25e1fecc382da00b64a54c1c\n",
      "deleted: sha256:a8075f9304854539ba72683c05063aef6aba661ee639993900b471589258d0ad\n",
      "deleted: sha256:243b994769f076b0d7582b1b841e6e4fe8c3cd94cab2cd6d7cbcf2df7d356dca\n",
      "deleted: sha256:43847b97380294e0f69d86e239897a9c1349a3e16c9dc170ec3193007f18536e\n",
      "deleted: sha256:d596a37bd02020e5636adc048c8ff5f166a375d126e2c1cad1bfb32b9b60150a\n",
      "deleted: sha256:80024a711b1dde025e1a523221187782b706ef2632d7ea82cf9bdf7044594a8a\n",
      "deleted: sha256:7d042772644e732df6f3abd205acd5f276de8a22461ecde4c8c5f63227eed099\n",
      "deleted: sha256:39a84d1e059873ee72c0ba5204a29e0f3c8be621092a3d7dc661edd814f030d3\n",
      "deleted: sha256:78b9c04226f634f84b133c81ce545c8411ce3aed32d579155ae5abbc77a25f85\n",
      "deleted: sha256:7eb46ebc736921ffa70c8757618b02e4d0d3c4627d823a7e1b8f59bb924ecf93\n",
      "deleted: sha256:4f9c6186221ca469b29e4b55599f2a7969b705df4ef10d1585f2e7681503eb7b\n",
      "deleted: sha256:fc94d17b18c9a353a5b5b9500e04a4c24d8d4b2632fd549596c85e6157377fc2\n",
      "deleted: sha256:0de2edf7bff41238438e25b6f2de055b97c7fb6fe095cd560c2095b8dd70fc99\n",
      "untagged: cloudevel/cd331:version_1\n",
      "untagged: cloudevel/cd331@sha256:e66d38cd4a104835b9f24f057bbc5bc2ba166f8bd8edcd84bf914bb7689c6e78\n",
      "deleted: sha256:2515588f0ff9613c5b679504641524c1554f081d857c1f2540455c1a3bc001f8\n",
      "deleted: sha256:7f9daaa2b9a575a9344abda39a893edadbb1473f35fbcdd5b94687e222e0bddb\n",
      "deleted: sha256:3d8937ae54523009121f01ca0a5fe5c50851e3bbe112d5b7fc999e67df4fd65e\n",
      "deleted: sha256:ba0d281db9a98d6221efd8742247113ccc8e803ffa20925c3dc12fd63922ba5e\n",
      "deleted: sha256:d5bce579741c1c503ae347d6bd3093aff332deaca1231fdec666fdd1763ba064\n",
      "deleted: sha256:adec92cdcbe6af2cd6209b0bdf6ce6e44d97587045ce1004c2a9face671caadd\n",
      "deleted: sha256:ed625f0b9516b78dcd656cc833b55d6f2a28c547eac73a9a8479d64d72fba375\n",
      "deleted: sha256:7bab54808a4cd14e47a95de3cfde79ec17828466f37df4d4c62c29669ad203e5\n",
      "deleted: sha256:55670009b41b3371a2ff7c1a1d396615f4e79c937ddbf8b78af204122dbb8339\n",
      "deleted: sha256:7c42fc68785f05435c7d0a15ab5eba645dd51431ff85ba8c81aac71b6d7fa676\n",
      "deleted: sha256:9ae10a8fb5d0419283b7d8ede59c6cb17df79c1bc0f0367ad5d5fd5f9040b9b7\n",
      "deleted: sha256:8c7764429ac5850455be6b16dcbf2f3e916522ea400c90133b498701debfe3a2\n",
      "deleted: sha256:8241afc74c6f5ca20c3bd7f3ddb3e5621d637ee85aaf40de440bf465b2a9984f\n",
      "untagged: centos:6.10\n",
      "untagged: centos@sha256:b4c3fe75b135ca1c26ef6feb8153aade8a31c4e3e763376529c1088de7e973f4\n",
      "deleted: sha256:30e66b619e9f73941f418bb08a081132607433f5b8ccaefd3b7bceb08c770b20\n",
      "deleted: sha256:18c81886066a186e754291bab5ae87b273b274c66c2c9fea8e869a7cb67dac1b\n",
      "\n",
      "Total reclaimed space: 686.1MB\n"
     ]
    }
   ],
   "source": [
    "sudo docker image prune -af"
   ]
  },
  {
   "cell_type": "code",
   "execution_count": 36,
   "metadata": {},
   "outputs": [
    {
     "name": "stdout",
     "output_type": "stream",
     "text": [
      "REPOSITORY          TAG                 IMAGE ID            CREATED             SIZE\n",
      "ubuntu              latest              20bb25d32758        46 hours ago        87.5MB\n",
      "registry            2                   116995fd6624        5 days ago          25.8MB\n",
      "hello-world         latest              fce289e99eb9        3 weeks ago         1.84kB\n"
     ]
    }
   ],
   "source": [
    "sudo docker images"
   ]
  },
  {
   "cell_type": "markdown",
   "metadata": {},
   "source": [
    "### El comando ```docker image import```.\n",
    "\n",
    "Este comando es idéntico a ```docker import``` y\n",
    "\n",
    "Referencia: https://docs.docker.com/engine/reference/commandline/image_import/"
   ]
  },
  {
   "cell_type": "code",
   "execution_count": null,
   "metadata": {},
   "outputs": [],
   "source": []
  },
  {
   "cell_type": "code",
   "execution_count": null,
   "metadata": {},
   "outputs": [],
   "source": []
  },
  {
   "cell_type": "markdown",
   "metadata": {},
   "source": [
    "### El comando ```docker image load```.\n",
    "\n",
    "Este comando es idéntico a ```docker load``` y\n",
    "\n",
    "Referencia: https://docs.docker.com/engine/reference/commandline/image_load/"
   ]
  },
  {
   "cell_type": "markdown",
   "metadata": {},
   "source": [
    "### El comando ```docker image save```.\n",
    "\n",
    "Este comando es idéntico a ```docker save``` y\n",
    "\n",
    "Referencia: https://docs.docker.com/engine/reference/commandline/image_save/"
   ]
  },
  {
   "cell_type": "markdown",
   "metadata": {},
   "source": [
    "### El comando ```docker image tag```.\n",
    "\n",
    "Este comando es idéntico a ```docker tag``` y\n",
    "\n",
    "Referencia: https://docs.docker.com/engine/reference/commandline/image_tag/"
   ]
  },
  {
   "cell_type": "code",
   "execution_count": null,
   "metadata": {},
   "outputs": [],
   "source": [
    "sudo docker tag fce289e99eb9 cloudevel/nginx:latest"
   ]
  },
  {
   "cell_type": "code",
   "execution_count": null,
   "metadata": {},
   "outputs": [],
   "source": [
    "sudo docker image list"
   ]
  },
  {
   "cell_type": "markdown",
   "metadata": {},
   "source": [
    "### El comando ```docker image push```."
   ]
  },
  {
   "cell_type": "code",
   "execution_count": null,
   "metadata": {},
   "outputs": [],
   "source": [
    "sudo docker tag cloudevel/cd331:latest cloudevel/cd331:latest-1\n",
    "sudo docker push cloudevel/cd331:latest-1"
   ]
  },
  {
   "cell_type": "markdown",
   "metadata": {},
   "source": [
    "<p style=\"text-align: center\"><a rel=\"license\" href=\"http://creativecommons.org/licenses/by/4.0/\"><img alt=\"Licencia Creative Commons\" style=\"border-width:0\" src=\"https://i.creativecommons.org/l/by/4.0/80x15.png\" /></a><br />Esta obra está bajo una <a rel=\"license\" href=\"http://creativecommons.org/licenses/by/4.0/\">Licencia Creative Commons Atribución 4.0 Internacional</a>.</p>\n",
    "<p style=\"text-align: center\">&copy; José Luis Chiquete Valdivieso. 2019.</p>"
   ]
  }
 ],
 "metadata": {
  "kernelspec": {
   "display_name": "Bash",
   "language": "bash",
   "name": "bash"
  },
  "language_info": {
   "codemirror_mode": "shell",
   "file_extension": ".sh",
   "mimetype": "text/x-sh",
   "name": "bash"
  }
 },
 "nbformat": 4,
 "nbformat_minor": 2
}
