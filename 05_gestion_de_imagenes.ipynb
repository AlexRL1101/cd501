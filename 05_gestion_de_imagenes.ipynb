{
 "cells": [
  {
   "cell_type": "markdown",
   "metadata": {},
   "source": [
    "[![cloudevel](Imagenes/cloudevel.png)](https://cloudevel.com)"
   ]
  },
  {
   "cell_type": "markdown",
   "metadata": {},
   "source": [
    "El concepto de \"contenedor\" implica que éstos pueden ser creados con el menor esfuerzo a partir de imágenes disponibles en repositorios locales y en línea. "
   ]
  },
  {
   "cell_type": "markdown",
   "metadata": {},
   "source": [
    "**ADVERTENCIA:**\n",
    "\n",
    "Se da por sentado de que las celdas de los capítulos previos fueron ejecutadas y que existen imágenes cargasdas en el sistema."
   ]
  },
  {
   "cell_type": "markdown",
   "metadata": {},
   "source": [
    "## Docker Hub.\n",
    "\n",
    "EL daemon de Docker, viene configurado pare acceder a un concentrador de repositorios o \"registry\" al que se conoce como Docker Hub.\n",
    "\n",
    "Los registry pueden contener ya sea imágenes de contenedores o bien Dockerfiles.\n",
    "\n",
    "Docker Hub cuenta con un amplio catálogo de repositorios públicos. También es posible darse de alta y crear repositorios propios. El plan gratuito permite crear diversos repositorios públicos.\n",
    "\n",
    "Docker hub se encuentra en https://hub.docker.com/"
   ]
  },
  {
   "cell_type": "markdown",
   "metadata": {},
   "source": [
    "Cada vez que se utiliza ```docker run``` el daemon busca la imagen a la que se hace referencia en el sistema local y en caso de no encontrarla, la busca en Docker Hub."
   ]
  },
  {
   "cell_type": "markdown",
   "metadata": {},
   "source": [
    "### Identificación de una imagen o un Dockerfile en un registry.\n",
    "\n",
    "Cada repositorio de un registry tiene un nombre único y a su vez. Cada imagen dentro de un repositorio tienen un nombre y una etiqueta o \"tag\".\n",
    "\n",
    "El tag que se busca y asigna por defecto es *latest*.\n",
    "\n",
    "Las imágenes de docker pueden ser identificadas en un registry usando la siguiente estructura de un tag:\n",
    "\n",
    "```\n",
    "<nombre del repositorio>/<nombre>:<tag>\n",
    "```\n",
    "\n",
    "En el caso de acceder a Docker Hub sólo es necesario indicar el tag. En caso contrario es necesario indicar la URL del servidor del registry.\n",
    "\n",
    "```\n",
    "<URL>/<nombre del repositorio>/<nombre>:<tag>\n",
    "```"
   ]
  },
  {
   "cell_type": "markdown",
   "metadata": {},
   "source": [
    "**Ejemplo:**\n",
    "\n",
    "* El repositorio oficial de CentOS es https://hub.docker.com/_/centos y en este repositorio se encuentran varios Dockerfiles de diversas versiones de CentOS.\n",
    "* La estructura que identifica al Dockerfile para construir una imagen de CentOS 6.10 es:\n",
    "\n",
    "```centos:6.10```"
   ]
  },
  {
   "cell_type": "markdown",
   "metadata": {},
   "source": [
    "## El comando ```docker search```.\n",
    "\n",
    "El comando ```docker search``` permite realizar una búsqueda de imágenes en los repositorios de Docker Hub a partir de un término.\n",
    "\n",
    "```\n",
    "docker search <argumentos> <termino>\n",
    "```\n",
    "\n",
    "Referencia: https://docs.docker.com/engine/reference/commandline/search/"
   ]
  },
  {
   "cell_type": "markdown",
   "metadata": {},
   "source": [
    "**Ejemplo:** \n",
    "\n",
    "Se realizará una búsqueda de todas las imágines y Dockerfiles que cpincidan con el término *Jupyter*."
   ]
  },
  {
   "cell_type": "code",
   "execution_count": null,
   "metadata": {
    "scrolled": false
   },
   "outputs": [],
   "source": [
    "sudo docker search jupyter"
   ]
  },
  {
   "cell_type": "markdown",
   "metadata": {},
   "source": [
    "## El comando ```docker login```.\n",
    "\n",
    "https://docs.docker.com/engine/reference/commandline/login/"
   ]
  },
  {
   "cell_type": "code",
   "execution_count": null,
   "metadata": {},
   "outputs": [],
   "source": [
    "cat src/contrasena.txt | sudo docker login -u cloudevel --password-stdin"
   ]
  },
  {
   "cell_type": "markdown",
   "metadata": {},
   "source": [
    "## El comando ```docker image```.\n",
    "\n",
    "Este comando cuenta con a su vez con subcomandos especializados para la gestión de imágenes."
   ]
  },
  {
   "cell_type": "markdown",
   "metadata": {},
   "source": [
    "### El comando ```docker image ls```.\n",
    "\n",
    "Este comando es idéntico a ```docker images``` y \n",
    "\n",
    "Referencia: https://docs.docker.com/engine/reference/commandline/image_ls/"
   ]
  },
  {
   "cell_type": "markdown",
   "metadata": {},
   "source": [
    "**Ejemplo:**"
   ]
  },
  {
   "cell_type": "code",
   "execution_count": null,
   "metadata": {},
   "outputs": [],
   "source": [
    "sudo docker image ls"
   ]
  },
  {
   "cell_type": "markdown",
   "metadata": {},
   "source": [
    "### El comando ```docker image build```.\n",
    "\n",
    "Este comando es idéntico a ```docker build``` y \n",
    "\n",
    "Referencia: https://docs.docker.com/engine/reference/commandline/image_build/"
   ]
  },
  {
   "cell_type": "markdown",
   "metadata": {},
   "source": [
    "### El comando ```docker image pull```.\n",
    "\n",
    "Este comando es idéntico a ```docker pull``` y permite acceder a un registry y descargar o construir una imagen a partir de un repositorio.\n",
    "\n",
    "Referencia: https://docs.docker.com/engine/reference/commandline/image_pull/"
   ]
  },
  {
   "cell_type": "markdown",
   "metadata": {},
   "source": [
    "**Ejemplos:**\n",
    "\n",
    "\n",
    "* Se construirá la imagen del CentOS 6.10 desde Docker Hub."
   ]
  },
  {
   "cell_type": "code",
   "execution_count": null,
   "metadata": {
    "scrolled": true
   },
   "outputs": [],
   "source": [
    "sudo docker image pull centos:6.10"
   ]
  },
  {
   "cell_type": "code",
   "execution_count": null,
   "metadata": {},
   "outputs": [],
   "source": [
    "sudo docker images"
   ]
  },
  {
   "cell_type": "markdown",
   "metadata": {},
   "source": [
    "* Se descargará la imagen *cloudevel/cd331:version_1* localizada en https://hub.docker.com/r/cloudevel/cd331/tags"
   ]
  },
  {
   "cell_type": "code",
   "execution_count": null,
   "metadata": {},
   "outputs": [],
   "source": [
    "sudo docker image pull cloudevel/cd331:version_1"
   ]
  },
  {
   "cell_type": "code",
   "execution_count": null,
   "metadata": {
    "scrolled": true
   },
   "outputs": [],
   "source": [
    "sudo docker images"
   ]
  },
  {
   "cell_type": "markdown",
   "metadata": {},
   "source": [
    "### El comando ```docker image inspect```.\n",
    "\n",
    "Este comando\n",
    "\n",
    "Referencia: https://docs.docker.com/engine/reference/commandline/image_inspect/"
   ]
  },
  {
   "cell_type": "markdown",
   "metadata": {},
   "source": [
    "### El comando ```docker image history```.\n",
    "\n",
    "Este comando\n",
    "\n",
    "Referencia: https://docs.docker.com/engine/reference/commandline/image_history/"
   ]
  },
  {
   "cell_type": "markdown",
   "metadata": {},
   "source": [
    "### El comando ```docker image rm```.\n",
    "\n",
    "Este comando es idéntico a ```docker rmi``` y\n",
    "\n",
    "Referencia: https://docs.docker.com/engine/reference/commandline/image_rm/"
   ]
  },
  {
   "cell_type": "markdown",
   "metadata": {},
   "source": [
    "### El comando ```docker image prune```.\n",
    "\n",
    "Este comando \n",
    "Referencia: https://docs.docker.com/engine/reference/commandline/image_prune/"
   ]
  },
  {
   "cell_type": "markdown",
   "metadata": {},
   "source": [
    "### El comando ```docker image import```.\n",
    "\n",
    "Este comando es idéntico a ```docker import``` y\n",
    "\n",
    "Referencia: https://docs.docker.com/engine/reference/commandline/image_import/"
   ]
  },
  {
   "cell_type": "markdown",
   "metadata": {},
   "source": [
    "### El comando ```docker image load```.\n",
    "\n",
    "Este comando es idéntico a ```docker load``` y\n",
    "\n",
    "Referencia: https://docs.docker.com/engine/reference/commandline/image_load/"
   ]
  },
  {
   "cell_type": "markdown",
   "metadata": {},
   "source": [
    "### El comando ```docker image save```.\n",
    "\n",
    "Este comando es idéntico a ```docker save``` y\n",
    "\n",
    "Referencia: https://docs.docker.com/engine/reference/commandline/image_save/"
   ]
  },
  {
   "cell_type": "markdown",
   "metadata": {},
   "source": [
    "### El comando ```docker image tag```.\n",
    "\n",
    "Este comando es idéntico a ```docker tag``` y\n",
    "\n",
    "Referencia: https://docs.docker.com/engine/reference/commandline/image_tag/"
   ]
  },
  {
   "cell_type": "code",
   "execution_count": null,
   "metadata": {},
   "outputs": [],
   "source": [
    "sudo docker tag fce289e99eb9 cloudevel/nginx:latest"
   ]
  },
  {
   "cell_type": "code",
   "execution_count": null,
   "metadata": {},
   "outputs": [],
   "source": [
    "sudo docker image list"
   ]
  },
  {
   "cell_type": "markdown",
   "metadata": {},
   "source": [
    "### El comando ```docker image push```."
   ]
  },
  {
   "cell_type": "code",
   "execution_count": null,
   "metadata": {},
   "outputs": [],
   "source": [
    "sudo docker tag cloudevel/cd331:latest cloudevel/cd331:latest-1\n",
    "sudo docker push cloudevel/cd331:latest-1"
   ]
  },
  {
   "cell_type": "markdown",
   "metadata": {},
   "source": [
    "<p style=\"text-align: center\"><a rel=\"license\" href=\"http://creativecommons.org/licenses/by/4.0/\"><img alt=\"Licencia Creative Commons\" style=\"border-width:0\" src=\"https://i.creativecommons.org/l/by/4.0/80x15.png\" /></a><br />Esta obra está bajo una <a rel=\"license\" href=\"http://creativecommons.org/licenses/by/4.0/\">Licencia Creative Commons Atribución 4.0 Internacional</a>.</p>\n",
    "<p style=\"text-align: center\">&copy; José Luis Chiquete Valdivieso. 2018.</p>"
   ]
  }
 ],
 "metadata": {
  "kernelspec": {
   "display_name": "Bash",
   "language": "bash",
   "name": "bash"
  },
  "language_info": {
   "codemirror_mode": "shell",
   "file_extension": ".sh",
   "mimetype": "text/x-sh",
   "name": "bash"
  }
 },
 "nbformat": 4,
 "nbformat_minor": 2
}
