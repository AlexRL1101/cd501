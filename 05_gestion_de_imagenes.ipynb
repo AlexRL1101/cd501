{
 "cells": [
  {
   "cell_type": "markdown",
   "metadata": {},
   "source": [
    "[![cloudevel](Imagenes/cloudevel.png)](https://cloudevel.com)"
   ]
  },
  {
   "cell_type": "markdown",
   "metadata": {},
   "source": [
    "El concepto de \"contenedor\" implica que éstos pueden ser creados con el menor esfuerzo a partir de imágenes disponibles en repositorios locales y en línea. "
   ]
  },
  {
   "cell_type": "markdown",
   "metadata": {},
   "source": [
    "## Docker Hub.\n",
    "\n",
    "En el caso de los contenedores de Docker, éste viene configurado pare acceder a un concentrador de repositorios o \"registry\" al que se conoce como Docker Hub.\n",
    "\n",
    "Los registry pueden contener ya sea imágenes de contenedores o bien Dockerfiles.\n",
    "\n",
    "Docker Hub cuenta con un amplio catálogo de repositorios públicos. También es posible darse de alta y crear repositorios propios. El plan gratuito permite crear diversos repositorios públicos y un repositorio privado.\n",
    "\n",
    "Docker hub se encuentra en https://hub.docker.com/"
   ]
  },
  {
   "cell_type": "markdown",
   "metadata": {},
   "source": [
    "Cada vez que se utiliza ```docker run``` el daemon busca la imagen a la que se hace referencia en el sistema local y en caso de no encontrarla, la busca en Docker Hub."
   ]
  },
  {
   "cell_type": "markdown",
   "metadata": {},
   "source": [
    "## Identificación de una imagen o un Dockerfile en un registry.\n",
    "\n",
    "Cada repositorio de un registry tiene un nombre único y a su vez. Cada imagen dentro de un repositorio tienen una etiqueta o \"tag\".\n",
    "\n",
    "Las imágenes de docker pueden ser identificadas en un registry usando la siguiente estructura de un tag:\n",
    "\n",
    "```\n",
    "<nombre del repositorio>/<nombre>:<versión>\n",
    "```\n",
    "\n",
    "En el caso de acceder a Docker Hub sólo es necesario indicar el tag. En caso contrario es necesario indicar la URL del servidor del registry.\n",
    "\n",
    "```\n",
    "<URL>/<nombre del repositorio>/<nombre>:<versión>\n",
    "```\n",
    "\n",
    "La versión que se busca y asigna por defecto es *latest*."
   ]
  },
  {
   "cell_type": "markdown",
   "metadata": {},
   "source": [
    "**Ejemplo:**\n",
    "\n",
    "* El repositorio oficial de CentOS es https://hub.docker.com/_/centos y en este repositorio se encuentran varios Dockerfiles de diversas versiones de CentOS.\n",
    "* La estructura que identifica al Dockerfile para construir una imagen de CentOS 6.10 es:\n",
    "\n",
    "```centos:6.10```"
   ]
  },
  {
   "cell_type": "markdown",
   "metadata": {},
   "source": [
    "## Descarga de imagenes desde un registry.\n",
    "\n",
    "El comando ```docker pull``` permite acceder a un registri y descargar o construir una imagen a partir de un repositorio.\n",
    "\n",
    "Referencia: https://docs.docker.com/engine/reference/commandline/pull/"
   ]
  },
  {
   "cell_type": "markdown",
   "metadata": {},
   "source": [
    "**Ejemplos:**\n",
    "\n",
    "\n",
    "* Se construirá la imagen del CentOS 6.10 desde Docker Hub."
   ]
  },
  {
   "cell_type": "code",
   "execution_count": null,
   "metadata": {
    "scrolled": true
   },
   "outputs": [],
   "source": [
    "sudo docker pull centos:6.10"
   ]
  },
  {
   "cell_type": "markdown",
   "metadata": {},
   "source": [
    "* Se descargará la imagen version *version_1* localizada en https://hub.docker.com/r/cloudevel/cd331/tags"
   ]
  },
  {
   "cell_type": "code",
   "execution_count": null,
   "metadata": {},
   "outputs": [],
   "source": [
    "sudo docker pull cloudevel/cd331:version_1"
   ]
  },
  {
   "cell_type": "code",
   "execution_count": null,
   "metadata": {},
   "outputs": [],
   "source": [
    "sudo docker image list"
   ]
  },
  {
   "cell_type": "markdown",
   "metadata": {},
   "source": [
    "## Preparación de imágenes para ser agregadas a un repositorio. "
   ]
  },
  {
   "cell_type": "markdown",
   "metadata": {},
   "source": [
    "## El comando ```docker tag```.\n",
    "\n",
    "``` \n",
    "docker tag <imagen> <repositorio>:<tag>\n",
    "```"
   ]
  },
  {
   "cell_type": "markdown",
   "metadata": {},
   "source": [
    "## El comando ```docker commit```."
   ]
  },
  {
   "cell_type": "code",
   "execution_count": null,
   "metadata": {},
   "outputs": [],
   "source": [
    "sudo docker container commit nginx cloudevel/cd331:latest"
   ]
  },
  {
   "cell_type": "markdown",
   "metadata": {},
   "source": [
    "## El comando ```docker login```."
   ]
  },
  {
   "cell_type": "code",
   "execution_count": null,
   "metadata": {},
   "outputs": [],
   "source": [
    "cat src/contrasena.txt | sudo docker login -u cloudevel --password-stdin"
   ]
  },
  {
   "cell_type": "markdown",
   "metadata": {},
   "source": [
    "## El comando ```docker push```."
   ]
  },
  {
   "cell_type": "code",
   "execution_count": null,
   "metadata": {},
   "outputs": [],
   "source": [
    "sudo docker push cloudevel/cd331:latest"
   ]
  },
  {
   "cell_type": "markdown",
   "metadata": {},
   "source": [
    "https://docs.docker.com/registry/deploying/"
   ]
  },
  {
   "cell_type": "markdown",
   "metadata": {},
   "source": [
    "<p style=\"text-align: center\"><a rel=\"license\" href=\"http://creativecommons.org/licenses/by/4.0/\"><img alt=\"Licencia Creative Commons\" style=\"border-width:0\" src=\"https://i.creativecommons.org/l/by/4.0/80x15.png\" /></a><br />Esta obra está bajo una <a rel=\"license\" href=\"http://creativecommons.org/licenses/by/4.0/\">Licencia Creative Commons Atribución 4.0 Internacional</a>.</p>\n",
    "<p style=\"text-align: center\">&copy; José Luis Chiquete Valdivieso. 2018.</p>"
   ]
  }
 ],
 "metadata": {
  "kernelspec": {
   "display_name": "Bash",
   "language": "bash",
   "name": "bash"
  },
  "language_info": {
   "codemirror_mode": "shell",
   "file_extension": ".sh",
   "mimetype": "text/x-sh",
   "name": "bash"
  }
 },
 "nbformat": 4,
 "nbformat_minor": 2
}
