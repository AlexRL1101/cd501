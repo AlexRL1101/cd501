{
 "cells": [
  {
   "cell_type": "markdown",
   "metadata": {},
   "source": [
    "[![cloudevel](img/cloudevel.png)](https://cloudevel.com)"
   ]
  },
  {
   "cell_type": "markdown",
   "metadata": {},
   "source": [
    "# Introducción a Docker."
   ]
  },
  {
   "cell_type": "markdown",
   "metadata": {},
   "source": [
    "## Antecedentes.\n",
    "\n",
    "[*Docker*](https://www.docker.com/products) es una herramienta de gestión de contenedores capaz de funcionar en diversas plataformas.\n",
    "\n",
    "En un principio, *Docker* aprovechaba las ventajas de *GNU/Linux* y componentes tales como [*cgroups*](https://en.wikipedia.org/wiki/Cgroups) y [*Linux Namespaces*](https://www.linux.com/news/understanding-and-securing-linux-namespaces/) para crear y gestionar contenedores.\n",
    "\n",
    "En versiones previas, *Docker* se basaba en [*LXC*](https://linuxcontainers.org/lxc/introduction/), pero a partir de la versión  0.9, *Docker* utiliza su propia biblioteca llamada [*libcontainer*](https://github.com/opencontainers/runc/tree/master/libcontainer), la cual es independiente del kernel de *Linux* y puede ser ejecutada desde *Windows* con [*Hyper-V*](https://es.wikipedia.org/wiki/Hyper-V).\n",
    "\n",
    "Actualmente, *libcontainer* forma parte de [*containerd*](https://www.docker.com/blog/what-is-containerd-runtime/).\n",
    "\n",
    "En el caso de ser utilizado en un entorno *GNU/Linux*, *Docker* es instalado como un servicio del sistema.\n",
    "\n",
    "Recientemente, *Docker* ha aprovechado las capacidades *Hyper-V* para ofrecer contenedores nativos en *Windows*. Sin embargo, *Hyper-V* no está disponible en versiones básicas de *Windows*.\n",
    "\n",
    "Para utilizar las ediciones oficiales de *Docker* se requiere *Windows 10 Pro* con *Hiper-V* activado y más recientemente [*WSL2*](https://docs.microsoft.com/es-es/windows/wsl/wsl2-index).\n",
    "\n",
    "\n",
    "**Advertencia:** *Hyper-V* y *WSL2* pueden provocar que algunos otros hipervisores tales como *Virtualbox* sean inutilizables."
   ]
  },
  {
   "cell_type": "markdown",
   "metadata": {},
   "source": [
    "## Ediciones de Docker.\n",
    "\n",
    "Docker ofrece una versión empresarial de su herramienta llamada [*Docker Enterprise*](https://www.mirantis.com/software/docker/docker-enterprise/) y una versión de uso personal llamada [*Docker Desktop*](https://www.docker.com/products/docker-desktop)."
   ]
  },
  {
   "cell_type": "markdown",
   "metadata": {},
   "source": [
    "### *Docker Desktop for Windows y Mac*.\n",
    "\n",
    "En el sitio de *Docker Desktop*, están disponibles los paquetes de instalación para sistemas *Windows* que cumplan los requerimientos mínimos, asi como para *MacOS X*.\n",
    "\n",
    "Los detalles de requerimientos para *Docker Desktop* pueden ser consultados en:\n",
    "\n",
    "https://docs.docker.com/docker-for-windows/install/"
   ]
  },
  {
   "cell_type": "markdown",
   "metadata": {},
   "source": [
    "## Instalación de *Docker CE* en *Debian*.\n",
    "\n",
    "Las siguientes celdas realizarán la configuración del repositorio de *Docker* en una Máquina Virtual basada en la distribución [*Debian*](https://www.debian.org/index.es.html)."
   ]
  },
  {
   "cell_type": "markdown",
   "metadata": {},
   "source": [
    "* La siguiente celda actualizará los paquetes del sistema."
   ]
  },
  {
   "cell_type": "code",
   "execution_count": null,
   "metadata": {
    "scrolled": true
   },
   "outputs": [],
   "source": [
    "sudo apt-get update"
   ]
  },
  {
   "cell_type": "markdown",
   "metadata": {},
   "source": [
    "* La siguiente celda instalará algunos componentes requeridos."
   ]
  },
  {
   "cell_type": "code",
   "execution_count": null,
   "metadata": {},
   "outputs": [],
   "source": [
    "sudo apt install -y apt-transport-https ca-certificates curl gnupg-agent \\\n",
    "    software-properties-common"
   ]
  },
  {
   "cell_type": "markdown",
   "metadata": {},
   "source": [
    "* Las siguientes celdas configurarán el repositorio de *Docker* ."
   ]
  },
  {
   "cell_type": "code",
   "execution_count": null,
   "metadata": {
    "scrolled": true
   },
   "outputs": [],
   "source": [
    "curl -fsSL https://download.docker.com/linux/debian/gpg | sudo apt-key add -"
   ]
  },
  {
   "cell_type": "code",
   "execution_count": null,
   "metadata": {},
   "outputs": [],
   "source": [
    "sudo add-apt-repository  \"deb [arch=amd64] https://download.docker.com/linux/debian \\\n",
    "   $(lsb_release -cs) stable\""
   ]
  },
  {
   "cell_type": "code",
   "execution_count": null,
   "metadata": {},
   "outputs": [],
   "source": [
    "sudo apt-get update"
   ]
  },
  {
   "cell_type": "markdown",
   "metadata": {},
   "source": [
    "* La siguiente celda instalará *Docker*."
   ]
  },
  {
   "cell_type": "code",
   "execution_count": null,
   "metadata": {},
   "outputs": [],
   "source": [
    "sudo apt install -y docker-ce docker-ce-cli containerd.io"
   ]
  },
  {
   "cell_type": "markdown",
   "metadata": {},
   "source": [
    "* La siguiente celda iniciará y habilitará el servicio."
   ]
  },
  {
   "cell_type": "code",
   "execution_count": null,
   "metadata": {
    "scrolled": false
   },
   "outputs": [],
   "source": [
    "sudo systemctl enable docker\n",
    "sudo systemctl start docker"
   ]
  },
  {
   "cell_type": "markdown",
   "metadata": {},
   "source": [
    "* Las siguientes celdas verificarán que *Docker* instalado y en funcionamiento."
   ]
  },
  {
   "cell_type": "code",
   "execution_count": null,
   "metadata": {
    "scrolled": true
   },
   "outputs": [],
   "source": [
    "sudo systemctl status docker --no-pager"
   ]
  },
  {
   "cell_type": "code",
   "execution_count": null,
   "metadata": {},
   "outputs": [],
   "source": [
    "docker -v"
   ]
  },
  {
   "cell_type": "markdown",
   "metadata": {},
   "source": [
    "* La siguiente celda otorgará los permisos al usuario `oi` para ejecutar docker.\n",
    "\n",
    "**Nota:** es necesario reiniciar el sistema para que el ajuste ocurra."
   ]
  },
  {
   "cell_type": "code",
   "execution_count": null,
   "metadata": {},
   "outputs": [],
   "source": [
    "sudo adduser oi docker"
   ]
  },
  {
   "cell_type": "markdown",
   "metadata": {},
   "source": [
    "## *Docker Hub*."
   ]
  },
  {
   "cell_type": "markdown",
   "metadata": {},
   "source": [
    "*Docker* basa su funcionalidad en el uso de \"imágenes\" de contenedores creadas previamente, las cuales son accedidas desde un repositorio. Dicho repositorio es conocido como *Docker Hub* y está localizado en:\n",
    "\n",
    "https://hub.docker.com\n",
    "\n",
    "Es posible explorar la biblioteca de imágenes desde:\n",
    "\n",
    "https://hub.docker.com/explore"
   ]
  },
  {
   "cell_type": "markdown",
   "metadata": {},
   "source": [
    "<p style=\"text-align: center\"><a rel=\"license\" href=\"http://creativecommons.org/licenses/by/4.0/\"><img alt=\"Licencia Creative Commons\" style=\"border-width:0\" src=\"https://i.creativecommons.org/l/by/4.0/80x15.png\" /></a><br />Esta obra está bajo una <a rel=\"license\" href=\"http://creativecommons.org/licenses/by/4.0/\">Licencia Creative Commons Atribución 4.0 Internacional</a>.</p>\n",
    "<p style=\"text-align: center\">&copy; José Luis Chiquete Valdivieso. 2023.</p>"
   ]
  }
 ],
 "metadata": {
  "kernelspec": {
   "display_name": "Bash",
   "language": "bash",
   "name": "bash"
  },
  "language_info": {
   "codemirror_mode": "shell",
   "file_extension": ".sh",
   "mimetype": "text/x-sh",
   "name": "bash"
  }
 },
 "nbformat": 4,
 "nbformat_minor": 4
}
