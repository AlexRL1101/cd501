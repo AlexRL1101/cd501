{
 "cells": [
  {
   "cell_type": "markdown",
   "metadata": {},
   "source": [
    "[![cloudevel](Imagenes/cloudevel.png)](https://cloudevel.com)"
   ]
  },
  {
   "cell_type": "markdown",
   "metadata": {},
   "source": [
    "# Introducción a Docker."
   ]
  },
  {
   "cell_type": "markdown",
   "metadata": {},
   "source": [
    "## Antecedentes.\n",
    "\n",
    "[*Docker*](https://www.docker.com/products) es una herramienta de gestión de contenedores capaz de funcionar en diversas plataformas.\n",
    "\n",
    "En un principio, *Docker* aprovechaba las ventajas de *GNU/Linux* y componentes tales como [*cgroups*](https://en.wikipedia.org/wiki/Cgroups) para crear y gestionar contenedores.\n",
    "\n",
    "En versiones previas, Docker estaba basado en [*LXC*](https://linuxcontainers.org/lxc/introduction/), pero a partir de la versión  0.9, Docker utiliza su propia biblioteca llamada [*libcontainer*](https://github.com/opencontainers/runc/tree/master/libcontainer), la cual es independiente del kernel de *Linux* y puede ser ejecutada desde Windows con [*Hyper-V*](https://es.wikipedia.org/wiki/Hyper-V).\n",
    "\n",
    "En el caso de ser utilizado en un entorno *GNU/Linux*, *Docker* es instalado como un servicio del sistema.\n",
    "\n",
    "Recientemente, *Docker* ha aprovechado las capacidades *Hyper-V* para ofrecer contenedores nativos en *Windows*. Sin embargo, *Hyper-V* no está disponible en versiones básicas de *Windows*.\n",
    "\n",
    "Para utilizar las ediciones oficiales de *Docker* se requiere *Windows 10 Pro* con *Hiper-V* activado y más recientemente [*WSL2*](https://docs.microsoft.com/es-es/windows/wsl/wsl2-index).\n",
    "\n",
    "\n",
    "**Advertencia:** *Hyper-V* y *WSL2* pueden provocar que algunos otros hipervisores tales como *Virtualbox* sean inutilizables."
   ]
  },
  {
   "cell_type": "markdown",
   "metadata": {},
   "source": [
    "## Ediciones de Docker.\n",
    "\n",
    "Docker ofrece una versión empresarial de su herramienta llamada [*Docker Enterprise*](https://www.mirantis.com/software/docker/docker-enterprise/) y una versión de uso personal llamada [*Docker Desktop*](https://www.docker.com/products/docker-desktop)."
   ]
  },
  {
   "cell_type": "markdown",
   "metadata": {},
   "source": [
    "### *Docker Desktop for Windows y Mac*.\n",
    "\n",
    "En el sitio de *Docker Desktop*, están disponibles los paquetes de instalación para sistemas *Windows* que cumplan los requerimientos mínimos, asi como para *MacOS X*.\n",
    "\n",
    "Los detalles de requerimientos para *Docker Desktop* pueden ser consultados en:\n",
    "\n",
    "https://docs.docker.com/docker-for-windows/install/"
   ]
  },
  {
   "cell_type": "markdown",
   "metadata": {},
   "source": [
    "### *Docker Toolbox*.\n",
    "\n",
    "En el caso de no contar con los requisitos mínimos para instalar *Docker Desktop* en *Windows*, es posible utilizar *Docker Toolbox*, una versión que utiliza Virtualbox en vez de *Hyper-V* o *WSL2*.\n",
    "\n",
    "Los detalles de instalación están disponibles en:\n",
    "\n",
    "https://docs.docker.com/toolbox/overview/\n",
    "\n",
    "El archivo de instalación de *Docker Toolbox* puede ser descargado en:\n",
    "\n",
    "https://github.com/docker/toolbox/releases"
   ]
  },
  {
   "cell_type": "markdown",
   "metadata": {},
   "source": [
    "## Instalación de *Docker CE* en *Debian*.\n",
    "\n",
    "Las siguientes celdas realizarán la configuración del repositorio de *Docker* en una Máquina Virtual basada en la distribución [*Debian*](https://www.debian.org/index.es.html)."
   ]
  },
  {
   "cell_type": "markdown",
   "metadata": {},
   "source": [
    "* La siguiente celda actualizará los paquetes del sistema."
   ]
  },
  {
   "cell_type": "code",
   "execution_count": 1,
   "metadata": {
    "scrolled": false
   },
   "outputs": [
    {
     "name": "stdout",
     "output_type": "stream",
     "text": [
      "Get:1 http://security.debian.org/debian-security buster/updates InRelease [65.4 kB]\n",
      "Get:2 http://deb.debian.org/debian buster InRelease [122 kB]\n",
      "Get:3 http://deb.debian.org/debian buster-updates InRelease [51.9 kB]\n",
      "Get:4 http://security.debian.org/debian-security buster/updates/main Sources [134 kB]\n",
      "Get:5 http://security.debian.org/debian-security buster/updates/main amd64 Packages [220 kB]\n",
      "Get:6 http://deb.debian.org/debian buster/main Sources [7,840 kB]\n",
      "Get:7 http://security.debian.org/debian-security buster/updates/main Translation-en [119 kB]\n",
      "Get:8 http://deb.debian.org/debian buster/main amd64 Packages [7,906 kB]       \n",
      "Get:9 http://deb.debian.org/debian buster/main Translation-en [5,968 kB]\n",
      "Fetched 22.4 MB in 6s (3,821 kB/s)                                 \n",
      "Reading package lists... Done\n",
      "N: Repository 'http://deb.debian.org/debian buster InRelease' changed its 'Version' value from '10.4' to '10.5'\n"
     ]
    }
   ],
   "source": [
    "sudo apt-get update"
   ]
  },
  {
   "cell_type": "markdown",
   "metadata": {},
   "source": [
    "* La siguiente celda instalará algunos componentes requeridos."
   ]
  },
  {
   "cell_type": "code",
   "execution_count": 2,
   "metadata": {},
   "outputs": [
    {
     "name": "stdout",
     "output_type": "stream",
     "text": [
      "Reading package lists... Done\n",
      "Building dependency tree       \n",
      "Reading state information... Done\n",
      "curl is already the newest version (7.64.0-4+deb10u1).\n",
      "ca-certificates is already the newest version (20200601~deb10u1).\n",
      "ca-certificates set to manually installed.\n",
      "The following additional packages will be installed:\n",
      "  gir1.2-glib-2.0 gir1.2-packagekitglib-1.0 libappstream4\n",
      "  libgirepository-1.0-1 libglib2.0-bin libgstreamer1.0-0\n",
      "  libpackagekit-glib2-18 libpolkit-agent-1-0 libpolkit-backend-1-0\n",
      "  libpolkit-gobject-1-0 libstemmer0d libyaml-0-2 packagekit packagekit-tools\n",
      "  policykit-1 python3-dbus python3-distro-info python3-gi\n",
      "  python3-software-properties unattended-upgrades\n",
      "Suggested packages:\n",
      "  gstreamer1.0-tools appstream python-dbus-doc python3-dbus-dbg bsd-mailx\n",
      "  default-mta | mail-transport-agent needrestart\n",
      "The following NEW packages will be installed:\n",
      "  apt-transport-https gir1.2-glib-2.0 gir1.2-packagekitglib-1.0 gnupg-agent\n",
      "  libappstream4 libgirepository-1.0-1 libglib2.0-bin libgstreamer1.0-0\n",
      "  libpackagekit-glib2-18 libpolkit-agent-1-0 libpolkit-backend-1-0\n",
      "  libpolkit-gobject-1-0 libstemmer0d libyaml-0-2 packagekit packagekit-tools\n",
      "  policykit-1 python3-dbus python3-distro-info python3-gi\n",
      "  python3-software-properties software-properties-common unattended-upgrades\n",
      "0 upgraded, 23 newly installed, 0 to remove and 38 not upgraded.\n",
      "Need to get 4,706 kB of archives.\n",
      "After this operation, 14.4 MB of additional disk space will be used.\n",
      "Get:1 http://deb.debian.org/debian buster/main amd64 apt-transport-https all 1.8.2.1 [149 kB]\n",
      "Get:2 http://deb.debian.org/debian buster/main amd64 libgirepository-1.0-1 amd64 1.58.3-2 [92.8 kB]\n",
      "Get:3 http://deb.debian.org/debian buster/main amd64 gir1.2-glib-2.0 amd64 1.58.3-2 [143 kB]\n",
      "Get:4 http://deb.debian.org/debian buster/main amd64 libpackagekit-glib2-18 amd64 1.1.12-5 [116 kB]\n",
      "Get:5 http://deb.debian.org/debian buster/main amd64 gir1.2-packagekitglib-1.0 amd64 1.1.12-5 [35.9 kB]\n",
      "Get:6 http://deb.debian.org/debian buster/main amd64 gnupg-agent all 2.2.12-1+deb10u1 [393 kB]\n",
      "Get:7 http://deb.debian.org/debian buster/main amd64 libstemmer0d amd64 0+svn585-1+b2 [63.3 kB]\n",
      "Get:8 http://deb.debian.org/debian buster/main amd64 libyaml-0-2 amd64 0.2.1-1 [47.2 kB]\n",
      "Get:9 http://deb.debian.org/debian buster/main amd64 libappstream4 amd64 0.12.5-1 [110 kB]\n",
      "Get:10 http://deb.debian.org/debian buster/main amd64 libglib2.0-bin amd64 2.58.3-2+deb10u2 [126 kB]\n",
      "Get:11 http://deb.debian.org/debian buster/main amd64 libgstreamer1.0-0 amd64 1.14.4-1 [2,103 kB]\n",
      "Get:12 http://deb.debian.org/debian buster/main amd64 libpolkit-gobject-1-0 amd64 0.105-25 [45.9 kB]\n",
      "Get:13 http://deb.debian.org/debian buster/main amd64 libpolkit-agent-1-0 amd64 0.105-25 [26.1 kB]\n",
      "Get:14 http://deb.debian.org/debian buster/main amd64 libpolkit-backend-1-0 amd64 0.105-25 [48.0 kB]\n",
      "Get:15 http://deb.debian.org/debian buster/main amd64 policykit-1 amd64 0.105-25 [64.0 kB]\n",
      "Get:16 http://deb.debian.org/debian buster/main amd64 packagekit amd64 1.1.12-5 [593 kB]\n",
      "Get:17 http://deb.debian.org/debian buster/main amd64 packagekit-tools amd64 1.1.12-5 [46.9 kB]\n",
      "Get:18 http://deb.debian.org/debian buster/main amd64 python3-dbus amd64 1.2.8-3 [103 kB]\n",
      "Get:19 http://deb.debian.org/debian buster/main amd64 python3-distro-info all 0.21 [7,896 B]\n",
      "Get:20 http://deb.debian.org/debian buster/main amd64 python3-gi amd64 3.30.4-1 [180 kB]\n",
      "Get:21 http://deb.debian.org/debian buster/main amd64 python3-software-properties all 0.96.20.2-2 [49.6 kB]\n",
      "Get:22 http://deb.debian.org/debian buster/main amd64 software-properties-common all 0.96.20.2-2 [83.3 kB]\n",
      "Get:23 http://deb.debian.org/debian buster/main amd64 unattended-upgrades all 1.11.2 [79.0 kB]\n",
      "Fetched 4,706 kB in 1s (3,172 kB/s)        \u001b[0m\u001b[33m\n",
      "debconf: unable to initialize frontend: Dialog\n",
      "debconf: (Dialog frontend will not work on a dumb terminal, an emacs shell buffer, or without a controlling terminal.)\n",
      "debconf: falling back to frontend: Readline\n",
      "Preconfiguring packages ...\n",
      "\n",
      "\u001b7\u001b[0;23r\u001b8\u001b[1ASelecting previously unselected package apt-transport-https.\n",
      "(Reading database ... 43551 files and directories currently installed.)\n",
      "Preparing to unpack .../00-apt-transport-https_1.8.2.1_all.deb ...\n",
      "\u001b7\u001b[24;0f\u001b[42m\u001b[30mProgress: [  0%]\u001b[49m\u001b[39m [..........................................................] \u001b8\u001b7\u001b[24;0f\u001b[42m\u001b[30mProgress: [  1%]\u001b[49m\u001b[39m [..........................................................] \u001b8Unpacking apt-transport-https (1.8.2.1) ...\n",
      "\u001b7\u001b[24;0f\u001b[42m\u001b[30mProgress: [  2%]\u001b[49m\u001b[39m [#.........................................................] \u001b8Selecting previously unselected package libgirepository-1.0-1:amd64.\n",
      "Preparing to unpack .../01-libgirepository-1.0-1_1.58.3-2_amd64.deb ...\n",
      "\u001b7\u001b[24;0f\u001b[42m\u001b[30mProgress: [  3%]\u001b[49m\u001b[39m [#.........................................................] \u001b8Unpacking libgirepository-1.0-1:amd64 (1.58.3-2) ...\n",
      "\u001b7\u001b[24;0f\u001b[42m\u001b[30mProgress: [  4%]\u001b[49m\u001b[39m [##........................................................] \u001b8Selecting previously unselected package gir1.2-glib-2.0:amd64.\n",
      "Preparing to unpack .../02-gir1.2-glib-2.0_1.58.3-2_amd64.deb ...\n",
      "\u001b7\u001b[24;0f\u001b[42m\u001b[30mProgress: [  5%]\u001b[49m\u001b[39m [###.......................................................] \u001b8Unpacking gir1.2-glib-2.0:amd64 (1.58.3-2) ...\n",
      "\u001b7\u001b[24;0f\u001b[42m\u001b[30mProgress: [  6%]\u001b[49m\u001b[39m [###.......................................................] \u001b8Selecting previously unselected package libpackagekit-glib2-18:amd64.\n",
      "Preparing to unpack .../03-libpackagekit-glib2-18_1.1.12-5_amd64.deb ...\n",
      "\u001b7\u001b[24;0f\u001b[42m\u001b[30mProgress: [  8%]\u001b[49m\u001b[39m [####......................................................] \u001b8Unpacking libpackagekit-glib2-18:amd64 (1.1.12-5) ...\n",
      "\u001b7\u001b[24;0f\u001b[42m\u001b[30mProgress: [  9%]\u001b[49m\u001b[39m [####......................................................] \u001b8Selecting previously unselected package gir1.2-packagekitglib-1.0.\n",
      "Preparing to unpack .../04-gir1.2-packagekitglib-1.0_1.1.12-5_amd64.deb ...\n",
      "\u001b7\u001b[24;0f\u001b[42m\u001b[30mProgress: [ 10%]\u001b[49m\u001b[39m [#####.....................................................] \u001b8Unpacking gir1.2-packagekitglib-1.0 (1.1.12-5) ...\n",
      "\u001b7\u001b[24;0f\u001b[42m\u001b[30mProgress: [ 11%]\u001b[49m\u001b[39m [######....................................................] \u001b8Selecting previously unselected package gnupg-agent.\n",
      "Preparing to unpack .../05-gnupg-agent_2.2.12-1+deb10u1_all.deb ...\n",
      "\u001b7\u001b[24;0f\u001b[42m\u001b[30mProgress: [ 12%]\u001b[49m\u001b[39m [######....................................................] \u001b8Unpacking gnupg-agent (2.2.12-1+deb10u1) ...\n",
      "\u001b7\u001b[24;0f\u001b[42m\u001b[30mProgress: [ 13%]\u001b[49m\u001b[39m [#######...................................................] \u001b8Selecting previously unselected package libstemmer0d:amd64.\n",
      "Preparing to unpack .../06-libstemmer0d_0+svn585-1+b2_amd64.deb ...\n",
      "\u001b7\u001b[24;0f\u001b[42m\u001b[30mProgress: [ 14%]\u001b[49m\u001b[39m [########..................................................] \u001b8Unpacking libstemmer0d:amd64 (0+svn585-1+b2) ...\n",
      "\u001b7\u001b[24;0f\u001b[42m\u001b[30mProgress: [ 15%]\u001b[49m\u001b[39m [########..................................................] \u001b8Selecting previously unselected package libyaml-0-2:amd64.\n",
      "Preparing to unpack .../07-libyaml-0-2_0.2.1-1_amd64.deb ...\n",
      "\u001b7\u001b[24;0f\u001b[42m\u001b[30mProgress: [ 16%]\u001b[49m\u001b[39m [#########.................................................] \u001b8Unpacking libyaml-0-2:amd64 (0.2.1-1) ...\n",
      "\u001b7\u001b[24;0f\u001b[42m\u001b[30mProgress: [ 17%]\u001b[49m\u001b[39m [#########.................................................] \u001b8Selecting previously unselected package libappstream4:amd64.\n",
      "Preparing to unpack .../08-libappstream4_0.12.5-1_amd64.deb ...\n",
      "\u001b7\u001b[24;0f\u001b[42m\u001b[30mProgress: [ 18%]\u001b[49m\u001b[39m [##########................................................] \u001b8Unpacking libappstream4:amd64 (0.12.5-1) ...\n",
      "\u001b7\u001b[24;0f\u001b[42m\u001b[30mProgress: [ 19%]\u001b[49m\u001b[39m [###########...............................................] \u001b8Selecting previously unselected package libglib2.0-bin.\n",
      "Preparing to unpack .../09-libglib2.0-bin_2.58.3-2+deb10u2_amd64.deb ...\n",
      "\u001b7\u001b[24;0f\u001b[42m\u001b[30mProgress: [ 20%]\u001b[49m\u001b[39m [###########...............................................] \u001b8Unpacking libglib2.0-bin (2.58.3-2+deb10u2) ...\n",
      "\u001b7\u001b[24;0f\u001b[42m\u001b[30mProgress: [ 22%]\u001b[49m\u001b[39m [############..............................................] \u001b8Selecting previously unselected package libgstreamer1.0-0:amd64.\n"
     ]
    },
    {
     "name": "stdout",
     "output_type": "stream",
     "text": [
      "Preparing to unpack .../10-libgstreamer1.0-0_1.14.4-1_amd64.deb ...\n",
      "\u001b7\u001b[24;0f\u001b[42m\u001b[30mProgress: [ 23%]\u001b[49m\u001b[39m [#############.............................................] \u001b8Unpacking libgstreamer1.0-0:amd64 (1.14.4-1) ...\n",
      "\u001b7\u001b[24;0f\u001b[42m\u001b[30mProgress: [ 24%]\u001b[49m\u001b[39m [#############.............................................] \u001b8Selecting previously unselected package libpolkit-gobject-1-0:amd64.\n",
      "Preparing to unpack .../11-libpolkit-gobject-1-0_0.105-25_amd64.deb ...\n",
      "\u001b7\u001b[24;0f\u001b[42m\u001b[30mProgress: [ 25%]\u001b[49m\u001b[39m [##############............................................] \u001b8Unpacking libpolkit-gobject-1-0:amd64 (0.105-25) ...\n",
      "\u001b7\u001b[24;0f\u001b[42m\u001b[30mProgress: [ 26%]\u001b[49m\u001b[39m [##############............................................] \u001b8Selecting previously unselected package libpolkit-agent-1-0:amd64.\n",
      "Preparing to unpack .../12-libpolkit-agent-1-0_0.105-25_amd64.deb ...\n",
      "\u001b7\u001b[24;0f\u001b[42m\u001b[30mProgress: [ 27%]\u001b[49m\u001b[39m [###############...........................................] \u001b8Unpacking libpolkit-agent-1-0:amd64 (0.105-25) ...\n",
      "\u001b7\u001b[24;0f\u001b[42m\u001b[30mProgress: [ 28%]\u001b[49m\u001b[39m [################..........................................] \u001b8Selecting previously unselected package libpolkit-backend-1-0:amd64.\n",
      "Preparing to unpack .../13-libpolkit-backend-1-0_0.105-25_amd64.deb ...\n",
      "\u001b7\u001b[24;0f\u001b[42m\u001b[30mProgress: [ 29%]\u001b[49m\u001b[39m [################..........................................] \u001b8Unpacking libpolkit-backend-1-0:amd64 (0.105-25) ...\n",
      "\u001b7\u001b[24;0f\u001b[42m\u001b[30mProgress: [ 30%]\u001b[49m\u001b[39m [#################.........................................] \u001b8Selecting previously unselected package policykit-1.\n",
      "Preparing to unpack .../14-policykit-1_0.105-25_amd64.deb ...\n",
      "\u001b7\u001b[24;0f\u001b[42m\u001b[30mProgress: [ 31%]\u001b[49m\u001b[39m [##################........................................] \u001b8Unpacking policykit-1 (0.105-25) ...\n",
      "\u001b7\u001b[24;0f\u001b[42m\u001b[30mProgress: [ 32%]\u001b[49m\u001b[39m [##################........................................] \u001b8Selecting previously unselected package packagekit.\n",
      "Preparing to unpack .../15-packagekit_1.1.12-5_amd64.deb ...\n",
      "\u001b7\u001b[24;0f\u001b[42m\u001b[30mProgress: [ 33%]\u001b[49m\u001b[39m [###################.......................................] \u001b8Unpacking packagekit (1.1.12-5) ...\n",
      "\u001b7\u001b[24;0f\u001b[42m\u001b[30mProgress: [ 34%]\u001b[49m\u001b[39m [###################.......................................] \u001b8Selecting previously unselected package packagekit-tools.\n",
      "Preparing to unpack .../16-packagekit-tools_1.1.12-5_amd64.deb ...\n",
      "\u001b7\u001b[24;0f\u001b[42m\u001b[30mProgress: [ 35%]\u001b[49m\u001b[39m [####################......................................] \u001b8Unpacking packagekit-tools (1.1.12-5) ...\n",
      "\u001b7\u001b[24;0f\u001b[42m\u001b[30mProgress: [ 37%]\u001b[49m\u001b[39m [#####################.....................................] \u001b8Selecting previously unselected package python3-dbus.\n",
      "Preparing to unpack .../17-python3-dbus_1.2.8-3_amd64.deb ...\n",
      "\u001b7\u001b[24;0f\u001b[42m\u001b[30mProgress: [ 38%]\u001b[49m\u001b[39m [#####################.....................................] \u001b8Unpacking python3-dbus (1.2.8-3) ...\n",
      "\u001b7\u001b[24;0f\u001b[42m\u001b[30mProgress: [ 39%]\u001b[49m\u001b[39m [######################....................................] \u001b8Selecting previously unselected package python3-distro-info.\n",
      "Preparing to unpack .../18-python3-distro-info_0.21_all.deb ...\n",
      "\u001b7\u001b[24;0f\u001b[42m\u001b[30mProgress: [ 40%]\u001b[49m\u001b[39m [#######################...................................] \u001b8Unpacking python3-distro-info (0.21) ...\n",
      "\u001b7\u001b[24;0f\u001b[42m\u001b[30mProgress: [ 41%]\u001b[49m\u001b[39m [#######################...................................] \u001b8Selecting previously unselected package python3-gi.\n",
      "Preparing to unpack .../19-python3-gi_3.30.4-1_amd64.deb ...\n",
      "\u001b7\u001b[24;0f\u001b[42m\u001b[30mProgress: [ 42%]\u001b[49m\u001b[39m [########################..................................] \u001b8Unpacking python3-gi (3.30.4-1) ...\n",
      "\u001b7\u001b[24;0f\u001b[42m\u001b[30mProgress: [ 43%]\u001b[49m\u001b[39m [########################..................................] \u001b8Selecting previously unselected package python3-software-properties.\n",
      "Preparing to unpack .../20-python3-software-properties_0.96.20.2-2_all.deb ...\n",
      "\u001b7\u001b[24;0f\u001b[42m\u001b[30mProgress: [ 44%]\u001b[49m\u001b[39m [#########################.................................] \u001b8Unpacking python3-software-properties (0.96.20.2-2) ...\n",
      "\u001b7\u001b[24;0f\u001b[42m\u001b[30mProgress: [ 45%]\u001b[49m\u001b[39m [##########################................................] \u001b8Selecting previously unselected package software-properties-common.\n",
      "Preparing to unpack .../21-software-properties-common_0.96.20.2-2_all.deb ...\n",
      "\u001b7\u001b[24;0f\u001b[42m\u001b[30mProgress: [ 46%]\u001b[49m\u001b[39m [##########################................................] \u001b8Unpacking software-properties-common (0.96.20.2-2) ...\n",
      "\u001b7\u001b[24;0f\u001b[42m\u001b[30mProgress: [ 47%]\u001b[49m\u001b[39m [###########################...............................] \u001b8Selecting previously unselected package unattended-upgrades.\n",
      "Preparing to unpack .../22-unattended-upgrades_1.11.2_all.deb ...\n",
      "\u001b7\u001b[24;0f\u001b[42m\u001b[30mProgress: [ 48%]\u001b[49m\u001b[39m [############################..............................] \u001b8Unpacking unattended-upgrades (1.11.2) ...\n",
      "\u001b7\u001b[24;0f\u001b[42m\u001b[30mProgress: [ 49%]\u001b[49m\u001b[39m [############################..............................] \u001b8Setting up python3-dbus (1.2.8-3) ...\n",
      "\u001b7\u001b[24;0f\u001b[42m\u001b[30mProgress: [ 51%]\u001b[49m\u001b[39m [#############################.............................] \u001b8\u001b7\u001b[24;0f\u001b[42m\u001b[30mProgress: [ 52%]\u001b[49m\u001b[39m [#############################.............................] \u001b8Setting up apt-transport-https (1.8.2.1) ...\n",
      "\u001b7\u001b[24;0f\u001b[42m\u001b[30mProgress: [ 53%]\u001b[49m\u001b[39m [##############################............................] \u001b8\u001b7\u001b[24;0f\u001b[42m\u001b[30mProgress: [ 54%]\u001b[49m\u001b[39m [###############################...........................] \u001b8Setting up libyaml-0-2:amd64 (0.2.1-1) ...\n",
      "\u001b7\u001b[24;0f\u001b[42m\u001b[30mProgress: [ 55%]\u001b[49m\u001b[39m [###############################...........................] \u001b8\u001b7\u001b[24;0f\u001b[42m\u001b[30mProgress: [ 56%]\u001b[49m\u001b[39m [################################..........................] \u001b8Setting up libglib2.0-bin (2.58.3-2+deb10u2) ...\n",
      "\u001b7\u001b[24;0f\u001b[42m\u001b[30mProgress: [ 57%]\u001b[49m\u001b[39m [#################################.........................] \u001b8\u001b7\u001b[24;0f\u001b[42m\u001b[30mProgress: [ 58%]\u001b[49m\u001b[39m [#################################.........................] \u001b8Setting up libpackagekit-glib2-18:amd64 (1.1.12-5) ...\n",
      "\u001b7\u001b[24;0f\u001b[42m\u001b[30mProgress: [ 59%]\u001b[49m\u001b[39m [##################################........................] \u001b8\u001b7\u001b[24;0f\u001b[42m\u001b[30mProgress: [ 60%]\u001b[49m\u001b[39m [##################################........................] \u001b8Setting up python3-software-properties (0.96.20.2-2) ...\n",
      "\u001b7\u001b[24;0f\u001b[42m\u001b[30mProgress: [ 61%]\u001b[49m\u001b[39m [###################################.......................] \u001b8\u001b7\u001b[24;0f\u001b[42m\u001b[30mProgress: [ 62%]\u001b[49m\u001b[39m [####################################......................] \u001b8Setting up gnupg-agent (2.2.12-1+deb10u1) ...\n",
      "\u001b7\u001b[24;0f\u001b[42m\u001b[30mProgress: [ 63%]\u001b[49m\u001b[39m [####################################......................] \u001b8\u001b7\u001b[24;0f\u001b[42m\u001b[30mProgress: [ 65%]\u001b[49m\u001b[39m [#####################################.....................] \u001b8Setting up libgirepository-1.0-1:amd64 (1.58.3-2) ...\n",
      "\u001b7\u001b[24;0f\u001b[42m\u001b[30mProgress: [ 66%]\u001b[49m\u001b[39m [######################################....................] \u001b8\u001b7\u001b[24;0f\u001b[42m\u001b[30mProgress: [ 67%]\u001b[49m\u001b[39m [######################################....................] \u001b8Setting up libstemmer0d:amd64 (0+svn585-1+b2) ...\n",
      "\u001b7\u001b[24;0f\u001b[42m\u001b[30mProgress: [ 68%]\u001b[49m\u001b[39m [#######################################...................] \u001b8\u001b7\u001b[24;0f\u001b[42m\u001b[30mProgress: [ 69%]\u001b[49m\u001b[39m [#######################################...................] \u001b8Setting up python3-distro-info (0.21) ...\n",
      "\u001b7\u001b[24;0f\u001b[42m\u001b[30mProgress: [ 70%]\u001b[49m\u001b[39m [########################################..................] \u001b8\u001b7\u001b[24;0f\u001b[42m\u001b[30mProgress: [ 71%]\u001b[49m\u001b[39m [#########################################.................] \u001b8Setting up libpolkit-gobject-1-0:amd64 (0.105-25) ...\n",
      "\u001b7\u001b[24;0f\u001b[42m\u001b[30mProgress: [ 72%]\u001b[49m\u001b[39m [#########################################.................] \u001b8\u001b7\u001b[24;0f\u001b[42m\u001b[30mProgress: [ 73%]\u001b[49m\u001b[39m [##########################################................] \u001b8Setting up libgstreamer1.0-0:amd64 (1.14.4-1) ...\n",
      "\u001b7\u001b[24;0f\u001b[42m\u001b[30mProgress: [ 74%]\u001b[49m\u001b[39m [###########################################...............] \u001b8Setcap worked! gst-ptp-helper is not suid!\n",
      "\u001b7\u001b[24;0f\u001b[42m\u001b[30mProgress: [ 75%]\u001b[49m\u001b[39m [###########################################...............] \u001b8Setting up libpolkit-backend-1-0:amd64 (0.105-25) ...\n"
     ]
    },
    {
     "name": "stdout",
     "output_type": "stream",
     "text": [
      "\u001b7\u001b[24;0f\u001b[42m\u001b[30mProgress: [ 76%]\u001b[49m\u001b[39m [############################################..............] \u001b8\u001b7\u001b[24;0f\u001b[42m\u001b[30mProgress: [ 77%]\u001b[49m\u001b[39m [############################################..............] \u001b8Setting up libappstream4:amd64 (0.12.5-1) ...\n",
      "\u001b7\u001b[24;0f\u001b[42m\u001b[30mProgress: [ 78%]\u001b[49m\u001b[39m [#############################################.............] \u001b8\u001b7\u001b[24;0f\u001b[42m\u001b[30mProgress: [ 80%]\u001b[49m\u001b[39m [##############################################............] \u001b8Setting up unattended-upgrades (1.11.2) ...\n",
      "\u001b7\u001b[24;0f\u001b[42m\u001b[30mProgress: [ 81%]\u001b[49m\u001b[39m [##############################################............] \u001b8debconf: unable to initialize frontend: Dialog\n",
      "debconf: (Dialog frontend will not work on a dumb terminal, an emacs shell buffer, or without a controlling terminal.)\n",
      "debconf: falling back to frontend: Readline\n",
      "\n",
      "Creating config file /etc/apt/apt.conf.d/50unattended-upgrades with new version\n",
      "Created symlink /etc/systemd/system/multi-user.target.wants/unattended-upgrades.service → /lib/systemd/system/unattended-upgrades.service.\n",
      "Synchronizing state of unattended-upgrades.service with SysV service script with /lib/systemd/systemd-sysv-install.\n",
      "Executing: /lib/systemd/systemd-sysv-install enable unattended-upgrades\n",
      "\u001b7\u001b[24;0f\u001b[42m\u001b[30mProgress: [ 82%]\u001b[49m\u001b[39m [###############################################...........] \u001b8Setting up gir1.2-glib-2.0:amd64 (1.58.3-2) ...\n",
      "\u001b7\u001b[24;0f\u001b[42m\u001b[30mProgress: [ 83%]\u001b[49m\u001b[39m [################################################..........] \u001b8\u001b7\u001b[24;0f\u001b[42m\u001b[30mProgress: [ 84%]\u001b[49m\u001b[39m [################################################..........] \u001b8Setting up libpolkit-agent-1-0:amd64 (0.105-25) ...\n",
      "\u001b7\u001b[24;0f\u001b[42m\u001b[30mProgress: [ 85%]\u001b[49m\u001b[39m [#################################################.........] \u001b8\u001b7\u001b[24;0f\u001b[42m\u001b[30mProgress: [ 86%]\u001b[49m\u001b[39m [#################################################.........] \u001b8Setting up policykit-1 (0.105-25) ...\n",
      "\u001b7\u001b[24;0f\u001b[42m\u001b[30mProgress: [ 87%]\u001b[49m\u001b[39m [##################################################........] \u001b8\u001b7\u001b[24;0f\u001b[42m\u001b[30mProgress: [ 88%]\u001b[49m\u001b[39m [###################################################.......] \u001b8Setting up gir1.2-packagekitglib-1.0 (1.1.12-5) ...\n",
      "\u001b7\u001b[24;0f\u001b[42m\u001b[30mProgress: [ 89%]\u001b[49m\u001b[39m [###################################################.......] \u001b8\u001b7\u001b[24;0f\u001b[42m\u001b[30mProgress: [ 90%]\u001b[49m\u001b[39m [####################################################......] \u001b8Setting up python3-gi (3.30.4-1) ...\n",
      "\u001b7\u001b[24;0f\u001b[42m\u001b[30mProgress: [ 91%]\u001b[49m\u001b[39m [#####################################################.....] \u001b8\u001b7\u001b[24;0f\u001b[42m\u001b[30mProgress: [ 92%]\u001b[49m\u001b[39m [#####################################################.....] \u001b8Setting up packagekit (1.1.12-5) ...\n",
      "\u001b7\u001b[24;0f\u001b[42m\u001b[30mProgress: [ 94%]\u001b[49m\u001b[39m [######################################################....] \u001b8\u001b7\u001b[24;0f\u001b[42m\u001b[30mProgress: [ 95%]\u001b[49m\u001b[39m [######################################################....] \u001b8Setting up packagekit-tools (1.1.12-5) ...\n",
      "\u001b7\u001b[24;0f\u001b[42m\u001b[30mProgress: [ 96%]\u001b[49m\u001b[39m [#######################################################...] \u001b8\u001b7\u001b[24;0f\u001b[42m\u001b[30mProgress: [ 97%]\u001b[49m\u001b[39m [########################################################..] \u001b8Setting up software-properties-common (0.96.20.2-2) ...\n",
      "\u001b7\u001b[24;0f\u001b[42m\u001b[30mProgress: [ 98%]\u001b[49m\u001b[39m [########################################################..] \u001b8\u001b7\u001b[24;0f\u001b[42m\u001b[30mProgress: [ 99%]\u001b[49m\u001b[39m [#########################################################.] \u001b8Processing triggers for libc-bin (2.28-10) ...\n",
      "Processing triggers for systemd (241-7~deb10u4) ...\n",
      "Processing triggers for man-db (2.8.5-2) ...\n",
      "Processing triggers for dbus (1.12.16-1) ...\n",
      "\n",
      "\u001b7\u001b[0;24r\u001b8\u001b[1A\u001b[J"
     ]
    }
   ],
   "source": [
    "sudo apt install -y apt-transport-https ca-certificates curl gnupg-agent \\\n",
    "    software-properties-common"
   ]
  },
  {
   "cell_type": "markdown",
   "metadata": {},
   "source": [
    "* Las siguientes celdas configurarán el repositorio de *Docker* ."
   ]
  },
  {
   "cell_type": "code",
   "execution_count": 3,
   "metadata": {
    "scrolled": true
   },
   "outputs": [
    {
     "name": "stdout",
     "output_type": "stream",
     "text": [
      "OK\n"
     ]
    }
   ],
   "source": [
    "curl -fsSL https://download.docker.com/linux/debian/gpg | sudo apt-key add -"
   ]
  },
  {
   "cell_type": "code",
   "execution_count": 4,
   "metadata": {
    "scrolled": false
   },
   "outputs": [],
   "source": [
    "sudo add-apt-repository  \"deb [arch=amd64] https://download.docker.com/linux/debian \\\n",
    "   $(lsb_release -cs) stable\""
   ]
  },
  {
   "cell_type": "code",
   "execution_count": 5,
   "metadata": {
    "scrolled": false
   },
   "outputs": [
    {
     "name": "stdout",
     "output_type": "stream",
     "text": [
      "Hit:1 http://deb.debian.org/debian buster InRelease\n",
      "Hit:2 http://security.debian.org/debian-security buster/updates InRelease\n",
      "Hit:3 http://deb.debian.org/debian buster-updates InRelease                \n",
      "Get:4 https://download.docker.com/linux/debian buster InRelease [44.4 kB]  \n",
      "Get:5 https://download.docker.com/linux/debian buster/stable amd64 Packages [13.0 kB]\n",
      "Fetched 57.4 kB in 1s (80.3 kB/s)\n",
      "Reading package lists... Done\n"
     ]
    }
   ],
   "source": [
    "sudo apt-get update"
   ]
  },
  {
   "cell_type": "markdown",
   "metadata": {},
   "source": [
    "* La siguiente celda instalará *Docker*."
   ]
  },
  {
   "cell_type": "code",
   "execution_count": 6,
   "metadata": {},
   "outputs": [
    {
     "name": "stdout",
     "output_type": "stream",
     "text": [
      "Reading package lists... Done\n",
      "Building dependency tree       \n",
      "Reading state information... Done\n",
      "The following additional packages will be installed:\n",
      "  aufs-dkms aufs-tools cgroupfs-mount dkms libltdl7 linux-compiler-gcc-8-x86\n",
      "  linux-headers-4.19.0-10-amd64 linux-headers-4.19.0-10-common\n",
      "  linux-headers-amd64 linux-kbuild-4.19 pigz\n",
      "Suggested packages:\n",
      "  aufs-dev python3-apport menu\n",
      "The following NEW packages will be installed:\n",
      "  aufs-dkms aufs-tools cgroupfs-mount containerd.io dkms docker-ce\n",
      "  docker-ce-cli libltdl7 linux-compiler-gcc-8-x86\n",
      "  linux-headers-4.19.0-10-amd64 linux-headers-4.19.0-10-common\n",
      "  linux-headers-amd64 linux-kbuild-4.19 pigz\n",
      "0 upgraded, 14 newly installed, 0 to remove and 38 not upgraded.\n",
      "Need to get 96.4 MB of archives.\n",
      "After this operation, 441 MB of additional disk space will be used.\n",
      "Get:1 http://deb.debian.org/debian buster/main amd64 pigz amd64 2.4-1 [57.8 kB]\n",
      "Get:2 https://download.docker.com/linux/debian buster/stable amd64 containerd.io amd64 1.2.13-2 [21.4 MB]\n",
      "Get:3 http://deb.debian.org/debian buster/main amd64 dkms all 2.6.1-4 [74.4 kB]\n",
      "Get:4 http://deb.debian.org/debian buster/main amd64 aufs-dkms all 4.19+20190211-1 [183 kB]\n",
      "Get:5 http://deb.debian.org/debian buster/main amd64 aufs-tools amd64 1:4.14+20190211-1 [105 kB]\n",
      "Get:6 http://deb.debian.org/debian buster/main amd64 cgroupfs-mount all 1.4 [6,276 B]\n",
      "Get:7 http://deb.debian.org/debian buster/main amd64 libltdl7 amd64 2.4.6-9 [390 kB]\n",
      "Get:8 http://deb.debian.org/debian buster/main amd64 linux-compiler-gcc-8-x86 amd64 4.19.132-1 [458 kB]\n",
      "Get:9 http://deb.debian.org/debian buster/main amd64 linux-headers-4.19.0-10-common all 4.19.132-1 [8,396 kB]\n",
      "Get:10 https://download.docker.com/linux/debian buster/stable amd64 docker-ce-cli amd64 5:19.03.12~3-0~debian-buster [41.2 MB]\n",
      "Get:11 https://download.docker.com/linux/debian buster/stable amd64 docker-ce amd64 5:19.03.12~3-0~debian-buster [22.5 MB]\n",
      "Get:12 http://deb.debian.org/debian buster/main amd64 linux-kbuild-4.19 amd64 4.19.132-1 [691 kB]\n",
      "Get:13 http://deb.debian.org/debian buster/main amd64 linux-headers-4.19.0-10-amd64 amd64 4.19.132-1 [941 kB]\n",
      "Get:14 http://deb.debian.org/debian buster/main amd64 linux-headers-amd64 amd64 4.19+105+deb10u5 [6,768 B]\n",
      "Fetched 96.4 MB in 15s (6,491 kB/s)                                            \u001b[0m\u001b[33m\n",
      "debconf: unable to initialize frontend: Dialog\n",
      "debconf: (Dialog frontend will not work on a dumb terminal, an emacs shell buffer, or without a controlling terminal.)\n",
      "debconf: falling back to frontend: Readline\n",
      "\n",
      "\u001b7\u001b[0;23r\u001b8\u001b[1ASelecting previously unselected package pigz.\n",
      "(Reading database ... 44108 files and directories currently installed.)\n",
      "Preparing to unpack .../00-pigz_2.4-1_amd64.deb ...\n",
      "\u001b7\u001b[24;0f\u001b[42m\u001b[30mProgress: [  0%]\u001b[49m\u001b[39m [..........................................................] \u001b8\u001b7\u001b[24;0f\u001b[42m\u001b[30mProgress: [  2%]\u001b[49m\u001b[39m [#.........................................................] \u001b8Unpacking pigz (2.4-1) ...\n",
      "\u001b7\u001b[24;0f\u001b[42m\u001b[30mProgress: [  4%]\u001b[49m\u001b[39m [##........................................................] \u001b8Selecting previously unselected package dkms.\n",
      "Preparing to unpack .../01-dkms_2.6.1-4_all.deb ...\n",
      "\u001b7\u001b[24;0f\u001b[42m\u001b[30mProgress: [  5%]\u001b[49m\u001b[39m [###.......................................................] \u001b8Unpacking dkms (2.6.1-4) ...\n",
      "\u001b7\u001b[24;0f\u001b[42m\u001b[30mProgress: [  7%]\u001b[49m\u001b[39m [####......................................................] \u001b8Selecting previously unselected package aufs-dkms.\n",
      "Preparing to unpack .../02-aufs-dkms_4.19+20190211-1_all.deb ...\n",
      "\u001b7\u001b[24;0f\u001b[42m\u001b[30mProgress: [  9%]\u001b[49m\u001b[39m [#####.....................................................] \u001b8Unpacking aufs-dkms (4.19+20190211-1) ...\n",
      "\u001b7\u001b[24;0f\u001b[42m\u001b[30mProgress: [ 11%]\u001b[49m\u001b[39m [######....................................................] \u001b8Selecting previously unselected package aufs-tools.\n",
      "Preparing to unpack .../03-aufs-tools_1%3a4.14+20190211-1_amd64.deb ...\n",
      "\u001b7\u001b[24;0f\u001b[42m\u001b[30mProgress: [ 12%]\u001b[49m\u001b[39m [#######...................................................] \u001b8Unpacking aufs-tools (1:4.14+20190211-1) ...\n",
      "\u001b7\u001b[24;0f\u001b[42m\u001b[30mProgress: [ 14%]\u001b[49m\u001b[39m [########..................................................] \u001b8Selecting previously unselected package cgroupfs-mount.\n",
      "Preparing to unpack .../04-cgroupfs-mount_1.4_all.deb ...\n",
      "\u001b7\u001b[24;0f\u001b[42m\u001b[30mProgress: [ 16%]\u001b[49m\u001b[39m [#########.................................................] \u001b8Unpacking cgroupfs-mount (1.4) ...\n",
      "\u001b7\u001b[24;0f\u001b[42m\u001b[30mProgress: [ 18%]\u001b[49m\u001b[39m [##########................................................] \u001b8Selecting previously unselected package containerd.io.\n",
      "Preparing to unpack .../05-containerd.io_1.2.13-2_amd64.deb ...\n",
      "\u001b7\u001b[24;0f\u001b[42m\u001b[30mProgress: [ 19%]\u001b[49m\u001b[39m [###########...............................................] \u001b8Unpacking containerd.io (1.2.13-2) ...\n",
      "\u001b7\u001b[24;0f\u001b[42m\u001b[30mProgress: [ 21%]\u001b[49m\u001b[39m [############..............................................] \u001b8Selecting previously unselected package docker-ce-cli.\n",
      "Preparing to unpack .../06-docker-ce-cli_5%3a19.03.12~3-0~debian-buster_amd64.deb ...\n",
      "\u001b7\u001b[24;0f\u001b[42m\u001b[30mProgress: [ 23%]\u001b[49m\u001b[39m [#############.............................................] \u001b8Unpacking docker-ce-cli (5:19.03.12~3-0~debian-buster) ...\n",
      "\u001b7\u001b[24;0f\u001b[42m\u001b[30mProgress: [ 25%]\u001b[49m\u001b[39m [##############............................................] \u001b8Selecting previously unselected package docker-ce.\n",
      "Preparing to unpack .../07-docker-ce_5%3a19.03.12~3-0~debian-buster_amd64.deb ...\n",
      "\u001b7\u001b[24;0f\u001b[42m\u001b[30mProgress: [ 26%]\u001b[49m\u001b[39m [###############...........................................] \u001b8Unpacking docker-ce (5:19.03.12~3-0~debian-buster) ...\n",
      "\u001b7\u001b[24;0f\u001b[42m\u001b[30mProgress: [ 28%]\u001b[49m\u001b[39m [################..........................................] \u001b8Selecting previously unselected package libltdl7:amd64.\n",
      "Preparing to unpack .../08-libltdl7_2.4.6-9_amd64.deb ...\n",
      "\u001b7\u001b[24;0f\u001b[42m\u001b[30mProgress: [ 30%]\u001b[49m\u001b[39m [#################.........................................] \u001b8Unpacking libltdl7:amd64 (2.4.6-9) ...\n",
      "\u001b7\u001b[24;0f\u001b[42m\u001b[30mProgress: [ 32%]\u001b[49m\u001b[39m [##################........................................] \u001b8Selecting previously unselected package linux-compiler-gcc-8-x86.\n",
      "Preparing to unpack .../09-linux-compiler-gcc-8-x86_4.19.132-1_amd64.deb ...\n",
      "\u001b7\u001b[24;0f\u001b[42m\u001b[30mProgress: [ 33%]\u001b[49m\u001b[39m [###################.......................................] \u001b8Unpacking linux-compiler-gcc-8-x86 (4.19.132-1) ...\n",
      "\u001b7\u001b[24;0f\u001b[42m\u001b[30mProgress: [ 35%]\u001b[49m\u001b[39m [####################......................................] \u001b8Selecting previously unselected package linux-headers-4.19.0-10-common.\n",
      "Preparing to unpack .../10-linux-headers-4.19.0-10-common_4.19.132-1_all.deb ...\n",
      "\u001b7\u001b[24;0f\u001b[42m\u001b[30mProgress: [ 37%]\u001b[49m\u001b[39m [#####################.....................................] \u001b8Unpacking linux-headers-4.19.0-10-common (4.19.132-1) ...\n",
      "\u001b7\u001b[24;0f\u001b[42m\u001b[30mProgress: [ 39%]\u001b[49m\u001b[39m [######################....................................] \u001b8Selecting previously unselected package linux-kbuild-4.19.\n",
      "Preparing to unpack .../11-linux-kbuild-4.19_4.19.132-1_amd64.deb ...\n",
      "\u001b7\u001b[24;0f\u001b[42m\u001b[30mProgress: [ 40%]\u001b[49m\u001b[39m [#######################...................................] \u001b8Unpacking linux-kbuild-4.19 (4.19.132-1) ...\n",
      "\u001b7\u001b[24;0f\u001b[42m\u001b[30mProgress: [ 42%]\u001b[49m\u001b[39m [########################..................................] \u001b8Selecting previously unselected package linux-headers-4.19.0-10-amd64.\n",
      "Preparing to unpack .../12-linux-headers-4.19.0-10-amd64_4.19.132-1_amd64.deb ...\n",
      "\u001b7\u001b[24;0f\u001b[42m\u001b[30mProgress: [ 44%]\u001b[49m\u001b[39m [#########################.................................] \u001b8Unpacking linux-headers-4.19.0-10-amd64 (4.19.132-1) ...\n",
      "\u001b7\u001b[24;0f\u001b[42m\u001b[30mProgress: [ 46%]\u001b[49m\u001b[39m [##########################................................] \u001b8Selecting previously unselected package linux-headers-amd64.\n",
      "Preparing to unpack .../13-linux-headers-amd64_4.19+105+deb10u5_amd64.deb ...\n",
      "\u001b7\u001b[24;0f\u001b[42m\u001b[30mProgress: [ 47%]\u001b[49m\u001b[39m [###########################...............................] \u001b8Unpacking linux-headers-amd64 (4.19+105+deb10u5) ...\n",
      "\u001b7\u001b[24;0f\u001b[42m\u001b[30mProgress: [ 49%]\u001b[49m\u001b[39m [############################..............................] \u001b8Setting up linux-compiler-gcc-8-x86 (4.19.132-1) ...\n"
     ]
    },
    {
     "name": "stdout",
     "output_type": "stream",
     "text": [
      "\u001b7\u001b[24;0f\u001b[42m\u001b[30mProgress: [ 51%]\u001b[49m\u001b[39m [#############################.............................] \u001b8\u001b7\u001b[24;0f\u001b[42m\u001b[30mProgress: [ 53%]\u001b[49m\u001b[39m [##############################............................] \u001b8Setting up aufs-tools (1:4.14+20190211-1) ...\n",
      "\u001b7\u001b[24;0f\u001b[42m\u001b[30mProgress: [ 54%]\u001b[49m\u001b[39m [###############################...........................] \u001b8\u001b7\u001b[24;0f\u001b[42m\u001b[30mProgress: [ 56%]\u001b[49m\u001b[39m [################################..........................] \u001b8Setting up linux-kbuild-4.19 (4.19.132-1) ...\n",
      "\u001b7\u001b[24;0f\u001b[42m\u001b[30mProgress: [ 58%]\u001b[49m\u001b[39m [#################################.........................] \u001b8\u001b7\u001b[24;0f\u001b[42m\u001b[30mProgress: [ 60%]\u001b[49m\u001b[39m [##################################........................] \u001b8Setting up dkms (2.6.1-4) ...\n",
      "\u001b7\u001b[24;0f\u001b[42m\u001b[30mProgress: [ 61%]\u001b[49m\u001b[39m [###################################.......................] \u001b8\u001b7\u001b[24;0f\u001b[42m\u001b[30mProgress: [ 63%]\u001b[49m\u001b[39m [####################################......................] \u001b8Setting up linux-headers-4.19.0-10-common (4.19.132-1) ...\n",
      "\u001b7\u001b[24;0f\u001b[42m\u001b[30mProgress: [ 65%]\u001b[49m\u001b[39m [#####################################.....................] \u001b8\u001b7\u001b[24;0f\u001b[42m\u001b[30mProgress: [ 67%]\u001b[49m\u001b[39m [######################################....................] \u001b8Setting up containerd.io (1.2.13-2) ...\n",
      "\u001b7\u001b[24;0f\u001b[42m\u001b[30mProgress: [ 68%]\u001b[49m\u001b[39m [#######################################...................] \u001b8Created symlink /etc/systemd/system/multi-user.target.wants/containerd.service → /lib/systemd/system/containerd.service.\n",
      "\u001b7\u001b[24;0f\u001b[42m\u001b[30mProgress: [ 70%]\u001b[49m\u001b[39m [########################################..................] \u001b8Setting up libltdl7:amd64 (2.4.6-9) ...\n",
      "\u001b7\u001b[24;0f\u001b[42m\u001b[30mProgress: [ 72%]\u001b[49m\u001b[39m [#########################################.................] \u001b8\u001b7\u001b[24;0f\u001b[42m\u001b[30mProgress: [ 74%]\u001b[49m\u001b[39m [##########################################................] \u001b8Setting up docker-ce-cli (5:19.03.12~3-0~debian-buster) ...\n",
      "\u001b7\u001b[24;0f\u001b[42m\u001b[30mProgress: [ 75%]\u001b[49m\u001b[39m [###########################################...............] \u001b8\u001b7\u001b[24;0f\u001b[42m\u001b[30mProgress: [ 77%]\u001b[49m\u001b[39m [############################################..............] \u001b8Setting up aufs-dkms (4.19+20190211-1) ...\n",
      "\u001b7\u001b[24;0f\u001b[42m\u001b[30mProgress: [ 79%]\u001b[49m\u001b[39m [#############################################.............] \u001b8Loading new aufs-4.19+20190211 DKMS files...\n",
      "Building for 4.19.0-9-amd64\n",
      "Module build for kernel 4.19.0-9-amd64 was skipped since the\n",
      "kernel headers for this kernel does not seem to be installed.\n",
      "\u001b7\u001b[24;0f\u001b[42m\u001b[30mProgress: [ 81%]\u001b[49m\u001b[39m [##############################################............] \u001b8Setting up pigz (2.4-1) ...\n",
      "\u001b7\u001b[24;0f\u001b[42m\u001b[30mProgress: [ 82%]\u001b[49m\u001b[39m [###############################################...........] \u001b8\u001b7\u001b[24;0f\u001b[42m\u001b[30mProgress: [ 84%]\u001b[49m\u001b[39m [################################################..........] \u001b8Setting up cgroupfs-mount (1.4) ...\n",
      "\u001b7\u001b[24;0f\u001b[42m\u001b[30mProgress: [ 86%]\u001b[49m\u001b[39m [#################################################.........] \u001b8\u001b7\u001b[24;0f\u001b[42m\u001b[30mProgress: [ 88%]\u001b[49m\u001b[39m [##################################################........] \u001b8Setting up linux-headers-4.19.0-10-amd64 (4.19.132-1) ...\n",
      "\u001b7\u001b[24;0f\u001b[42m\u001b[30mProgress: [ 89%]\u001b[49m\u001b[39m [###################################################.......] \u001b8\u001b7\u001b[24;0f\u001b[42m\u001b[30mProgress: [ 91%]\u001b[49m\u001b[39m [####################################################......] \u001b8Setting up docker-ce (5:19.03.12~3-0~debian-buster) ...\n",
      "\u001b7\u001b[24;0f\u001b[42m\u001b[30mProgress: [ 93%]\u001b[49m\u001b[39m [#####################################################.....] \u001b8Created symlink /etc/systemd/system/multi-user.target.wants/docker.service → /lib/systemd/system/docker.service.\n",
      "Created symlink /etc/systemd/system/sockets.target.wants/docker.socket → /lib/systemd/system/docker.socket.\n",
      "\u001b7\u001b[24;0f\u001b[42m\u001b[30mProgress: [ 95%]\u001b[49m\u001b[39m [######################################################....] \u001b8Setting up linux-headers-amd64 (4.19+105+deb10u5) ...\n",
      "\u001b7\u001b[24;0f\u001b[42m\u001b[30mProgress: [ 96%]\u001b[49m\u001b[39m [#######################################################...] \u001b8\u001b7\u001b[24;0f\u001b[42m\u001b[30mProgress: [ 98%]\u001b[49m\u001b[39m [########################################################..] \u001b8Processing triggers for systemd (241-7~deb10u4) ...\n",
      "Processing triggers for man-db (2.8.5-2) ...\n",
      "Processing triggers for libc-bin (2.28-10) ...\n",
      "\n",
      "\u001b7\u001b[0;24r\u001b8\u001b[1A\u001b[J"
     ]
    }
   ],
   "source": [
    "sudo apt install -y docker-ce docker-ce-cli containerd.io"
   ]
  },
  {
   "cell_type": "markdown",
   "metadata": {},
   "source": [
    "* La siguiente celda iniciará y habilitará el servicio."
   ]
  },
  {
   "cell_type": "code",
   "execution_count": 7,
   "metadata": {
    "scrolled": true
   },
   "outputs": [
    {
     "name": "stdout",
     "output_type": "stream",
     "text": [
      "Synchronizing state of docker.service with SysV service script with /lib/systemd/systemd-sysv-install.\n",
      "Executing: /lib/systemd/systemd-sysv-install enable docker\n"
     ]
    }
   ],
   "source": [
    "sudo systemctl enable docker\n",
    "sudo systemctl start docker"
   ]
  },
  {
   "cell_type": "markdown",
   "metadata": {},
   "source": [
    "* Las siguientes celdas verificarán que *Docker* instalado y en funcionamiento."
   ]
  },
  {
   "cell_type": "code",
   "execution_count": 8,
   "metadata": {
    "scrolled": true
   },
   "outputs": [
    {
     "name": "stdout",
     "output_type": "stream",
     "text": [
      "\u001b[0;1;32m●\u001b[0m docker.service - Docker Application Container Engine\n",
      "   Loaded: loaded (\u001b]8;;file://cloudevel/lib/systemd/system/docker.service\u0007/lib/systemd/system/docker.service\u001b]8;;\u0007; enabled; vendor preset: enabled)\n",
      "   Active: \u001b[0;1;32mactive (running)\u001b[0m since Mon 2020-08-17 13:21:58 CDT; 32s ago\n",
      "     Docs: \u001b]8;;https://docs.docker.com\u0007https://docs.docker.com\u001b]8;;\u0007\n",
      " Main PID: 5473 (dockerd)\n",
      "    Tasks: 8\n",
      "   Memory: 86.2M\n",
      "   CGroup: /system.slice/docker.service\n",
      "           └─5473 /usr/bin/dockerd -H fd:// --containerd=/run/containerd/contai…\n",
      "\n",
      "Aug 17 13:21:57 cloudevel dockerd[5473]: time=\"2020-08-17T13:21:57.50685976…mit\"\n",
      "Aug 17 13:21:57 cloudevel dockerd[5473]: time=\"2020-08-17T13:21:57.50711572…iod\"\n",
      "Aug 17 13:21:57 cloudevel dockerd[5473]: time=\"2020-08-17T13:21:57.50728310…ime\"\n",
      "Aug 17 13:21:57 cloudevel dockerd[5473]: time=\"2020-08-17T13:21:57.50762722…rt.\"\n",
      "Aug 17 13:21:57 cloudevel dockerd[5473]: time=\"2020-08-17T13:21:57.74398556…ess\"\n",
      "Aug 17 13:21:57 cloudevel dockerd[5473]: time=\"2020-08-17T13:21:57.85973678…ne.\"\n",
      "Aug 17 13:21:57 cloudevel dockerd[5473]: time=\"2020-08-17T13:21:57.98291919…3.12\n",
      "Aug 17 13:21:57 cloudevel dockerd[5473]: time=\"2020-08-17T13:21:57.98404638…ion\"\n",
      "Aug 17 13:21:58 cloudevel systemd[1]: Started Docker Application Container …ine.\n",
      "Aug 17 13:21:58 cloudevel dockerd[5473]: time=\"2020-08-17T13:21:58.03160998…ock\"\n",
      "Hint: Some lines were ellipsized, use -l to show in full.\n"
     ]
    }
   ],
   "source": [
    "sudo systemctl status docker --no-pager"
   ]
  },
  {
   "cell_type": "code",
   "execution_count": 9,
   "metadata": {},
   "outputs": [
    {
     "name": "stdout",
     "output_type": "stream",
     "text": [
      "Docker version 19.03.12, build 48a66213fe\n"
     ]
    }
   ],
   "source": [
    "sudo docker -v"
   ]
  },
  {
   "cell_type": "markdown",
   "metadata": {},
   "source": [
    "## *Docker Hub*."
   ]
  },
  {
   "cell_type": "markdown",
   "metadata": {},
   "source": [
    "*Docker* basa su funcionalidad en el uso de \"imágenes\" de contenedores creadas previamente, las cuales son accedidas desde un repositorio. Dicho repositorio es conocido como *Docker Hub* y está localizado en:\n",
    "\n",
    "https://hub.docker.com\n",
    "\n",
    "Es posible explorar la biblioteca de imágenes desde:\n",
    "\n",
    "https://hub.docker.com/explore"
   ]
  },
  {
   "cell_type": "markdown",
   "metadata": {},
   "source": [
    "## Ejecución de comandos de Docker.\n",
    "\n",
    "El comando ```docker``` permite acceder a funciones de ejecución y gestión de contendores desde una terminal con uin sintaxis como:\n",
    "\n",
    "```docker <subcomando>``` \n",
    "\n",
    "**Nota:** Es necesario contar con los permisos para ejecutar el comando."
   ]
  },
  {
   "cell_type": "markdown",
   "metadata": {},
   "source": [
    "## Ejecución de un contenedor.\n",
    "\n",
    "Para acceder y ejecutar un contenedor sólo es necesario utilizar el siguiente comando con el nombre de la imagen que se desea ejecutar.\n",
    "\n",
    "```docker run  <argumentos> <nombre> <comando>```\n",
    "\n",
    "* Docker buscará la imagen, la descargará y la ejecutará.\n",
    "* Tan pronto como el contenedor termine la ejecución, éste será terminado, pero no destruido.\n",
    "\n",
    "Los argumentos de ejecución de un contenedor permiten definir muchas características de éste, tales como el uso de recursos, conexiones y la interacción con el usuario.\n",
    "\n",
    "Referencia: https://docs.docker.com/engine/reference/commandline/run/\n",
    "\n",
    "**NOTA:** Es necesario que el usuario tenga los permisos suficientes para ejecutar el comando."
   ]
  },
  {
   "cell_type": "markdown",
   "metadata": {},
   "source": [
    "**Ejemplo:**\n",
    "\n",
    "Se ejecutará la imagen https://hub.docker.com/_/hello-world/"
   ]
  },
  {
   "cell_type": "code",
   "execution_count": null,
   "metadata": {
    "scrolled": false
   },
   "outputs": [],
   "source": [
    "sudo docker run hello-world"
   ]
  },
  {
   "cell_type": "markdown",
   "metadata": {},
   "source": [
    "### Acceso a un contenedor en ejecución mediante la CLI.\n",
    "\n",
    "Para poder acceder a un contenedor mediante un emulador de terminal se utilizan los parámetros:\n",
    "\n",
    "* ```-i```, el cual permite al usuario interactuar con un contenedor en ejecución.\n",
    "* ```-t```, el cual permite conectarse a un conetendor nediante una terminal.\n",
    "\n",
    "La sintaxis es la siguiente:\n",
    "\n",
    "```docker run -it <nombre> <entorno de shell>```\n",
    "\n",
    "El entorno de shell más comunmente utilizado es ```/bin/bash```.\n",
    "\n",
    "El acceso al contenedor siempre será como ```root```."
   ]
  },
  {
   "cell_type": "markdown",
   "metadata": {},
   "source": [
    "**Ejemplo:**\n",
    "\n",
    "Ejecute el siguiente comando desde una terminal para acceder a un contenedor de ubuntu.\n",
    "\n",
    "```\n",
    "sudo docker run -it ubuntu /bin/bash\n",
    "```\n",
    "\n",
    "Para salir del contenedor teclee ```exit```."
   ]
  },
  {
   "cell_type": "markdown",
   "metadata": {},
   "source": [
    "###  Definición de recursos."
   ]
  },
  {
   "cell_type": "markdown",
   "metadata": {},
   "source": [
    "Es posible dimensionar los recursos a los que puede acceder un contenedor mediante ciertos parámetros al utilizar ```docker run```. \n",
    "\n",
    "La lista commpleta de recursos puede ser consultada en https://docs.docker.com/config/containers/resource_constraints/"
   ]
  },
  {
   "cell_type": "markdown",
   "metadata": {},
   "source": [
    "**Ejemplo:**\n",
    "\n",
    "Los recursos más comunes que se definen para un contenedor son:\n",
    "\n",
    "* Memoria.\n",
    "* CPU.\n",
    "\n",
    "Al ejecutar el siguiente comando eu nuna terminal, se creará un contenedor basado en Ubuntu al que se le limita com el 50% del rendimiento de un núcleo de la CPU y 128MB de RAM.\n",
    "\n",
    "``` bash\n",
    "sudo docker run -it --cpus=\".5\" --memory=\"128m\" ubuntu /bin/bash\n",
    "```"
   ]
  },
  {
   "cell_type": "markdown",
   "metadata": {},
   "source": [
    "### Reenvío de puertos.\n",
    "\n",
    "Es posible reenviar los paquetes desde  un puerto del contenedor a un puerto del sistema anfitrión usando la siguiente sintaxis:\n",
    "\n",
    "```\n",
    "docker run --port <puerto del anfitrión>:<puerto del contenedor> ...\n",
    "```\n",
    "```\n",
    "docker run -p <puerto del anfitrión>:<puerto del contenedor> ...\n",
    "```"
   ]
  },
  {
   "cell_type": "markdown",
   "metadata": {},
   "source": [
    "###  Volúmenes.\n",
    "\n",
    "Es posible asignar uno o varios volúmenes a un contenedor, los cuales serán montados de forma similar a como se hace con fstab. \n",
    "\n",
    "```\n",
    "docker run -v <directorio del anfitrión>:<directorio del contenedor> ...\n",
    "```"
   ]
  },
  {
   "cell_type": "markdown",
   "metadata": {},
   "source": [
    "### Ejecución de un contendor en trasfondo.\n",
    "\n",
    "El parámetro ```-d``` o ```--detach``` ejecutará un contenedor desligado a una terminal."
   ]
  },
  {
   "cell_type": "markdown",
   "metadata": {},
   "source": [
    "### Asignación de un nombre a un contenedor.\n",
    "\n",
    "Para asignarle un nombre a un contenedor se su uitliza el parámetro ```--name``` seguido del nombre que se le desea asignar. \n",
    "\n",
    "```docker run --name <nombre del contendor> <argumentos> <nombre de la imagen> <comando>```"
   ]
  },
  {
   "cell_type": "markdown",
   "metadata": {},
   "source": [
    "## Recuperación de un contenedor ejecutándose en trasfondo.\n",
    "\n",
    "Para retomar a un contendor que se está ejecutando en trasfondo se utiliza el comando:\n",
    "\n",
    "```docker attach <identificador>```\n",
    "\n",
    "Referencia: https://docs.docker.com/engine/reference/commandline/attach/"
   ]
  },
  {
   "cell_type": "markdown",
   "metadata": {},
   "source": [
    "**Ejemplo:**\n",
    "\n",
    "La siguiente celda ejecutará un contenedor de Ubuntu utilizando los parámetros ```-dit``` y se le asignará el nombre ```Prueba```."
   ]
  },
  {
   "cell_type": "code",
   "execution_count": null,
   "metadata": {
    "scrolled": false
   },
   "outputs": [],
   "source": [
    "sudo docker run -idt --name Prueba ubuntu /bin/bash"
   ]
  },
  {
   "cell_type": "code",
   "execution_count": null,
   "metadata": {
    "scrolled": true
   },
   "outputs": [],
   "source": [
    "sudo docker ps"
   ]
  },
  {
   "cell_type": "markdown",
   "metadata": {},
   "source": [
    "Para acceder a este contenedor utilice el siguiente comando desde una terminal:\n",
    "\n",
    "```sudo docker attach Prueba``` \n",
    "\n",
    "Para salir del contenedor use ```exit```."
   ]
  },
  {
   "cell_type": "markdown",
   "metadata": {},
   "source": [
    "## Consulta sobre los contenedores en un sistema.\n",
    "\n",
    "Es posible hacer consultas sobre el estado de los contenedores del sistema local mediante:\n",
    "\n",
    "```docker ps```\n",
    "\n",
    "Referencia: https://docs.docker.com/engine/reference/commandline/ps/"
   ]
  },
  {
   "cell_type": "markdown",
   "metadata": {},
   "source": [
    "Al usar ```docker ps``` sin argumentos, el comando nos regresará el listado de contenedores en ejecución.\n",
    "\n",
    "Los nombres de los contenedores son asignados automáticamente por Docker."
   ]
  },
  {
   "cell_type": "markdown",
   "metadata": {},
   "source": [
    "**Ejemplo:** \n",
    "\n",
    "La siguiente celda desplegará el listado de contenedores en ejecución. \n",
    "Si no ha cerrado el contenedor del ejemplo previo, este será enlistado."
   ]
  },
  {
   "cell_type": "code",
   "execution_count": null,
   "metadata": {
    "scrolled": true
   },
   "outputs": [],
   "source": [
    "sudo docker ps"
   ]
  },
  {
   "cell_type": "markdown",
   "metadata": {},
   "source": [
    "Al usar ```docker ps -a ``` el comando nos regresará el listado de contenedores que hayan sido ejecutados."
   ]
  },
  {
   "cell_type": "markdown",
   "metadata": {},
   "source": [
    "**Ejemplo:**\n",
    "\n",
    "La siguiente celda desplegará el listado de todos los conrtenedores que se hayan ejecutado."
   ]
  },
  {
   "cell_type": "code",
   "execution_count": null,
   "metadata": {
    "scrolled": true
   },
   "outputs": [],
   "source": [
    "sudo docker ps -a"
   ]
  },
  {
   "cell_type": "markdown",
   "metadata": {},
   "source": [
    " ## Detención de un contenedor en ejecución."
   ]
  },
  {
   "cell_type": "markdown",
   "metadata": {},
   "source": [
    "Para detener un contenedor utilice el comando:\n",
    "\n",
    "```docker stop <identificador>```\n",
    "\n",
    "Referencia: https://docs.docker.com/engine/reference/commandline/stop/"
   ]
  },
  {
   "cell_type": "markdown",
   "metadata": {},
   "source": [
    "**Ejemplo:**\n",
    "\n",
    "Se detendrá el contenedor llamado ```Prueba``` el cual fue ejecutado previamante."
   ]
  },
  {
   "cell_type": "code",
   "execution_count": null,
   "metadata": {
    "scrolled": true
   },
   "outputs": [],
   "source": [
    "sudo docker stop Prueba"
   ]
  },
  {
   "cell_type": "markdown",
   "metadata": {},
   "source": [
    "## Eliminación de un contenedor.\n",
    "\n",
    "Para eliminar uno o varios contenedor existentes se puede utilizar el comando:\n",
    "\n",
    "```docker rm <identificadores>```\n",
    "En donde el identificador puede ser el número de ID o el nombre del contenedor.\n",
    "\n",
    "Referencia: https://docs.docker.com/engine/reference/commandline/rm/"
   ]
  },
  {
   "cell_type": "markdown",
   "metadata": {},
   "source": [
    "**Ejemplo:**\n",
    "\n",
    "Se eliminará el contenedor llamado ```Prueba```."
   ]
  },
  {
   "cell_type": "code",
   "execution_count": null,
   "metadata": {
    "scrolled": true
   },
   "outputs": [],
   "source": [
    "sudo docker rm Prueba"
   ]
  },
  {
   "cell_type": "code",
   "execution_count": null,
   "metadata": {
    "scrolled": true
   },
   "outputs": [],
   "source": [
    "sudo docker ps -a"
   ]
  },
  {
   "cell_type": "markdown",
   "metadata": {},
   "source": [
    "## Despliegue de la información de docker.\n",
    "\n",
    "Para desplegar la información del servicio de docker que corre en el sistema local se utiliza el comando:\n",
    "\n",
    "```docker info```"
   ]
  },
  {
   "cell_type": "markdown",
   "metadata": {},
   "source": [
    "**Ejemplo:**"
   ]
  },
  {
   "cell_type": "code",
   "execution_count": null,
   "metadata": {
    "scrolled": true
   },
   "outputs": [],
   "source": [
    "sudo docker info"
   ]
  },
  {
   "cell_type": "markdown",
   "metadata": {},
   "source": [
    "<p style=\"text-align: center\"><a rel=\"license\" href=\"http://creativecommons.org/licenses/by/4.0/\"><img alt=\"Licencia Creative Commons\" style=\"border-width:0\" src=\"https://i.creativecommons.org/l/by/4.0/80x15.png\" /></a><br />Esta obra está bajo una <a rel=\"license\" href=\"http://creativecommons.org/licenses/by/4.0/\">Licencia Creative Commons Atribución 4.0 Internacional</a>.</p>\n",
    "<p style=\"text-align: center\">&copy; José Luis Chiquete Valdivieso. 2020.</p>"
   ]
  }
 ],
 "metadata": {
  "kernelspec": {
   "display_name": "Bash",
   "language": "bash",
   "name": "bash"
  },
  "language_info": {
   "codemirror_mode": "shell",
   "file_extension": ".sh",
   "mimetype": "text/x-sh",
   "name": "bash"
  }
 },
 "nbformat": 4,
 "nbformat_minor": 2
}
