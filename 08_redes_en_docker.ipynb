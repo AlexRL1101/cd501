{
 "cells": [
  {
   "cell_type": "markdown",
   "metadata": {},
   "source": [
    "[![cloudevel](Imagenes/cloudevel.png)](https://cloudevel.com)"
   ]
  },
  {
   "cell_type": "markdown",
   "metadata": {},
   "source": [
    "# Redes en *Docker*."
   ]
  },
  {
   "cell_type": "markdown",
   "metadata": {},
   "source": [
    "Uno o varios contendores de Docker pueden formar parte de una o varias redes de comunicaciones de datos, las cuales permiten crear clusters o enjambres de contendores que intercatúan entre sí, de forma autónoma a otras redes.\n",
    "\n",
    "La documentación básica de redes en *Docker* puede ser consultadas en:\n",
    "\n",
    "https://docs.docker.com/network/"
   ]
  },
  {
   "cell_type": "markdown",
   "metadata": {},
   "source": [
    "## Controladores de redes.\n",
    "\n",
    "Con la finalidad de que los contenedores puedan acceder a diversas modalidaes de redes, se han desarrollado diversos controladores (drivers).\n",
    "\n",
    "La referencia a dichos controladores puede ser consultada en:\n",
    "\n",
    "https://docs.docker.com/network/#network-drivers"
   ]
  },
  {
   "cell_type": "markdown",
   "metadata": {},
   "source": [
    "## El comando ```docker network```.\n",
    "\n",
    "*Docker* tiene la capacida de definir y gestionar directorios que pueden ser aprovechados por uno o más contenedores. A cada directorio se le conoce como \"volumen\" y cada volumen se localiza dentro del directorio de volúmenes de *Docker*, generalmente en ```/var/lib/docker/volumes/```.\n",
    "\n",
    "Este comando permite realizar operaciones de gestión de volúmenes, los cuales pueden ser aprovechados por uno o por varios contenedores.\n",
    "\n",
    "``` \n",
    "docker network <subcomandos>\n",
    "```\n",
    "\n",
    "La documentación de ```docker network``` está disponible en:\n",
    "\n",
    "https://docs.docker.com/engine/reference/commandline/network/"
   ]
  },
  {
   "cell_type": "markdown",
   "metadata": {},
   "source": [
    "### El comando ```docker network create```.\n",
    "\n",
    "Este comando permite definir y nombrar una red, el cual puede ser utilizada por uno o varios contenedores.\n",
    "\n",
    "```\n",
    "docker network create <opciones> <nomnre>\n",
    "```\n",
    "\n",
    "Las opciones para definir redes en *Docker* son muy variadas y pueden ser cnsultadas en:\n",
    "\n",
    "https://docs.docker.com/engine/reference/commandline/network_create/#options\n",
    "\n",
    "La documentación de este comando está disponible en:\n",
    "\n",
    "https://docs.docker.com/engine/reference/commandline/network_create/"
   ]
  },
  {
   "cell_type": "markdown",
   "metadata": {},
   "source": [
    "**Ejemplo:**"
   ]
  },
  {
   "cell_type": "code",
   "execution_count": null,
   "metadata": {
    "scrolled": true
   },
   "outputs": [],
   "source": [
    "sudo docker network create --driver=bridge --subnet=192.168.0.0/16 mi_red"
   ]
  },
  {
   "cell_type": "markdown",
   "metadata": {},
   "source": [
    "### El comando ```docker network ls```.\n",
    "\n",
    "Este comando permite desplegar el listado de redes existenes.\n",
    "\n",
    "```\n",
    "docker network ls\n",
    "```\n",
    "\n",
    "La documentación de este comando está disponible en:\n",
    "\n",
    "https://docs.docker.com/engine/reference/commandline/network_ls"
   ]
  },
  {
   "cell_type": "markdown",
   "metadata": {},
   "source": [
    "**Ejemplo:**"
   ]
  },
  {
   "cell_type": "code",
   "execution_count": null,
   "metadata": {},
   "outputs": [],
   "source": [
    "sudo docker network ls"
   ]
  },
  {
   "cell_type": "markdown",
   "metadata": {},
   "source": [
    "### El comando ```docker network inspect```.\n",
    "\n",
    "Este comando permite acceder a la información de una red.\n",
    "\n",
    "```\n",
    "docker network inspect <red>\n",
    "```\n",
    "\n",
    "La documentación de este comando está disponible en:\n",
    "\n",
    "https://docs.docker.com/engine/reference/commandline/network_inspect"
   ]
  },
  {
   "cell_type": "markdown",
   "metadata": {},
   "source": [
    "**Ejemplo:**"
   ]
  },
  {
   "cell_type": "code",
   "execution_count": null,
   "metadata": {
    "scrolled": true
   },
   "outputs": [],
   "source": [
    "sudo docker network inspect mi_red"
   ]
  },
  {
   "cell_type": "markdown",
   "metadata": {},
   "source": [
    "### El comando ```docker network connect```.\n",
    "\n",
    "Este comando permite conectar una red a un contenedor.\n",
    "\n",
    "```\n",
    "docker network connect <opciones> <red> <contenedor>\n",
    "```\n",
    "\n",
    "La documentación de este comando está disponible en:\n",
    "\n",
    "https://docs.docker.com/engine/reference/commandline/network_connect"
   ]
  },
  {
   "cell_type": "markdown",
   "metadata": {},
   "source": [
    "**Ejemplo:**"
   ]
  },
  {
   "cell_type": "code",
   "execution_count": null,
   "metadata": {},
   "outputs": [],
   "source": [
    "sudo docker run -dit --name enredado ubuntu "
   ]
  },
  {
   "cell_type": "code",
   "execution_count": null,
   "metadata": {
    "scrolled": true
   },
   "outputs": [],
   "source": [
    "sudo docker network connect mi_red enredado"
   ]
  },
  {
   "cell_type": "code",
   "execution_count": null,
   "metadata": {},
   "outputs": [],
   "source": [
    "sudo docker inspect enredado"
   ]
  },
  {
   "cell_type": "markdown",
   "metadata": {},
   "source": [
    "### El comando ```docker network disconnect```.\n",
    "\n",
    "Este comando permite desconectar una red a un contenedor.\n",
    "\n",
    "```\n",
    "docker network disconnect <opciones> <red> <contenedor>\n",
    "```\n",
    "\n",
    "La documentación de este comando está disponible en:\n",
    "\n",
    "https://docs.docker.com/engine/reference/commandline/network_disconnect"
   ]
  },
  {
   "cell_type": "markdown",
   "metadata": {},
   "source": [
    "**Ejemplo:**"
   ]
  },
  {
   "cell_type": "code",
   "execution_count": null,
   "metadata": {
    "scrolled": true
   },
   "outputs": [],
   "source": [
    "sudo docker network disconnect mi_red enredado"
   ]
  },
  {
   "cell_type": "code",
   "execution_count": null,
   "metadata": {},
   "outputs": [],
   "source": [
    "sudo docker inspect enredado"
   ]
  },
  {
   "cell_type": "markdown",
   "metadata": {},
   "source": [
    "### El comando ```docker network rm```.\n",
    "\n",
    "Este comando permite eliminar una red existenes.\n",
    "\n",
    "```\n",
    "docker network rm <dentificador>\n",
    "```\n",
    "\n",
    "La documentación de este comando está disponible en:\n",
    "\n",
    "https://docs.docker.com/engine/reference/commandline/network_rm"
   ]
  },
  {
   "cell_type": "markdown",
   "metadata": {},
   "source": [
    "**Ejemplo:**"
   ]
  },
  {
   "cell_type": "code",
   "execution_count": null,
   "metadata": {},
   "outputs": [],
   "source": [
    "sudo docker network rm mi_red"
   ]
  },
  {
   "cell_type": "code",
   "execution_count": null,
   "metadata": {
    "scrolled": true
   },
   "outputs": [],
   "source": [
    "sudo docker network ls"
   ]
  },
  {
   "cell_type": "markdown",
   "metadata": {},
   "source": [
    "### El comando ```docker network prune```.\n",
    "\n",
    "Este comando permite eliminar aquellos volúmenes que no estén en uso.\n",
    "\n",
    "```\n",
    "docker network prune\n",
    "```\n",
    "\n",
    "La documentación de este comando está disponible en:\n",
    "\n",
    "https://docs.docker.com/engine/reference/commandline/network_prune"
   ]
  },
  {
   "cell_type": "markdown",
   "metadata": {},
   "source": [
    "**Ejemplo:**"
   ]
  },
  {
   "cell_type": "markdown",
   "metadata": {},
   "source": [
    "Desde una terminal ejecute los comando:\n",
    "\n",
    "```\n",
    "sudo docker network prune\n",
    "sudo docker network ls\n",
    "```"
   ]
  },
  {
   "cell_type": "markdown",
   "metadata": {},
   "source": [
    "<p style=\"text-align: center\"><a rel=\"license\" href=\"http://creativecommons.org/licenses/by/4.0/\"><img alt=\"Licencia Creative Commons\" style=\"border-width:0\" src=\"https://i.creativecommons.org/l/by/4.0/80x15.png\" /></a><br />Esta obra está bajo una <a rel=\"license\" href=\"http://creativecommons.org/licenses/by/4.0/\">Licencia Creative Commons Atribución 4.0 Internacional</a>.</p>\n",
    "<p style=\"text-align: center\">&copy; José Luis Chiquete Valdivieso. 2020.</p>"
   ]
  }
 ],
 "metadata": {
  "kernelspec": {
   "display_name": "Bash",
   "language": "bash",
   "name": "bash"
  },
  "language_info": {
   "codemirror_mode": "shell",
   "file_extension": ".sh",
   "mimetype": "text/x-sh",
   "name": "bash"
  }
 },
 "nbformat": 4,
 "nbformat_minor": 2
}
