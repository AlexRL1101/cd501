{
 "cells": [
  {
   "cell_type": "markdown",
   "metadata": {},
   "source": [
    "![cloudevel](imagenes/cloudevel-fondo-twitter.png)"
   ]
  },
  {
   "cell_type": "markdown",
   "metadata": {},
   "source": [
    "## Gestión y orquestación de contenedores.\n",
    "\n",
    "Los contenedores como Docker permiten diseñar sistemas conformados por componentes autónomos, ligeros y modulares.\n",
    "\n",
    "Sin embargo, la gestión y orquestación de diversos contenedores en un sistema requiere de herramientas especializadas.\n",
    "\n",
    "Para lograr tal propósito, la empresa Docker Inc. creó la herramienta de enjambre (swarm) conocida como [Docker Swarm](https://docs.docker.com/engine/swarm/). \n",
    "\n",
    "De forma paralela, Google liberó el proyecto [Kubernetes](https://kubernetes.io/) el cual puede gestionar y orquestar clusters de contenedores, incluso contenedores distintos de Docker.\n",
    "\n",
    "El proyecto Kubernetes ha sido adoptado de forma extendida por diversos proveedores de servicios como AWS, Azure y el propio Google, por lo que ha sido reconocida como la herramienta más recomendada para gestión y orquestación de contenedores."
   ]
  },
  {
   "cell_type": "markdown",
   "metadata": {},
   "source": [
    "## Objetos de Kubernetes"
   ]
  },
  {
   "cell_type": "markdown",
   "metadata": {},
   "source": [
    "### Pods"
   ]
  },
  {
   "cell_type": "markdown",
   "metadata": {},
   "source": [
    "## Creando un cluster local con minikube.\n",
    "\n",
    "\n",
    "El proyecto kubernetes ha liberado también la herramienta llamada minikube, el cual puede ser consultado desde https://github.com/kubernetes/minikube.\n",
    "\n",
    "Dicho proyecto consiste en una VM basada en Virtualbox, la cual puede desplegar un cluster de un sólo nodo. Lo suficiente como para experimentar con Kubernetes. \n",
    "\n"
   ]
  },
  {
   "cell_type": "code",
   "execution_count": 1,
   "metadata": {},
   "outputs": [],
   "source": [
    "sudo cp src/kubernetes.repo /etc/yum.repos.d/"
   ]
  },
  {
   "cell_type": "code",
   "execution_count": 2,
   "metadata": {},
   "outputs": [
    {
     "name": "stdout",
     "output_type": "stream",
     "text": [
      "Complementos cargados:fastestmirror\n",
      "Loading mirror speeds from cached hostfile\n",
      "epel/x86_64/metalink                                     |  16 kB     00:00     \n",
      " * base: mirror.us-midwest-1.nexcess.net\n",
      " * epel: mirror.compevo.com\n",
      " * extras: centos.mirror.lstn.net\n",
      " * updates: repos-tx.psychz.net\n",
      "base                                                     | 3.6 kB     00:00     \n",
      "docker-ce-stable                                         | 3.5 kB     00:00     \n",
      "epel                                                     | 4.7 kB     00:00     \n",
      "extras                                                   | 3.4 kB     00:00     \n",
      "kubernetes/signature                                     |  454 B     00:00     \n",
      "Obteniendo clave desde https://packages.cloud.google.com/yum/doc/yum-key.gpg\n",
      "Importando llave GPG 0xA7317B0F:\n",
      " Usuarioid  : \"Google Cloud Packages Automatic Signing Key <gc-team@google.com>\"\n",
      " Huella       : d0bc 747f d8ca f711 7500 d6fa 3746 c208 a731 7b0f\n",
      " Desde      : https://packages.cloud.google.com/yum/doc/yum-key.gpg\n",
      "Obteniendo clave desde https://packages.cloud.google.com/yum/doc/rpm-package-key.gpg\n",
      "kubernetes/signature                                     | 1.4 kB     00:00 !!! \n",
      "updates                                                  | 3.4 kB     00:00     \n",
      "(1/4): epel/x86_64/updateinfo                              | 952 kB   00:00     \n",
      "(2/4): kubernetes/primary                                  |  42 kB   00:00     \n",
      "(3/4): updates/7/x86_64/primary_db                         | 1.3 MB   00:00     \n",
      "(4/4): epel/x86_64/primary_db                              | 6.6 MB   00:01     \n",
      "kubernetes                                                              305/305\n",
      "Resolviendo dependencias\n",
      "--> Ejecutando prueba de transacción\n",
      "---> Paquete systemd.x86_64 0:219-62.el7 debe ser actualizado\n",
      "---> Paquete systemd.x86_64 0:219-62.el7_6.2 debe ser una actualización\n",
      "---> Paquete systemd-libs.x86_64 0:219-62.el7 debe ser actualizado\n",
      "---> Paquete systemd-libs.x86_64 0:219-62.el7_6.2 debe ser una actualización\n",
      "---> Paquete systemd-sysv.x86_64 0:219-62.el7 debe ser actualizado\n",
      "---> Paquete systemd-sysv.x86_64 0:219-62.el7_6.2 debe ser una actualización\n",
      "--> Resolución de dependencias finalizada\n",
      "\n",
      "Dependencias resueltas\n",
      "\n",
      "================================================================================\n",
      " Package             Arquitectura  Versión                 Repositorio    Tamaño\n",
      "================================================================================\n",
      "Actualizando:\n",
      " systemd             x86_64        219-62.el7_6.2          updates        5.1 M\n",
      " systemd-libs        x86_64        219-62.el7_6.2          updates        406 k\n",
      " systemd-sysv        x86_64        219-62.el7_6.2          updates         83 k\n",
      "\n",
      "Resumen de la transacción\n",
      "================================================================================\n",
      "Actualizar  3 Paquetes\n",
      "\n",
      "Tamaño total de la descarga: 5.5 M\n",
      "Downloading packages:\n",
      "updates/7/x86_64/prestodelta                               | 190 kB   00:01     \n",
      "Delta RPMs reduced 5.4 M of updates to 1.8 M (66% saved)\n",
      "(1/3): systemd-sysv-219-62.el7_6.2.x86_64.rpm              |  83 kB   00:00     \n",
      "(2/3): systemd-libs-219-62.el7_219-62.el7_6.2.x86_64.drpm  | 121 kB   00:00     \n",
      "(3/3): systemd-219-62.el7_219-62.el7_6.2.x86_64.drpm       | 1.7 MB   00:01     \n",
      "Finishing delta rebuilds of 1 package(s) (5.1 M)\n",
      "--------------------------------------------------------------------------------\n",
      "Total                                              370 kB/s | 1.9 MB  00:05     \n",
      "Running transaction check\n",
      "Running transaction test\n",
      "Transaction test succeeded\n",
      "Running transaction\n",
      "  Actualizando  : systemd-libs-219-62.el7_6.2.x86_64                        1/6 \n",
      "  Actualizando  : systemd-219-62.el7_6.2.x86_64                             2/6 \n",
      "  Actualizando  : systemd-sysv-219-62.el7_6.2.x86_64                        3/6 \n",
      "  Limpieza      : systemd-sysv-219-62.el7.x86_64                            4/6 \n",
      "  Limpieza      : systemd-219-62.el7.x86_64                                 5/6 \n",
      "  Limpieza      : systemd-libs-219-62.el7.x86_64                            6/6 \n",
      "  Comprobando   : systemd-sysv-219-62.el7_6.2.x86_64                        1/6 \n",
      "  Comprobando   : systemd-libs-219-62.el7_6.2.x86_64                        2/6 \n",
      "  Comprobando   : systemd-219-62.el7_6.2.x86_64                             3/6 \n",
      "  Comprobando   : systemd-libs-219-62.el7.x86_64                            4/6 \n",
      "  Comprobando   : systemd-219-62.el7.x86_64                                 5/6 \n",
      "  Comprobando   : systemd-sysv-219-62.el7.x86_64                            6/6 \n",
      "\n",
      "Actualizado:\n",
      "  systemd.x86_64 0:219-62.el7_6.2        systemd-libs.x86_64 0:219-62.el7_6.2  \n",
      "  systemd-sysv.x86_64 0:219-62.el7_6.2  \n",
      "\n",
      "¡Listo!\n"
     ]
    }
   ],
   "source": [
    "sudo yum update -y"
   ]
  },
  {
   "cell_type": "code",
   "execution_count": 3,
   "metadata": {},
   "outputs": [
    {
     "name": "stdout",
     "output_type": "stream",
     "text": [
      "Complementos cargados:fastestmirror\n",
      "Loading mirror speeds from cached hostfile\n",
      " * base: yum.tamu.edu\n",
      " * epel: mirror.compevo.com\n",
      " * extras: mirror.compevo.com\n",
      " * updates: mirror.den1.denvercolo.net\n",
      "Resolviendo dependencias\n",
      "--> Ejecutando prueba de transacción\n",
      "---> Paquete kubectl.x86_64 0:1.13.2-0 debe ser instalado\n",
      "--> Resolución de dependencias finalizada\n",
      "\n",
      "Dependencias resueltas\n",
      "\n",
      "================================================================================\n",
      " Package          Arquitectura    Versión             Repositorio         Tamaño\n",
      "================================================================================\n",
      "Instalando:\n",
      " kubectl          x86_64          1.13.2-0            kubernetes          8.5 M\n",
      "\n",
      "Resumen de la transacción\n",
      "================================================================================\n",
      "Instalar  1 Paquete\n",
      "\n",
      "Tamaño total de la descarga: 8.5 M\n",
      "Tamaño instalado: 37 M\n",
      "Downloading packages:\n",
      "advertencia:/var/cache/yum/x86_64/7/kubernetes/packages/5ed19f5427225e4d0afcc4b2387b87e0a6b85fb57e31904d80e9f638a0e66837-kubectl-1.13.2-0.x86_64.rpm: EncabezadoV4 RSA/SHA512 Signature, ID de clave 3e1ba8d5: NOKEY\n",
      "No se ha instalado la llave pública de 5ed19f5427225e4d0afcc4b2387b87e0a6b85fb57e31904d80e9f638a0e66837-kubectl-1.13.2-0.x86_64.rpm \n",
      "5ed19f5427225e4d0afcc4b2387b87e0a6b85fb57e31904d80e9f638a0 | 8.5 MB   00:01     \n",
      "Obteniendo clave desde https://packages.cloud.google.com/yum/doc/yum-key.gpg\n",
      "Importando llave GPG 0xA7317B0F:\n",
      " Usuarioid  : \"Google Cloud Packages Automatic Signing Key <gc-team@google.com>\"\n",
      " Huella       : d0bc 747f d8ca f711 7500 d6fa 3746 c208 a731 7b0f\n",
      " Desde      : https://packages.cloud.google.com/yum/doc/yum-key.gpg\n",
      "Obteniendo clave desde https://packages.cloud.google.com/yum/doc/rpm-package-key.gpg\n",
      "Importando llave GPG 0x3E1BA8D5:\n",
      " Usuarioid  : \"Google Cloud Packages RPM Signing Key <gc-team@google.com>\"\n",
      " Huella       : 3749 e1ba 95a8 6ce0 5454 6ed2 f09c 394c 3e1b a8d5\n",
      " Desde      : https://packages.cloud.google.com/yum/doc/rpm-package-key.gpg\n",
      "Running transaction check\n",
      "Running transaction test\n",
      "Transaction test succeeded\n",
      "Running transaction\n",
      "  Instalando    : kubectl-1.13.2-0.x86_64                                   1/1 \n",
      "  Comprobando   : kubectl-1.13.2-0.x86_64                                   1/1 \n",
      "\n",
      "Instalado:\n",
      "  kubectl.x86_64 0:1.13.2-0                                                     \n",
      "\n",
      "¡Listo!\n"
     ]
    }
   ],
   "source": [
    "sudo yum install kubectl -y"
   ]
  },
  {
   "cell_type": "code",
   "execution_count": 4,
   "metadata": {
    "scrolled": true
   },
   "outputs": [
    {
     "name": "stdout",
     "output_type": "stream",
     "text": [
      "Client Version: version.Info{Major:\"1\", Minor:\"13\", GitVersion:\"v1.13.2\", GitCommit:\"cff46ab41ff0bb44d8584413b598ad8360ec1def\", GitTreeState:\"clean\", BuildDate:\"2019-01-10T23:35:51Z\", GoVersion:\"go1.11.4\", Compiler:\"gc\", Platform:\"linux/amd64\"}\n",
      "The connection to the server localhost:8080 was refused - did you specify the right host or port?\n"
     ]
    },
    {
     "ename": "",
     "evalue": "1",
     "output_type": "error",
     "traceback": []
    }
   ],
   "source": [
    "kubectl version"
   ]
  },
  {
   "cell_type": "code",
   "execution_count": null,
   "metadata": {},
   "outputs": [],
   "source": []
  },
  {
   "cell_type": "code",
   "execution_count": null,
   "metadata": {},
   "outputs": [],
   "source": []
  },
  {
   "cell_type": "code",
   "execution_count": null,
   "metadata": {},
   "outputs": [],
   "source": []
  },
  {
   "cell_type": "code",
   "execution_count": null,
   "metadata": {},
   "outputs": [],
   "source": []
  },
  {
   "cell_type": "code",
   "execution_count": null,
   "metadata": {},
   "outputs": [],
   "source": [
    "sudo kubectl create -f https://raw.githubusercontent.com/kubernetes/dashboard/master/src/deploy/recommended/kubernetes-dashboard.yaml"
   ]
  },
  {
   "cell_type": "markdown",
   "metadata": {},
   "source": [
    "<p style=\"text-align: center\"><a rel=\"license\" href=\"http://creativecommons.org/licenses/by/4.0/\"><img alt=\"Licencia Creative Commons\" style=\"border-width:0\" src=\"https://i.creativecommons.org/l/by/4.0/80x15.png\" /></a><br />Esta obra está bajo una <a rel=\"license\" href=\"http://creativecommons.org/licenses/by/4.0/\">Licencia Creative Commons Atribución 4.0 Internacional</a>.</p>\n",
    "<p style=\"text-align: center\">&copy; José Luis Chiquete Valdivieso. 2018.</p>"
   ]
  }
 ],
 "metadata": {
  "kernelspec": {
   "display_name": "Bash",
   "language": "bash",
   "name": "bash"
  },
  "language_info": {
   "codemirror_mode": "shell",
   "file_extension": ".sh",
   "mimetype": "text/x-sh",
   "name": "bash"
  }
 },
 "nbformat": 4,
 "nbformat_minor": 2
}
