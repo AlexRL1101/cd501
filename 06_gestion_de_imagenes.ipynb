{
 "cells": [
  {
   "cell_type": "markdown",
   "metadata": {},
   "source": [
    "[![cloudevel](img/cloudevel.png)](https://cloudevel.com)"
   ]
  },
  {
   "cell_type": "markdown",
   "metadata": {},
   "source": [
    "# Gestión de imágenes."
   ]
  },
  {
   "cell_type": "markdown",
   "metadata": {},
   "source": [
    "El concepto de \"contenedor\" implica que éstos pueden ser creados con el menor esfuerzo a partir de imágenes disponibles en repositorios locales y en línea. "
   ]
  },
  {
   "cell_type": "markdown",
   "metadata": {},
   "source": [
    "**ADVERTENCIA:**\n",
    "\n",
    "Se da por sentado de que las celdas de los capítulos previos fueron ejecutadas y que existen imágenes cargadas en el sistema."
   ]
  },
  {
   "cell_type": "markdown",
   "metadata": {},
   "source": [
    "## Los *registry* y *Docker Hub*.\n",
    "\n",
    "Una de las funcionalidades más relevantes de Docker es la de poder acceder a determinados repositorios en línea y traer imágenes o *Dockerfiles* para crear contenedores de forma local. A estos concentradores de repositorios se les conoce como *registry*."
   ]
  },
  {
   "cell_type": "markdown",
   "metadata": {},
   "source": [
    "### *Docker Hub*.\n",
    "\n",
    "El *registry* al que Docker accede de forma predeterminada es *Docker Hub*.\n",
    "\n",
    "*Docker Hub* cuenta con un amplio catálogo de repositorios públicos y permite a cualquier persona darse de alta y crear repositorios propios tanto públicos como privados dependiendo del plan de suscripción. El plan gratuito sólo permite crear repositorios públicos.\n",
    "\n",
    "\n",
    "*Docker Hub* se encuentra en https://hub.docker.com/"
   ]
  },
  {
   "cell_type": "markdown",
   "metadata": {},
   "source": [
    "Cada vez que se utiliza ```docker run``` el daemon busca la imagen a la que se hace referencia en el sistema local y en caso de no encontrarla, la busca en Docker Hub."
   ]
  },
  {
   "cell_type": "markdown",
   "metadata": {},
   "source": [
    "### Identificación de una imagen o un *Dockerfile* en un *registry* mediante etiquetas.\n",
    "\n",
    "Cada repositorio de un *registry* tiene un nombre único y a su vez cada imagen dentro del repositorio tienen un nombre y una etiqueta o *tag*.\n",
    "\n",
    "El *tag* que se busca y asigna por defecto es ```latest```.\n",
    "\n",
    "Las imágenes de docker pueden ser identificadas en un *registry* usando la siguiente estructura:\n",
    "\n",
    "```\n",
    "<nombre del repositorio>/<nombre>:<tag>\n",
    "```\n",
    "\n",
    "En el caso de acceder a *Docker Hub* sólo es necesario indicar el *tag*. En caso contrario es necesario indicar la *URL* del servidor del *registry*.\n",
    "\n",
    "```\n",
    "<URL>/<nombre del repositorio>/<nombre>:<tag>\n",
    "```"
   ]
  },
  {
   "cell_type": "markdown",
   "metadata": {},
   "source": [
    "**Ejemplo:**\n",
    "\n",
    "* El repositorio oficial de *CentOS* es https://hub.docker.com/_/centos y en este repositorio se encuentran varios *Dockerfiles* de diversas versiones de CentOS.\n",
    "* La estructura que identifica al *Dockerfile* para construir una imagen de *CentOS 6.10* es: ```centos:6.10```"
   ]
  },
  {
   "cell_type": "markdown",
   "metadata": {},
   "source": [
    "## El comando ```docker search```.\n",
    "\n",
    "El comando ```docker search``` permite realizar una búsqueda de imágenes en los repositorios de *Docker Hub* a partir de un término.\n",
    "\n",
    "```\n",
    "docker search <argumentos> <termino>\n",
    "```\n",
    "\n",
    "Referencia: https://docs.docker.com/engine/reference/commandline/search/"
   ]
  },
  {
   "cell_type": "markdown",
   "metadata": {},
   "source": [
    "**Ejemplo:** \n",
    "\n",
    "Se realizará una búsqueda de todas las imágines y Dockerfiles que coincidan con el término *cloudevel*."
   ]
  },
  {
   "cell_type": "code",
   "execution_count": null,
   "metadata": {
    "scrolled": true
   },
   "outputs": [],
   "source": [
    "!docker search cloudevel"
   ]
  },
  {
   "cell_type": "markdown",
   "metadata": {},
   "source": [
    "**ADVERTENCIA:** Existe una enorme cantidad de recursos disponibles en *Docker Hub*, pero no todos estos recursos son seguros y sólo una pequeña parte de estos ha sido validado por Docker o por los fabricantes. Se recomienda utilizar únicamente recursos oficiales o de plena confianza."
   ]
  },
  {
   "cell_type": "markdown",
   "metadata": {},
   "source": [
    "## El comando ```docker login```.\n",
    "\n",
    "Es muy importante que los *registry* cuenten con métodos de autenticación que garanticen la seguridad de los usuarios, por lo que para aceder a *Docker Hub* y a *registries* que hayan implementado dichos métodos es necesario presentar las credenciales adecuadas.\n",
    "\n",
    "El comando ```docker login``` permite la autenticación de un usuario a un *registry*.\n",
    "\n",
    "```docker login <argumentos>```\n",
    "\n",
    "Hay muchas formas de autenticarse mediante ```docker login``` y se recomienda consultar la siguiente referncia:\n",
    "\n",
    "https://docs.docker.com/engine/reference/commandline/login/\n",
    "\n",
    "En caso de que el registro sea exitoso, se creará una sesión en el equipo local que permitiría interacrtuar con el *registry*."
   ]
  },
  {
   "cell_type": "markdown",
   "metadata": {},
   "source": [
    "**Ejemplo:**\n",
    "\n",
    "* La siguiente celda permitirá acceder a un usuario que ya ha sido registrado en *Docker Hub* utilizando un nombre y una constraeña válida, la cual debe de ser escrita dentro del archivo [~/contrasena.txt](src/contrasena.txt).\n",
    "\n",
    "    * El argumento ```cloudevel``` del parámetro ```-u``` debe de ser sustituido por un nombre de usuario válido.\n",
    "    * El parámetro ```--password-stdin``` permite capturar la contraseña desde la entrada estándar de una terminal. En este caso, este parámetro usará como contraseña el contenido que el comando ```cat``` extarerá del archivo ```src/contrasena.txt```. \n",
    "    \n",
    "**ADVERTENCIA:**\n",
    "\n",
    "Para poder ejecutar varios ejemplos de este capítulo es necesario que el registro de esta celda haya sido exitoso."
   ]
  },
  {
   "cell_type": "code",
   "execution_count": null,
   "metadata": {
    "scrolled": true
   },
   "outputs": [],
   "source": [
    "!cat ~/contrasena.txt | docker login -u cloudevel --password-stdin"
   ]
  },
  {
   "cell_type": "markdown",
   "metadata": {},
   "source": [
    "## El comando ```docker image```.\n",
    "\n",
    "Este comando cuenta a su vez con subcomandos especializados para la gestión de imágenes."
   ]
  },
  {
   "cell_type": "markdown",
   "metadata": {},
   "source": [
    "### El comando ```docker image ls```.\n",
    "\n",
    "Este comando es idéntico a ```docker images``` y despliega un listado de las imágenes existentes en un entorno local.\n",
    "\n",
    "```\n",
    "docker image ls\n",
    "``` \n",
    "\n",
    "Referencia: https://docs.docker.com/engine/reference/commandline/image_ls/"
   ]
  },
  {
   "cell_type": "markdown",
   "metadata": {},
   "source": [
    "**Ejemplo:**"
   ]
  },
  {
   "cell_type": "markdown",
   "metadata": {},
   "source": [
    "* La siguiente celda desplegará el listado de imágenes disponibles."
   ]
  },
  {
   "cell_type": "code",
   "execution_count": null,
   "metadata": {},
   "outputs": [],
   "source": [
    "!docker image ls"
   ]
  },
  {
   "cell_type": "code",
   "execution_count": null,
   "metadata": {},
   "outputs": [],
   "source": [
    "!docker images"
   ]
  },
  {
   "cell_type": "markdown",
   "metadata": {},
   "source": [
    "#### Filtros para el listado de imágenes.\n",
    "\n",
    "https://docs.docker.com/engine/reference/commandline/images/#filtering"
   ]
  },
  {
   "cell_type": "code",
   "execution_count": null,
   "metadata": {},
   "outputs": [],
   "source": [
    "!docker images ls --filter \"label\""
   ]
  },
  {
   "cell_type": "markdown",
   "metadata": {},
   "source": [
    "### El comando ```docker image build```.\n",
    "\n",
    "Este comando es idéntico a ```docker build``` y permite crear una imagen a partir de un *Dockerfile*.\n",
    "\n",
    "```\n",
    "docker image build <dockerfile>\n",
    "```\n",
    "\n",
    "Referencia: https://docs.docker.com/engine/reference/commandline/image_build/\n",
    "\n",
    "En el capítulo [04_dockerfile.ipynb](04_dockerfile.ipynb) se exploró la forma de crear imágenes a partir de un *Dockerfile*."
   ]
  },
  {
   "cell_type": "markdown",
   "metadata": {},
   "source": [
    "### El comando ```docker image pull```.\n",
    "\n",
    "Este comando es idéntico a ```docker pull``` y permite acceder a un *registry* y descargar o construir una imagen a partir de un repositorio.\n",
    "\n",
    "```\n",
    "docker image pull <fuente de la imagen>\n",
    "```\n",
    "\n",
    "Referencia: https://docs.docker.com/engine/reference/commandline/image_pull/"
   ]
  },
  {
   "cell_type": "markdown",
   "metadata": {},
   "source": [
    "**Ejemplos:**\n",
    "\n",
    "\n",
    "* Se construirá la imagen oficial de la versión ```6.10``` de CentOS desde *Docker Hub*."
   ]
  },
  {
   "cell_type": "code",
   "execution_count": null,
   "metadata": {
    "scrolled": true
   },
   "outputs": [],
   "source": [
    "!docker image pull centos:6.10"
   ]
  },
  {
   "cell_type": "code",
   "execution_count": null,
   "metadata": {
    "scrolled": true
   },
   "outputs": [],
   "source": [
    "!docker image ls --filter \"name=centos\""
   ]
  },
  {
   "cell_type": "markdown",
   "metadata": {},
   "source": [
    "* Se descargará la imagen *cloudevel/cd331:version_1* localizada en https://hub.docker.com/r/cloudevel/cd331/tags"
   ]
  },
  {
   "cell_type": "code",
   "execution_count": null,
   "metadata": {
    "scrolled": true
   },
   "outputs": [],
   "source": [
    "!docker image pull cloudevel/cd331:latest-1"
   ]
  },
  {
   "cell_type": "code",
   "execution_count": null,
   "metadata": {
    "scrolled": true
   },
   "outputs": [],
   "source": [
    "!docker images"
   ]
  },
  {
   "cell_type": "markdown",
   "metadata": {},
   "source": [
    "### El comando ```docker image inspect```.\n",
    "\n",
    "Este comando regresa un documento *JSON* con los detalles de una imagen.\n",
    "\n",
    "```\n",
    "docker image inspect <imagen>\n",
    "```\n",
    "\n",
    "Referencia: https://docs.docker.com/engine/reference/commandline/image_inspect/"
   ]
  },
  {
   "cell_type": "markdown",
   "metadata": {},
   "source": [
    "**Ejemplo:**\n",
    "\n",
    "* Se desplegarán los detalles de la imagen ```centos:6.10```."
   ]
  },
  {
   "cell_type": "code",
   "execution_count": null,
   "metadata": {},
   "outputs": [],
   "source": [
    "!docker image inspect centos:6.10"
   ]
  },
  {
   "cell_type": "markdown",
   "metadata": {},
   "source": [
    "### El comando ```docker image history```.\n",
    "\n",
    "Este comando despliega la historia de modificaciones de una imagen.\n",
    "\n",
    "```\n",
    "docker image history <imagen>\n",
    "```\n",
    "\n",
    "\n",
    "Referencia: https://docs.docker.com/engine/reference/commandline/image_history/"
   ]
  },
  {
   "cell_type": "markdown",
   "metadata": {},
   "source": [
    "**Ejemplo**\n",
    "\n",
    "* Se desplegarán la historia de la imagen ```cloudevel/cd331:version_1```."
   ]
  },
  {
   "cell_type": "code",
   "execution_count": null,
   "metadata": {},
   "outputs": [],
   "source": [
    "!docker image history nginx_image"
   ]
  },
  {
   "cell_type": "markdown",
   "metadata": {},
   "source": [
    "### El comando ```docker image rm```.\n",
    "\n",
    "Este comando es idéntico a ```docker rmi``` y elimina la imagen de un entorno local. \n",
    "\n",
    "\n",
    "```\n",
    "docker image rm <imagenes>\n",
    "```\n",
    "\n",
    "Es importante hacer notar que no es posible eliminar una imagen si existen contenedores creados a partir de éstas.\n",
    "\n",
    "Referencia: https://docs.docker.com/engine/reference/commandline/image_rm/"
   ]
  },
  {
   "cell_type": "markdown",
   "metadata": {},
   "source": [
    "**Ejemplo:**\n",
    "\n",
    "* Se creará y ejecutará un contenedor a partir de la imagen más reciente de la versión `20.04` del repositorio oficial de *Ubuntu*."
   ]
  },
  {
   "cell_type": "code",
   "execution_count": 1,
   "metadata": {},
   "outputs": [
    {
     "name": "stdout",
     "output_type": "stream",
     "text": [
      "Unable to find image 'ubuntu:20.04' locally\n",
      "20.04: Pulling from library/ubuntu\n",
      "\n",
      "\u001b[1BDigest: sha256:33a5cc25d22c45900796a1aca487ad7a7cb09f09ea00b779e3b2026b4fc2faba[1A\u001b[2K\u001b[1A\u001b[2K\u001b[1A\u001b[2K\u001b[1A\u001b[2K\u001b[1A\u001b[2K\u001b[1A\u001b[2K\u001b[1A\u001b[2K\u001b[1A\u001b[2K\u001b[1A\u001b[2K\u001b[1A\u001b[2K\u001b[1A\u001b[2K\u001b[1A\u001b[2K\u001b[1A\u001b[2K\u001b[1A\u001b[2K\u001b[1A\u001b[2K\u001b[1A\u001b[2K\u001b[1A\u001b[2K\u001b[1A\u001b[2K\u001b[1A\u001b[2K\u001b[1A\u001b[2K\u001b[1A\u001b[2K\u001b[1A\u001b[2K\u001b[1A\u001b[2K\u001b[1A\u001b[2K\u001b[1A\u001b[2K\u001b[1A\u001b[2K\u001b[1A\u001b[2K\u001b[1A\u001b[2K\u001b[1A\u001b[2K\u001b[1A\u001b[2K\u001b[1A\u001b[2K\u001b[1A\u001b[2K\n",
      "Status: Downloaded newer image for ubuntu:20.04\n",
      "ef203e903e198a59d1188cb62facd1f3c2f06a37c70b5db67cadc4ed42a573f3\n"
     ]
    }
   ],
   "source": [
    "!docker run -dit --name ubuntu-ejemplo ubuntu:20.04"
   ]
  },
  {
   "cell_type": "code",
   "execution_count": 2,
   "metadata": {},
   "outputs": [
    {
     "name": "stdout",
     "output_type": "stream",
     "text": [
      "REPOSITORY   TAG       IMAGE ID       CREATED       SIZE\n",
      "ubuntu       20.04     6df894023726   8 weeks ago   72.8MB\n"
     ]
    }
   ],
   "source": [
    "!docker images"
   ]
  },
  {
   "cell_type": "markdown",
   "metadata": {},
   "source": [
    "* Se intentará eliminar la imagen ```ubuntu:20.04```, pero debido a que existe un contenedor construido a partir de dicha imagen, no será posible."
   ]
  },
  {
   "cell_type": "code",
   "execution_count": 3,
   "metadata": {},
   "outputs": [
    {
     "name": "stdout",
     "output_type": "stream",
     "text": [
      "Error response from daemon: conflict: unable to remove repository reference \"ubuntu:20.04\" (must force) - container ef203e903e19 is using its referenced image 6df894023726\n"
     ]
    }
   ],
   "source": [
    "!docker image rm ubuntu:20.04"
   ]
  },
  {
   "cell_type": "markdown",
   "metadata": {},
   "source": [
    "* Se detendrá y eliminará al contenedor ```ubuntu-ejemplo```.\n",
    "* Se eliminará la imagen ```ubuntu:20.04```."
   ]
  },
  {
   "cell_type": "code",
   "execution_count": 5,
   "metadata": {},
   "outputs": [
    {
     "name": "stdout",
     "output_type": "stream",
     "text": [
      "ubuntu-ejemplo\n"
     ]
    }
   ],
   "source": [
    "!docker stop ubuntu-ejemplo"
   ]
  },
  {
   "cell_type": "code",
   "execution_count": 6,
   "metadata": {},
   "outputs": [
    {
     "name": "stdout",
     "output_type": "stream",
     "text": [
      "ubuntu-ejemplo\n"
     ]
    }
   ],
   "source": [
    "!docker rm ubuntu-ejemplo"
   ]
  },
  {
   "cell_type": "code",
   "execution_count": 7,
   "metadata": {},
   "outputs": [
    {
     "name": "stdout",
     "output_type": "stream",
     "text": [
      "Untagged: ubuntu:20.04\n",
      "Untagged: ubuntu@sha256:33a5cc25d22c45900796a1aca487ad7a7cb09f09ea00b779e3b2026b4fc2faba\n",
      "Deleted: sha256:6df89402372646d400cf092016c28066391a26f5d46c00b1153e75003465484d\n",
      "Deleted: sha256:954c82bdeb5fcc80094317528fa3fcbb1026aeff64f872527d35ec9b4343b84d\n"
     ]
    }
   ],
   "source": [
    "!docker image rm ubuntu:20.04"
   ]
  },
  {
   "cell_type": "code",
   "execution_count": 8,
   "metadata": {},
   "outputs": [
    {
     "name": "stdout",
     "output_type": "stream",
     "text": [
      "REPOSITORY   TAG       IMAGE ID   CREATED   SIZE\n"
     ]
    }
   ],
   "source": [
    "!docker images "
   ]
  },
  {
   "cell_type": "markdown",
   "metadata": {},
   "source": [
    "### El comando ```docker image prune```.\n",
    "\n",
    "Este comando eliminará todas aquellas imágenes que no estén siendo utilizadas.\n",
    "\n",
    "```\n",
    "docker image prune\n",
    "```\n",
    "\n",
    "Referencia: https://docs.docker.com/engine/reference/commandline/image_prune/"
   ]
  },
  {
   "cell_type": "markdown",
   "metadata": {},
   "source": [
    "**Ejemplo:**\n",
    "\n",
    "* Se eliminarán todas las imágenes que no estén siendo utilzadas. "
   ]
  },
  {
   "cell_type": "code",
   "execution_count": null,
   "metadata": {},
   "outputs": [],
   "source": [
    "!docker run -dit --name ubuntu-exp ubuntu"
   ]
  },
  {
   "cell_type": "code",
   "execution_count": null,
   "metadata": {},
   "outputs": [],
   "source": [
    "!docker images"
   ]
  },
  {
   "cell_type": "code",
   "execution_count": null,
   "metadata": {},
   "outputs": [],
   "source": [
    "!docker image prune -af"
   ]
  },
  {
   "cell_type": "code",
   "execution_count": null,
   "metadata": {},
   "outputs": [],
   "source": [
    "!docker images"
   ]
  },
  {
   "cell_type": "markdown",
   "metadata": {},
   "source": [
    "### El comando ```docker image import```.\n",
    "\n",
    "Este comando es idéntico a ```docker import``` y permite importar el contenido de un archivo con extensión ```.tar```, desde el cual se puede construir una imagen.\n",
    "\n",
    "```\n",
    "docker image import <archivo> <nombre>:<tag>\n",
    "```\n",
    "\n",
    "Referencia: https://docs.docker.com/engine/reference/commandline/image_import/"
   ]
  },
  {
   "cell_type": "code",
   "execution_count": null,
   "metadata": {},
   "outputs": [],
   "source": [
    "!docker images"
   ]
  },
  {
   "cell_type": "code",
   "execution_count": null,
   "metadata": {
    "scrolled": true
   },
   "outputs": [],
   "source": [
    "!docker image import nginx.tar servidor:latest"
   ]
  },
  {
   "cell_type": "code",
   "execution_count": null,
   "metadata": {},
   "outputs": [],
   "source": [
    "!docker image ls --filter name=servidor"
   ]
  },
  {
   "cell_type": "markdown",
   "metadata": {},
   "source": [
    "### El comando ```docker image load```.\n",
    "\n",
    "Este comando es idéntico a ```docker load``` y es similar a ```docker image import```, pero se puede escoger entre un archivo tar o STDIN.\n",
    "\n",
    "Referencia: https://docs.docker.com/engine/reference/commandline/image_load/"
   ]
  },
  {
   "cell_type": "markdown",
   "metadata": {},
   "source": [
    "### El comando ```docker image save```.\n",
    "\n",
    "Este comando es idéntico a ```docker save``` y puede guardar una o varias imágenes en un archivo tar o STDOUT.\n",
    "\n",
    "Referencia: https://docs.docker.com/engine/reference/commandline/image_save/"
   ]
  },
  {
   "cell_type": "code",
   "execution_count": null,
   "metadata": {},
   "outputs": [],
   "source": [
    "!docker image save nginx_image -o ultimo.tar"
   ]
  },
  {
   "cell_type": "code",
   "execution_count": null,
   "metadata": {},
   "outputs": [],
   "source": [
    "!tar -df ultimo.tar"
   ]
  },
  {
   "cell_type": "code",
   "execution_count": null,
   "metadata": {},
   "outputs": [],
   "source": [
    "!rm -f ultimo.tar"
   ]
  },
  {
   "cell_type": "markdown",
   "metadata": {},
   "source": [
    "### El comando ```docker image tag```.\n",
    "\n",
    "Este comando es idéntico a ```docker tag``` y se utiliza para asignarle nombre y tag a una imagen.\n",
    "\n",
    "Referencia: https://docs.docker.com/engine/reference/commandline/image_tag/"
   ]
  },
  {
   "cell_type": "code",
   "execution_count": null,
   "metadata": {},
   "outputs": [],
   "source": [
    "!docker images"
   ]
  },
  {
   "cell_type": "code",
   "execution_count": null,
   "metadata": {},
   "outputs": [],
   "source": [
    "!docker tag nginx_image cloudevel/nginx:latest"
   ]
  },
  {
   "cell_type": "code",
   "execution_count": null,
   "metadata": {},
   "outputs": [],
   "source": [
    "!docker image list"
   ]
  },
  {
   "cell_type": "markdown",
   "metadata": {},
   "source": [
    "### El comando ```docker image push```.\n",
    "\n",
    "Este comando se utiliza para subir una imagen a un regsistry.\n",
    "\n",
    "Referencia: https://docs.docker.com/engine/reference/commandline/image_push/"
   ]
  },
  {
   "cell_type": "code",
   "execution_count": null,
   "metadata": {
    "scrolled": true
   },
   "outputs": [],
   "source": [
    "!docker tag cloudevel/nginx:latest josechval/cd331:2309\n",
    "!docker push josechval/cd331:2309"
   ]
  },
  {
   "cell_type": "code",
   "execution_count": null,
   "metadata": {},
   "outputs": [],
   "source": [
    "!docker search josechval"
   ]
  },
  {
   "cell_type": "markdown",
   "metadata": {},
   "source": [
    "<p style=\"text-align: center\"><a rel=\"license\" href=\"http://creativecommons.org/licenses/by/4.0/\"><img alt=\"Licencia Creative Commons\" style=\"border-width:0\" src=\"https://i.creativecommons.org/l/by/4.0/80x15.png\" /></a><br />Esta obra está bajo una <a rel=\"license\" href=\"http://creativecommons.org/licenses/by/4.0/\">Licencia Creative Commons Atribución 4.0 Internacional</a>.</p>\n",
    "<p style=\"text-align: center\">&copy; José Luis Chiquete Valdivieso. 2023.</p>"
   ]
  }
 ],
 "metadata": {
  "kernelspec": {
   "display_name": "Python 3 (ipykernel)",
   "language": "python",
   "name": "python3"
  },
  "language_info": {
   "codemirror_mode": {
    "name": "ipython",
    "version": 3
   },
   "file_extension": ".py",
   "mimetype": "text/x-python",
   "name": "python",
   "nbconvert_exporter": "python",
   "pygments_lexer": "ipython3",
   "version": "3.11.2"
  }
 },
 "nbformat": 4,
 "nbformat_minor": 4
}
