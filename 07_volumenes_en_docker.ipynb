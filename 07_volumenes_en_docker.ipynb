{
 "cells": [
  {
   "cell_type": "markdown",
   "metadata": {},
   "source": [
    "[![cloudevel](Imagenes/cloudevel.png)](https://cloudevel.com)"
   ]
  },
  {
   "cell_type": "markdown",
   "metadata": {},
   "source": [
    "# Volúmenes en *Docker*."
   ]
  },
  {
   "cell_type": "markdown",
   "metadata": {},
   "source": [
    "## El sistema de archivos de un contenedor."
   ]
  },
  {
   "cell_type": "markdown",
   "metadata": {},
   "source": [
    "Los contenedores de *Docker* utilizan el sistema de archivos [*UnionFS*](https://www.gnu.org/software/hurd/hurd/translator/unionfs.html), el cual permite superponer \"capas\" de escritura sobre una imagen, de tal modo que la imagen original a partir de la que el contenedor fue creado queda intacta y cada operación de escritura ya sea un cambio, eliminación o creación de archivos representa una capa nueva, la cual sobreescribe al archivo de la capa inferior.\n",
    "\n",
    "Cada capa del contenedor tiene un identificador que permite seguir de forma pormenorizada la historia de operaciones de escritura de un contenedor.\n",
    "\n",
    "A cada contenedor se le asigna un espacio de almacenamiento propio, el cual es un volumen."
   ]
  },
  {
   "cell_type": "markdown",
   "metadata": {},
   "source": [
    "## Controladores de volúmenes.\n",
    "\n",
    "Con la finalidad de que los contenedores pueda interactuar con los sistemas de almacenamiento de datos externos, se han desarrollado diversos controladores (drivers) para acceder a dichos sistemas de archivos.\n",
    "\n",
    "La referencia a dichos drivers puede ser consultada en:\n",
    "\n",
    "https://docs.docker.com/storage/storagedriver/select-storage-driver/#supported-backing-filesystems"
   ]
  },
  {
   "cell_type": "markdown",
   "metadata": {},
   "source": [
    "## Opciones de montaje de volúmenes.\n",
    "\n",
    "El comando ```docker run``` permite dos opciones de montaje:\n",
    "\n",
    "* ```--volume``` o ```-v```, el cual se utiliza para correr un solo contenedor.\n",
    "* ```--mount``` o ```-m```. el cual se utiliza para correr uno o varios contenedores. \n",
    "\n",
    "La opción ```--mount``` se utilizaba originalmente para levantar \"enjambres\" (swarms) de contenedores y servicios complejos, pero en versiones recientes de *Docker* es posible usarla para la creación de un solo contenedor.\n",
    "\n",
    "El uso de la opción mount se explorará más adelante en el capítulo dedicado a servicios.\n",
    "\n",
    "Una discusión sobre el uso de cada opción puede ser consultado en:\n",
    "\n",
    "https://docs.docker.com/storage/volumes/#choose-the--v-or---mount-flag"
   ]
  },
  {
   "cell_type": "markdown",
   "metadata": {},
   "source": [
    "## El comando ```docker volume```.\n",
    "\n",
    "*Docker* tiene la capacida de definir y gestionar directorios que pueden ser aprovechados por uno o más contenedores. A cada directorio se le conoce como \"volumen\" y cada volumen se localiza dentro del directorio de volúmenes de *Docker*, generalmente en ```/var/lib/docker/volumes/```.\n",
    "\n",
    "Este comando permite realizar operaciones de gestión de volúmenes, los cuales pueden ser aprovechados por uno o por varios contenedores.\n",
    "\n",
    "``` \n",
    "docker volume <subcomandos> <opciones>\n",
    "```\n",
    "\n",
    "La documentación de ```docker volume ``` está disponible en:\n",
    "\n",
    "https://docs.docker.com/engine/reference/commandline/volume/"
   ]
  },
  {
   "cell_type": "markdown",
   "metadata": {},
   "source": [
    "### El comando ```docker volume create```.\n",
    "\n",
    "Este comando permite definir y nombrar un volumen, el cual puede ser utilizado por uno o varios contenedores.\n",
    "\n",
    "```\n",
    "docker volume create <opciones>\n",
    "```\n",
    "\n",
    "Las opciones son:\n",
    "\n",
    "* ```--driver``` o ```-d``` cuyo valor por defecto es ```local```.\n",
    "* ```--name``` la cual le asigna un nombre al volumen mediante el cual puede ser referenciado.\n",
    "* ```--options``` la cual permite definir diversas opciones relacionadas con el controlador del volumen.\n",
    "* ```--labels``` la cual permite definir metadatos del volumen.\n",
    "\n",
    "La documentación de este comando está disponible en:\n",
    "\n",
    "https://docs.docker.com/engine/reference/commandline/volume_create/"
   ]
  },
  {
   "cell_type": "markdown",
   "metadata": {},
   "source": [
    "**Ejemplo:**"
   ]
  },
  {
   "cell_type": "code",
   "execution_count": null,
   "metadata": {
    "scrolled": true
   },
   "outputs": [],
   "source": [
    "sudo docker volume create --name=mi_volumen"
   ]
  },
  {
   "cell_type": "code",
   "execution_count": null,
   "metadata": {},
   "outputs": [],
   "source": [
    "sudo docker volume create mi_otro_volumen"
   ]
  },
  {
   "cell_type": "markdown",
   "metadata": {},
   "source": [
    "### El comando ```docker volume ls```.\n",
    "\n",
    "Este comando permite desplegar el listado de volumenes existenes.\n",
    "\n",
    "```\n",
    "docker volume ls\n",
    "```\n",
    "\n",
    "La documentación de este comando está disponible en:\n",
    "\n",
    "https://docs.docker.com/engine/reference/commandline/volume_ls"
   ]
  },
  {
   "cell_type": "markdown",
   "metadata": {},
   "source": [
    "**Ejemplo:**"
   ]
  },
  {
   "cell_type": "code",
   "execution_count": null,
   "metadata": {},
   "outputs": [],
   "source": [
    "sudo docker volume ls"
   ]
  },
  {
   "cell_type": "markdown",
   "metadata": {},
   "source": [
    "### El comando ```docker volume inspect```.\n",
    "\n",
    "Este comando permite acceder a la información de un volumen.\n",
    "\n",
    "```\n",
    "docker volume inspect <volumen>\n",
    "```\n",
    "\n",
    "La documentación de este comando está disponible en:\n",
    "\n",
    "https://docs.docker.com/engine/reference/commandline/volume_inspect"
   ]
  },
  {
   "cell_type": "markdown",
   "metadata": {},
   "source": [
    "**Ejemplo:**"
   ]
  },
  {
   "cell_type": "code",
   "execution_count": null,
   "metadata": {
    "scrolled": true
   },
   "outputs": [],
   "source": [
    "sudo docker volume inspect mi_volumen"
   ]
  },
  {
   "cell_type": "markdown",
   "metadata": {},
   "source": [
    "### El comando ```docker volume rm```.\n",
    "\n",
    "Este comando permite eliminar un volumen existenes.\n",
    "\n",
    "```\n",
    "docker volume rm <dentificador>\n",
    "```\n",
    "\n",
    "La documentación de este comando está disponible en:\n",
    "\n",
    "https://docs.docker.com/engine/reference/commandline/volume_rm"
   ]
  },
  {
   "cell_type": "markdown",
   "metadata": {},
   "source": [
    "**Ejemplo:**"
   ]
  },
  {
   "cell_type": "code",
   "execution_count": null,
   "metadata": {},
   "outputs": [],
   "source": [
    "sudo docker volume rm mi_volumen"
   ]
  },
  {
   "cell_type": "code",
   "execution_count": null,
   "metadata": {
    "scrolled": true
   },
   "outputs": [],
   "source": [
    "sudo docker volume ls"
   ]
  },
  {
   "cell_type": "markdown",
   "metadata": {},
   "source": [
    "### El comando ```docker volume prune```.\n",
    "\n",
    "Este comando permite eliminar aquellos volúmenes que no estén en uso.\n",
    "\n",
    "```\n",
    "docker volume prune\n",
    "```\n",
    "\n",
    "La documentación de este comando está disponible en:\n",
    "\n",
    "https://docs.docker.com/engine/reference/commandline/volume_prune"
   ]
  },
  {
   "cell_type": "markdown",
   "metadata": {},
   "source": [
    "**Ejemplo:**"
   ]
  },
  {
   "cell_type": "markdown",
   "metadata": {},
   "source": [
    "Desde una terminal ejecute los comando:\n",
    "\n",
    "```\n",
    "sudo docker volume prune\n",
    "sudo docker volume ls\n",
    "```"
   ]
  },
  {
   "cell_type": "code",
   "execution_count": null,
   "metadata": {},
   "outputs": [],
   "source": [
    "sudo docker container inspect ubuntu-2"
   ]
  },
  {
   "cell_type": "code",
   "execution_count": null,
   "metadata": {},
   "outputs": [],
   "source": [
    "sudo docker rm ubuntu-2"
   ]
  },
  {
   "cell_type": "code",
   "execution_count": null,
   "metadata": {},
   "outputs": [],
   "source": [
    "sudo docker volume ls"
   ]
  },
  {
   "cell_type": "markdown",
   "metadata": {},
   "source": [
    "<p style=\"text-align: center\"><a rel=\"license\" href=\"http://creativecommons.org/licenses/by/4.0/\"><img alt=\"Licencia Creative Commons\" style=\"border-width:0\" src=\"https://i.creativecommons.org/l/by/4.0/80x15.png\" /></a><br />Esta obra está bajo una <a rel=\"license\" href=\"http://creativecommons.org/licenses/by/4.0/\">Licencia Creative Commons Atribución 4.0 Internacional</a>.</p>\n",
    "<p style=\"text-align: center\">&copy; José Luis Chiquete Valdivieso. 2020.</p>"
   ]
  }
 ],
 "metadata": {
  "kernelspec": {
   "display_name": "Bash",
   "language": "bash",
   "name": "bash"
  },
  "language_info": {
   "codemirror_mode": "shell",
   "file_extension": ".sh",
   "mimetype": "text/x-sh",
   "name": "bash"
  }
 },
 "nbformat": 4,
 "nbformat_minor": 2
}
