{
 "cells": [
  {
   "cell_type": "markdown",
   "metadata": {},
   "source": [
    "[![cloudevel](img/cloudevel.png)](https://cloudevel.com)"
   ]
  },
  {
   "cell_type": "markdown",
   "metadata": {},
   "source": [
    "# Volúmenes en *Docker*."
   ]
  },
  {
   "cell_type": "markdown",
   "metadata": {},
   "source": [
    "## El sistema de archivos de un contenedor."
   ]
  },
  {
   "cell_type": "markdown",
   "metadata": {},
   "source": [
    "Los contenedores de *Docker* utilizan el sistema de archivos [*UnionFS*](https://www.gnu.org/software/hurd/hurd/translator/unionfs.html), el cual permite superponer \"capas\" de escritura sobre una imagen, de tal modo que la imagen original a partir de la que el contenedor fue creado queda intacta y cada operación de escritura ya sea un cambio, eliminación o creación de archivos representa una capa nueva, la cual sobreescribe al archivo de la capa inferior.\n",
    "\n",
    "Cada capa del contenedor tiene un identificador que permite seguir de forma pormenorizada la historia de operaciones de escritura de un contenedor.\n",
    "\n",
    "A cada contenedor se le asigna un espacio de almacenamiento propio, el cual es un volumen."
   ]
  },
  {
   "cell_type": "markdown",
   "metadata": {},
   "source": [
    "## Controladores de volúmenes.\n",
    "\n",
    "Con la finalidad de que los contenedores pueda interactuar con los sistemas de almacenamiento de datos externos, se han desarrollado diversos controladores (drivers) para acceder a dichos sistemas de archivos.\n",
    "\n",
    "La referencia a dichos drivers puede ser consultada en:\n",
    "\n",
    "https://docs.docker.com/storage/storagedriver/select-storage-driver/#supported-backing-filesystems"
   ]
  },
  {
   "cell_type": "markdown",
   "metadata": {},
   "source": [
    "## Opciones de montaje de volúmenes.\n",
    "\n",
    "El comando ```docker run``` permite dos opciones de montaje:\n",
    "\n",
    "* ```--volume``` o ```-v```, el cual se utiliza para correr un solo contenedor.\n",
    "* ```--mount``` o ```-m```. el cual se utiliza para correr uno o varios contenedores. \n",
    "\n",
    "La opción ```--mount``` se utilizaba originalmente para levantar \"enjambres\" (swarms) de contenedores y servicios complejos, pero en versiones recientes de *Docker* es posible usarla para la creación de un solo contenedor.\n",
    "\n",
    "El uso de la opción mount se explorará más adelante en el capítulo dedicado a servicios.\n",
    "\n",
    "Una discusión sobre el uso de cada opción puede ser consultado en:\n",
    "\n",
    "https://docs.docker.com/storage/volumes/#choose-the--v-or---mount-flag"
   ]
  },
  {
   "cell_type": "markdown",
   "metadata": {},
   "source": [
    "## El comando ```docker volume```.\n",
    "\n",
    "*Docker* tiene la capacida de definir y gestionar directorios que pueden ser aprovechados por uno o más contenedores. A cada directorio se le conoce como \"volumen\" y cada volumen se localiza dentro del directorio de volúmenes de *Docker*, generalmente en ```/var/lib/docker/volumes/```.\n",
    "\n",
    "Este comando permite realizar operaciones de gestión de volúmenes, los cuales pueden ser aprovechados por uno o por varios contenedores.\n",
    "\n",
    "``` \n",
    "docker volume <subcomandos> <opciones>\n",
    "```\n",
    "\n",
    "La documentación de ```docker volume ``` está disponible en:\n",
    "\n",
    "https://docs.docker.com/engine/reference/commandline/volume/"
   ]
  },
  {
   "cell_type": "markdown",
   "metadata": {},
   "source": [
    "### El comando ```docker volume create```.\n",
    "\n",
    "Este comando permite definir y nombrar un volumen, el cual puede ser utilizado por uno o varios contenedores.\n",
    "\n",
    "```\n",
    "docker volume create <opciones>\n",
    "```\n",
    "\n",
    "Las opciones son:\n",
    "\n",
    "* ```--driver``` o ```-d``` cuyo valor por defecto es ```local```.\n",
    "* ```--name``` la cual le asigna un nombre al volumen mediante el cual puede ser referenciado.\n",
    "* ```--options``` la cual permite definir diversas opciones relacionadas con el controlador del volumen.\n",
    "* ```--labels``` la cual permite definir metadatos del volumen.\n",
    "\n",
    "La documentación de este comando está disponible en:\n",
    "\n",
    "https://docs.docker.com/engine/reference/commandline/volume_create/"
   ]
  },
  {
   "cell_type": "markdown",
   "metadata": {},
   "source": [
    "**Ejemplo:**"
   ]
  },
  {
   "cell_type": "code",
   "execution_count": 1,
   "metadata": {
    "scrolled": true
   },
   "outputs": [
    {
     "name": "stdout",
     "output_type": "stream",
     "text": [
      "mi_volumen\n"
     ]
    }
   ],
   "source": [
    "!docker volume create --name=mi_volumen"
   ]
  },
  {
   "cell_type": "markdown",
   "metadata": {},
   "source": [
    "### El comando ```docker volume ls```.\n",
    "\n",
    "Este comando permite desplegar el listado de volumenes existenes.\n",
    "\n",
    "```\n",
    "docker volume ls\n",
    "```\n",
    "\n",
    "La documentación de este comando está disponible en:\n",
    "\n",
    "https://docs.docker.com/engine/reference/commandline/volume_ls"
   ]
  },
  {
   "cell_type": "markdown",
   "metadata": {},
   "source": [
    "**Ejemplo:**"
   ]
  },
  {
   "cell_type": "code",
   "execution_count": 2,
   "metadata": {},
   "outputs": [
    {
     "name": "stdout",
     "output_type": "stream",
     "text": [
      "DRIVER    VOLUME NAME\n",
      "local     1f1b885617a1e53a8381b815a012d218a2e710ab954d0303469831a357ff34ef\n",
      "local     01fe278c7ae25c21d3a41fc75b198efb740aea2258594384281e5b43560c7e5e\n",
      "local     7d2220eb033de4aa80ec6a58852146e8d92dca9c38dcfe0a341c457722beb0f5\n",
      "local     8e1f064581b15055d2e08397e0ccab4d977e40512b1413a7c146cef19197b1ff\n",
      "local     9cfdbab65ab08dc9f151f12689acc9d111b963627dd2b35e7306005969b953c7\n",
      "local     77d855295e6439b3f100a98e16008193d0007661a602a97d2585f6c1126b5238\n",
      "local     271c7bfd94abeb3ef27c1b3e77dc13165ed1dcf0c1426ee8f0559b9e868cf799\n",
      "local     551fc7fd7b40873e540f6ca9b5d86ccc97f4780dc2936afd68aa0e49794b2d7d\n",
      "local     2619b751287a8d1bd2deedaae56cb14ed88230ff876fd90db50d790edecfa304\n",
      "local     83162dbee7cde574623d96a31426577c2bcb89f3e57b2b664724174a4e59a06a\n",
      "local     513882d6327de9eca0ec9c917eb56437f7763ea42ed080fe6957e680b1ce3eaa\n",
      "local     b66eb08b01ffa06ce84e787c4cc33ae96c98cfa0b51f072828e964e534c0637a\n",
      "local     bf0b4f4cb2725f07cdadaa828b926fc43a45eefd02a557cd443b2082b83a8731\n",
      "local     cea1f60fdd34e290fa580428499523d702aa22adb91e5586276dbc3d195c105f\n",
      "local     mi_volumen\n"
     ]
    }
   ],
   "source": [
    "!docker volume ls"
   ]
  },
  {
   "cell_type": "markdown",
   "metadata": {},
   "source": [
    "### El comando ```docker volume inspect```.\n",
    "\n",
    "Este comando permite acceder a la información de un volumen.\n",
    "\n",
    "```\n",
    "docker volume inspect <volumen>\n",
    "```\n",
    "\n",
    "La documentación de este comando está disponible en:\n",
    "\n",
    "https://docs.docker.com/engine/reference/commandline/volume_inspect"
   ]
  },
  {
   "cell_type": "markdown",
   "metadata": {},
   "source": [
    "**Ejemplo:**"
   ]
  },
  {
   "cell_type": "code",
   "execution_count": 3,
   "metadata": {
    "scrolled": true
   },
   "outputs": [
    {
     "name": "stdout",
     "output_type": "stream",
     "text": [
      "[\n",
      "    {\n",
      "        \"CreatedAt\": \"2023-09-27T10:13:25-06:00\",\n",
      "        \"Driver\": \"local\",\n",
      "        \"Labels\": {},\n",
      "        \"Mountpoint\": \"/var/lib/docker/volumes/mi_volumen/_data\",\n",
      "        \"Name\": \"mi_volumen\",\n",
      "        \"Options\": {},\n",
      "        \"Scope\": \"local\"\n",
      "    }\n",
      "]\n"
     ]
    }
   ],
   "source": [
    "!docker volume inspect mi_volumen"
   ]
  },
  {
   "cell_type": "markdown",
   "metadata": {},
   "source": [
    "### El comando ```docker volume rm```.\n",
    "\n",
    "Este comando permite eliminar un volumen existenes.\n",
    "\n",
    "```\n",
    "docker volume rm <dentificador>\n",
    "```\n",
    "\n",
    "La documentación de este comando está disponible en:\n",
    "\n",
    "https://docs.docker.com/engine/reference/commandline/volume_rm"
   ]
  },
  {
   "cell_type": "markdown",
   "metadata": {},
   "source": [
    "**Ejemplo:**"
   ]
  },
  {
   "cell_type": "code",
   "execution_count": 4,
   "metadata": {},
   "outputs": [
    {
     "name": "stdout",
     "output_type": "stream",
     "text": [
      "mi_volumen\n"
     ]
    }
   ],
   "source": [
    "!docker volume rm mi_volumen"
   ]
  },
  {
   "cell_type": "code",
   "execution_count": 5,
   "metadata": {
    "scrolled": true
   },
   "outputs": [
    {
     "name": "stdout",
     "output_type": "stream",
     "text": [
      "DRIVER    VOLUME NAME\n",
      "local     1f1b885617a1e53a8381b815a012d218a2e710ab954d0303469831a357ff34ef\n",
      "local     01fe278c7ae25c21d3a41fc75b198efb740aea2258594384281e5b43560c7e5e\n",
      "local     7d2220eb033de4aa80ec6a58852146e8d92dca9c38dcfe0a341c457722beb0f5\n",
      "local     8e1f064581b15055d2e08397e0ccab4d977e40512b1413a7c146cef19197b1ff\n",
      "local     9cfdbab65ab08dc9f151f12689acc9d111b963627dd2b35e7306005969b953c7\n",
      "local     77d855295e6439b3f100a98e16008193d0007661a602a97d2585f6c1126b5238\n",
      "local     271c7bfd94abeb3ef27c1b3e77dc13165ed1dcf0c1426ee8f0559b9e868cf799\n",
      "local     551fc7fd7b40873e540f6ca9b5d86ccc97f4780dc2936afd68aa0e49794b2d7d\n",
      "local     2619b751287a8d1bd2deedaae56cb14ed88230ff876fd90db50d790edecfa304\n",
      "local     83162dbee7cde574623d96a31426577c2bcb89f3e57b2b664724174a4e59a06a\n",
      "local     513882d6327de9eca0ec9c917eb56437f7763ea42ed080fe6957e680b1ce3eaa\n",
      "local     b66eb08b01ffa06ce84e787c4cc33ae96c98cfa0b51f072828e964e534c0637a\n",
      "local     bf0b4f4cb2725f07cdadaa828b926fc43a45eefd02a557cd443b2082b83a8731\n",
      "local     cea1f60fdd34e290fa580428499523d702aa22adb91e5586276dbc3d195c105f\n"
     ]
    }
   ],
   "source": [
    "!docker volume ls"
   ]
  },
  {
   "cell_type": "markdown",
   "metadata": {},
   "source": [
    "### El comando ```docker volume prune```.\n",
    "\n",
    "Este comando permite eliminar aquellos volúmenes que no estén en uso.\n",
    "\n",
    "```\n",
    "docker volume prune\n",
    "```\n",
    "\n",
    "La documentación de este comando está disponible en:\n",
    "\n",
    "https://docs.docker.com/engine/reference/commandline/volume_prune"
   ]
  },
  {
   "cell_type": "markdown",
   "metadata": {},
   "source": [
    "**Ejemplo:**"
   ]
  },
  {
   "cell_type": "markdown",
   "metadata": {},
   "source": [
    "Desde una terminal ejecute los comando:\n",
    "\n",
    "```\n",
    "docker volume prune\n",
    "docker volume ls\n",
    "```"
   ]
  },
  {
   "cell_type": "markdown",
   "metadata": {},
   "source": [
    "<p style=\"text-align: center\"><a rel=\"license\" href=\"http://creativecommons.org/licenses/by/4.0/\"><img alt=\"Licencia Creative Commons\" style=\"border-width:0\" src=\"https://i.creativecommons.org/l/by/4.0/80x15.png\" /></a><br />Esta obra está bajo una <a rel=\"license\" href=\"http://creativecommons.org/licenses/by/4.0/\">Licencia Creative Commons Atribución 4.0 Internacional</a>.</p>\n",
    "<p style=\"text-align: center\">&copy; José Luis Chiquete Valdivieso. 2023.</p>"
   ]
  }
 ],
 "metadata": {
  "kernelspec": {
   "display_name": "Python 3 (ipykernel)",
   "language": "python",
   "name": "python3"
  },
  "language_info": {
   "codemirror_mode": {
    "name": "ipython",
    "version": 3
   },
   "file_extension": ".py",
   "mimetype": "text/x-python",
   "name": "python",
   "nbconvert_exporter": "python",
   "pygments_lexer": "ipython3",
   "version": "3.11.2"
  }
 },
 "nbformat": 4,
 "nbformat_minor": 4
}
